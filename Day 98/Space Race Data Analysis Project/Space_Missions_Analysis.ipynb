{
  "nbformat": 4,
  "nbformat_minor": 0,
  "metadata": {
    "kernelspec": {
      "display_name": "Python 3",
      "language": "python",
      "name": "python3"
    },
    "language_info": {
      "codemirror_mode": {
        "name": "ipython",
        "version": 3
      },
      "file_extension": ".py",
      "mimetype": "text/x-python",
      "name": "python",
      "nbconvert_exporter": "python",
      "pygments_lexer": "ipython3",
      "version": "3.7.9"
    },
    "papermill": {
      "duration": 28.468597,
      "end_time": "2020-10-20T21:34:26.910951",
      "environment_variables": {},
      "exception": null,
      "input_path": "__notebook__.ipynb",
      "output_path": "__notebook__.ipynb",
      "parameters": {},
      "start_time": "2020-10-20T21:33:58.442354",
      "version": "2.1.0"
    },
    "colab": {
      "name": "Space_Missions_Analysis.ipynb",
      "provenance": [],
      "collapsed_sections": []
    }
  },
  "cells": [
    {
      "cell_type": "markdown",
      "metadata": {
        "id": "ka_FkvXBiABo"
      },
      "source": [
        "# Introduction"
      ]
    },
    {
      "cell_type": "markdown",
      "metadata": {
        "papermill": {
          "duration": 0.035434,
          "end_time": "2020-10-20T21:34:01.886225",
          "exception": false,
          "start_time": "2020-10-20T21:34:01.850791",
          "status": "completed"
        },
        "tags": [],
        "id": "AWaMmfxXa-p0"
      },
      "source": [
        "<center><img src=\"https://i.imgur.com/9hLRsjZ.jpg\" height=400></center>\n",
        "\n",
        "This dataset was scraped from [nextspaceflight.com](https://nextspaceflight.com/launches/past/?page=1) and includes all the space missions since the beginning of Space Race between the USA and the Soviet Union in 1957!"
      ]
    },
    {
      "cell_type": "markdown",
      "metadata": {
        "id": "ufzKRKS3bV0r"
      },
      "source": [
        "### Install Package with Country Codes"
      ]
    },
    {
      "cell_type": "code",
      "metadata": {
        "id": "0HxV9o6dbRUE",
        "outputId": "99390823-620f-4209-8732-79471bfa7dd5",
        "colab": {
          "base_uri": "https://localhost:8080/"
        }
      },
      "source": [
        "%pip install iso3166"
      ],
      "execution_count": 198,
      "outputs": [
        {
          "output_type": "stream",
          "name": "stdout",
          "text": [
            "Looking in indexes: https://pypi.org/simple, https://us-python.pkg.dev/colab-wheels/public/simple/\n",
            "Requirement already satisfied: iso3166 in /usr/local/lib/python3.7/dist-packages (2.0.2)\n"
          ]
        }
      ]
    },
    {
      "cell_type": "markdown",
      "metadata": {
        "id": "sghkhFoLbof8"
      },
      "source": [
        "### Upgrade Plotly\n",
        "\n",
        "Run the cell below if you are working with Google Colab."
      ]
    },
    {
      "cell_type": "code",
      "metadata": {
        "id": "gQ61wy9gbmxd",
        "outputId": "08358147-1a78-48fc-e961-4537e70c92e2",
        "colab": {
          "base_uri": "https://localhost:8080/"
        }
      },
      "source": [
        "%pip install --upgrade plotly"
      ],
      "execution_count": 199,
      "outputs": [
        {
          "output_type": "stream",
          "name": "stdout",
          "text": [
            "Looking in indexes: https://pypi.org/simple, https://us-python.pkg.dev/colab-wheels/public/simple/\n",
            "Requirement already satisfied: plotly in /usr/local/lib/python3.7/dist-packages (5.8.2)\n",
            "Requirement already satisfied: tenacity>=6.2.0 in /usr/local/lib/python3.7/dist-packages (from plotly) (8.0.1)\n"
          ]
        }
      ]
    },
    {
      "cell_type": "code",
      "source": [
        "%pip install pycountry"
      ],
      "metadata": {
        "colab": {
          "base_uri": "https://localhost:8080/"
        },
        "id": "Siwb3HLwvgSl",
        "outputId": "31ed0b88-b6e9-4757-80b6-f99978fd017f"
      },
      "execution_count": 200,
      "outputs": [
        {
          "output_type": "stream",
          "name": "stdout",
          "text": [
            "Looking in indexes: https://pypi.org/simple, https://us-python.pkg.dev/colab-wheels/public/simple/\n",
            "Requirement already satisfied: pycountry in /usr/local/lib/python3.7/dist-packages (22.3.5)\n",
            "Requirement already satisfied: setuptools in /usr/local/lib/python3.7/dist-packages (from pycountry) (57.4.0)\n"
          ]
        }
      ]
    },
    {
      "cell_type": "markdown",
      "metadata": {
        "id": "ErFDBihUi1jN"
      },
      "source": [
        "### Import Statements"
      ]
    },
    {
      "cell_type": "code",
      "metadata": {
        "_cell_guid": "b1076dfc-b9ad-4769-8c92-a6c4dae69d19",
        "_kg_hide-input": true,
        "_kg_hide-output": true,
        "_uuid": "8f2839f25d086af736a60e9eeb907d3b93b6e0e5",
        "execution": {
          "iopub.execute_input": "2020-10-20T21:34:02.101551Z",
          "iopub.status.busy": "2020-10-20T21:34:02.101085Z",
          "iopub.status.idle": "2020-10-20T21:34:03.726868Z",
          "shell.execute_reply": "2020-10-20T21:34:03.725783Z"
        },
        "papermill": {
          "duration": 1.665326,
          "end_time": "2020-10-20T21:34:03.726995",
          "exception": false,
          "start_time": "2020-10-20T21:34:02.061669",
          "status": "completed"
        },
        "tags": [],
        "id": "xdolY0-Sa-p1"
      },
      "source": [
        "import numpy as np\n",
        "import pandas as pd\n",
        "import plotly.express as px\n",
        "import matplotlib.pyplot as plt\n",
        "import seaborn as sns\n",
        "\n",
        "# These might be helpful:\n",
        "from iso3166 import countries\n",
        "from datetime import datetime, timedelta\n",
        "import pycountry"
      ],
      "execution_count": 201,
      "outputs": []
    },
    {
      "cell_type": "markdown",
      "metadata": {
        "id": "lovGPRgKxIgo"
      },
      "source": [
        "### Notebook Presentation"
      ]
    },
    {
      "cell_type": "code",
      "metadata": {
        "id": "DHEULCOjxIIm"
      },
      "source": [
        "pd.options.display.float_format = '{:,.2f}'.format"
      ],
      "execution_count": 217,
      "outputs": []
    },
    {
      "cell_type": "markdown",
      "metadata": {
        "papermill": {
          "duration": 0.034606,
          "end_time": "2020-10-20T21:34:03.798396",
          "exception": false,
          "start_time": "2020-10-20T21:34:03.763790",
          "status": "completed"
        },
        "tags": [],
        "id": "yaT3QbjEa-p4"
      },
      "source": [
        "### Load the Data"
      ]
    },
    {
      "cell_type": "code",
      "metadata": {
        "_cell_guid": "79c7e3d0-c299-4dcb-8224-4455121ee9b0",
        "_kg_hide-input": true,
        "_uuid": "d629ff2d2480ee46fbb7e2d37f6b5fab8052498a",
        "execution": {
          "iopub.execute_input": "2020-10-20T21:34:03.874195Z",
          "iopub.status.busy": "2020-10-20T21:34:03.873775Z",
          "iopub.status.idle": "2020-10-20T21:34:03.921919Z",
          "shell.execute_reply": "2020-10-20T21:34:03.921418Z"
        },
        "papermill": {
          "duration": 0.08876,
          "end_time": "2020-10-20T21:34:03.922028",
          "exception": false,
          "start_time": "2020-10-20T21:34:03.833268",
          "status": "completed"
        },
        "tags": [],
        "id": "0lDOu8aka-p4"
      },
      "source": [
        "df_data = pd.read_csv('mission_launches.csv')"
      ],
      "execution_count": 218,
      "outputs": []
    },
    {
      "cell_type": "markdown",
      "metadata": {
        "id": "jAnMiVcVjuKB"
      },
      "source": [
        "# Preliminary Data Exploration\n",
        "\n",
        "* What is the shape of `df_data`? \n",
        "* How many rows and columns does it have?\n",
        "* What are the column names?\n",
        "* Are there any NaN values or duplicates?"
      ]
    },
    {
      "cell_type": "code",
      "metadata": {
        "id": "0tIuYcYNlPFQ",
        "colab": {
          "base_uri": "https://localhost:8080/"
        },
        "outputId": "91aeb962-77d5-498b-b4d0-8cc6e02a2dff"
      },
      "source": [
        "df_data.shape  # (rows, columns)"
      ],
      "execution_count": 219,
      "outputs": [
        {
          "output_type": "execute_result",
          "data": {
            "text/plain": [
              "(6187, 8)"
            ]
          },
          "metadata": {},
          "execution_count": 219
        }
      ]
    },
    {
      "cell_type": "code",
      "metadata": {
        "id": "0dw2hd9UlPmP",
        "colab": {
          "base_uri": "https://localhost:8080/"
        },
        "outputId": "b87c6edd-47ae-4952-adcc-2ba7d37e3028"
      },
      "source": [
        "df_data.columns"
      ],
      "execution_count": 220,
      "outputs": [
        {
          "output_type": "execute_result",
          "data": {
            "text/plain": [
              "Index(['Unnamed: 0', 'Organisation', 'Location', 'Date', 'Details',\n",
              "       'Rocket_Status', 'Price', 'Mission_Status'],\n",
              "      dtype='object')"
            ]
          },
          "metadata": {},
          "execution_count": 220
        }
      ]
    },
    {
      "cell_type": "markdown",
      "metadata": {
        "papermill": {
          "duration": 0.05406,
          "end_time": "2020-10-20T21:34:04.149973",
          "exception": false,
          "start_time": "2020-10-20T21:34:04.095913",
          "status": "completed"
        },
        "tags": [],
        "id": "KUN30y6ja-p9"
      },
      "source": [
        "## Data Cleaning - Check for Missing Values and Duplicates\n",
        "\n",
        "Consider removing columns containing junk data. "
      ]
    },
    {
      "cell_type": "code",
      "metadata": {
        "id": "wWQvnJb0k2Ig",
        "colab": {
          "base_uri": "https://localhost:8080/"
        },
        "outputId": "6b0786fa-7e77-4eb1-a69e-003d6cf5fe14"
      },
      "source": [
        "df_data.isna().values.any()"
      ],
      "execution_count": 221,
      "outputs": [
        {
          "output_type": "execute_result",
          "data": {
            "text/plain": [
              "True"
            ]
          },
          "metadata": {},
          "execution_count": 221
        }
      ]
    },
    {
      "cell_type": "code",
      "metadata": {
        "id": "SfxVooCYk2As",
        "colab": {
          "base_uri": "https://localhost:8080/"
        },
        "outputId": "30f4e5cd-3a0d-44a0-855b-c35d3403f0fd"
      },
      "source": [
        "# remove N/A values\n",
        "\n",
        "df_data.dropna(inplace=True)\n",
        "df_data.isna().values.any()  # check if cleared"
      ],
      "execution_count": 222,
      "outputs": [
        {
          "output_type": "execute_result",
          "data": {
            "text/plain": [
              "False"
            ]
          },
          "metadata": {},
          "execution_count": 222
        }
      ]
    },
    {
      "cell_type": "code",
      "source": [
        "df_data.duplicated().values.any()  # no duplicates so we can move on"
      ],
      "metadata": {
        "colab": {
          "base_uri": "https://localhost:8080/"
        },
        "id": "6oZkVEaBvIDa",
        "outputId": "90a4479f-1394-4f4e-c903-ac96f24a6f0b"
      },
      "execution_count": 223,
      "outputs": [
        {
          "output_type": "execute_result",
          "data": {
            "text/plain": [
              "False"
            ]
          },
          "metadata": {},
          "execution_count": 223
        }
      ]
    },
    {
      "cell_type": "markdown",
      "metadata": {
        "papermill": {
          "duration": 0.036712,
          "end_time": "2020-10-20T21:34:05.227032",
          "exception": false,
          "start_time": "2020-10-20T21:34:05.190320",
          "status": "completed"
        },
        "tags": [],
        "id": "QHon_T5sa-p_"
      },
      "source": [
        "## Descriptive Statistics"
      ]
    },
    {
      "cell_type": "code",
      "metadata": {
        "id": "Fh1-libjkJIK",
        "colab": {
          "base_uri": "https://localhost:8080/",
          "height": 206
        },
        "outputId": "fc96d3e1-045a-452c-eb86-a1e69e44751c"
      },
      "source": [
        "df_data.head()"
      ],
      "execution_count": 224,
      "outputs": [
        {
          "output_type": "execute_result",
          "data": {
            "text/plain": [
              "   Unnamed: 0 Organisation                                           Location  \\\n",
              "0           0  Arianespace  ELV-1, Guiana Space Centre, French Guiana, France   \n",
              "1           1         ISRO  Second Launch Pad, Satish Dhawan Space Centre,...   \n",
              "2           2     Northrop      LP-0A, Wallops Flight Facility, Virginia, USA   \n",
              "3           3         CASC       LC-2, Xichang Satellite Launch Center, China   \n",
              "4           4         CASC      LC-16, Taiyuan Satellite Launch Center, China   \n",
              "\n",
              "                         Date                                Details  \\\n",
              "0  Tue Aug 17, 2021 01:47 UTC  Vega | Pléiades-Néo 4, BRO-4 & Others   \n",
              "1  Thu Aug 12, 2021 00:13 UTC                    GSLV Mk II | EOS-03   \n",
              "2  Tue Aug 10, 2021 22:01 UTC        Antares 230+ | Cygnus CRS NG-16   \n",
              "3  Thu Aug 05, 2021 16:30 UTC         Long March 3B/E | Zhongxing-2E   \n",
              "4  Wed Aug 04, 2021 11:01 UTC           Long March 6 | KL-Beta A & B   \n",
              "\n",
              "  Rocket_Status  Price Mission_Status  \n",
              "0        Active  37.00        Success  \n",
              "1        Active  47.00        Failure  \n",
              "2        Active  85.00        Success  \n",
              "3        Active  29.15        Success  \n",
              "4        Active  19.00        Success  "
            ],
            "text/html": [
              "\n",
              "  <div id=\"df-75129c04-1ae2-45f2-bb85-a0024f051f2d\">\n",
              "    <div class=\"colab-df-container\">\n",
              "      <div>\n",
              "<style scoped>\n",
              "    .dataframe tbody tr th:only-of-type {\n",
              "        vertical-align: middle;\n",
              "    }\n",
              "\n",
              "    .dataframe tbody tr th {\n",
              "        vertical-align: top;\n",
              "    }\n",
              "\n",
              "    .dataframe thead th {\n",
              "        text-align: right;\n",
              "    }\n",
              "</style>\n",
              "<table border=\"1\" class=\"dataframe\">\n",
              "  <thead>\n",
              "    <tr style=\"text-align: right;\">\n",
              "      <th></th>\n",
              "      <th>Unnamed: 0</th>\n",
              "      <th>Organisation</th>\n",
              "      <th>Location</th>\n",
              "      <th>Date</th>\n",
              "      <th>Details</th>\n",
              "      <th>Rocket_Status</th>\n",
              "      <th>Price</th>\n",
              "      <th>Mission_Status</th>\n",
              "    </tr>\n",
              "  </thead>\n",
              "  <tbody>\n",
              "    <tr>\n",
              "      <th>0</th>\n",
              "      <td>0</td>\n",
              "      <td>Arianespace</td>\n",
              "      <td>ELV-1, Guiana Space Centre, French Guiana, France</td>\n",
              "      <td>Tue Aug 17, 2021 01:47 UTC</td>\n",
              "      <td>Vega | Pléiades-Néo 4, BRO-4 &amp; Others</td>\n",
              "      <td>Active</td>\n",
              "      <td>37.00</td>\n",
              "      <td>Success</td>\n",
              "    </tr>\n",
              "    <tr>\n",
              "      <th>1</th>\n",
              "      <td>1</td>\n",
              "      <td>ISRO</td>\n",
              "      <td>Second Launch Pad, Satish Dhawan Space Centre,...</td>\n",
              "      <td>Thu Aug 12, 2021 00:13 UTC</td>\n",
              "      <td>GSLV Mk II | EOS-03</td>\n",
              "      <td>Active</td>\n",
              "      <td>47.00</td>\n",
              "      <td>Failure</td>\n",
              "    </tr>\n",
              "    <tr>\n",
              "      <th>2</th>\n",
              "      <td>2</td>\n",
              "      <td>Northrop</td>\n",
              "      <td>LP-0A, Wallops Flight Facility, Virginia, USA</td>\n",
              "      <td>Tue Aug 10, 2021 22:01 UTC</td>\n",
              "      <td>Antares 230+ | Cygnus CRS NG-16</td>\n",
              "      <td>Active</td>\n",
              "      <td>85.00</td>\n",
              "      <td>Success</td>\n",
              "    </tr>\n",
              "    <tr>\n",
              "      <th>3</th>\n",
              "      <td>3</td>\n",
              "      <td>CASC</td>\n",
              "      <td>LC-2, Xichang Satellite Launch Center, China</td>\n",
              "      <td>Thu Aug 05, 2021 16:30 UTC</td>\n",
              "      <td>Long March 3B/E | Zhongxing-2E</td>\n",
              "      <td>Active</td>\n",
              "      <td>29.15</td>\n",
              "      <td>Success</td>\n",
              "    </tr>\n",
              "    <tr>\n",
              "      <th>4</th>\n",
              "      <td>4</td>\n",
              "      <td>CASC</td>\n",
              "      <td>LC-16, Taiyuan Satellite Launch Center, China</td>\n",
              "      <td>Wed Aug 04, 2021 11:01 UTC</td>\n",
              "      <td>Long March 6 | KL-Beta A &amp; B</td>\n",
              "      <td>Active</td>\n",
              "      <td>19.00</td>\n",
              "      <td>Success</td>\n",
              "    </tr>\n",
              "  </tbody>\n",
              "</table>\n",
              "</div>\n",
              "      <button class=\"colab-df-convert\" onclick=\"convertToInteractive('df-75129c04-1ae2-45f2-bb85-a0024f051f2d')\"\n",
              "              title=\"Convert this dataframe to an interactive table.\"\n",
              "              style=\"display:none;\">\n",
              "        \n",
              "  <svg xmlns=\"http://www.w3.org/2000/svg\" height=\"24px\"viewBox=\"0 0 24 24\"\n",
              "       width=\"24px\">\n",
              "    <path d=\"M0 0h24v24H0V0z\" fill=\"none\"/>\n",
              "    <path d=\"M18.56 5.44l.94 2.06.94-2.06 2.06-.94-2.06-.94-.94-2.06-.94 2.06-2.06.94zm-11 1L8.5 8.5l.94-2.06 2.06-.94-2.06-.94L8.5 2.5l-.94 2.06-2.06.94zm10 10l.94 2.06.94-2.06 2.06-.94-2.06-.94-.94-2.06-.94 2.06-2.06.94z\"/><path d=\"M17.41 7.96l-1.37-1.37c-.4-.4-.92-.59-1.43-.59-.52 0-1.04.2-1.43.59L10.3 9.45l-7.72 7.72c-.78.78-.78 2.05 0 2.83L4 21.41c.39.39.9.59 1.41.59.51 0 1.02-.2 1.41-.59l7.78-7.78 2.81-2.81c.8-.78.8-2.07 0-2.86zM5.41 20L4 18.59l7.72-7.72 1.47 1.35L5.41 20z\"/>\n",
              "  </svg>\n",
              "      </button>\n",
              "      \n",
              "  <style>\n",
              "    .colab-df-container {\n",
              "      display:flex;\n",
              "      flex-wrap:wrap;\n",
              "      gap: 12px;\n",
              "    }\n",
              "\n",
              "    .colab-df-convert {\n",
              "      background-color: #E8F0FE;\n",
              "      border: none;\n",
              "      border-radius: 50%;\n",
              "      cursor: pointer;\n",
              "      display: none;\n",
              "      fill: #1967D2;\n",
              "      height: 32px;\n",
              "      padding: 0 0 0 0;\n",
              "      width: 32px;\n",
              "    }\n",
              "\n",
              "    .colab-df-convert:hover {\n",
              "      background-color: #E2EBFA;\n",
              "      box-shadow: 0px 1px 2px rgba(60, 64, 67, 0.3), 0px 1px 3px 1px rgba(60, 64, 67, 0.15);\n",
              "      fill: #174EA6;\n",
              "    }\n",
              "\n",
              "    [theme=dark] .colab-df-convert {\n",
              "      background-color: #3B4455;\n",
              "      fill: #D2E3FC;\n",
              "    }\n",
              "\n",
              "    [theme=dark] .colab-df-convert:hover {\n",
              "      background-color: #434B5C;\n",
              "      box-shadow: 0px 1px 3px 1px rgba(0, 0, 0, 0.15);\n",
              "      filter: drop-shadow(0px 1px 2px rgba(0, 0, 0, 0.3));\n",
              "      fill: #FFFFFF;\n",
              "    }\n",
              "  </style>\n",
              "\n",
              "      <script>\n",
              "        const buttonEl =\n",
              "          document.querySelector('#df-75129c04-1ae2-45f2-bb85-a0024f051f2d button.colab-df-convert');\n",
              "        buttonEl.style.display =\n",
              "          google.colab.kernel.accessAllowed ? 'block' : 'none';\n",
              "\n",
              "        async function convertToInteractive(key) {\n",
              "          const element = document.querySelector('#df-75129c04-1ae2-45f2-bb85-a0024f051f2d');\n",
              "          const dataTable =\n",
              "            await google.colab.kernel.invokeFunction('convertToInteractive',\n",
              "                                                     [key], {});\n",
              "          if (!dataTable) return;\n",
              "\n",
              "          const docLinkHtml = 'Like what you see? Visit the ' +\n",
              "            '<a target=\"_blank\" href=https://colab.research.google.com/notebooks/data_table.ipynb>data table notebook</a>'\n",
              "            + ' to learn more about interactive tables.';\n",
              "          element.innerHTML = '';\n",
              "          dataTable['output_type'] = 'display_data';\n",
              "          await google.colab.output.renderOutput(dataTable, element);\n",
              "          const docLink = document.createElement('div');\n",
              "          docLink.innerHTML = docLinkHtml;\n",
              "          element.appendChild(docLink);\n",
              "        }\n",
              "      </script>\n",
              "    </div>\n",
              "  </div>\n",
              "  "
            ]
          },
          "metadata": {},
          "execution_count": 224
        }
      ]
    },
    {
      "cell_type": "code",
      "metadata": {
        "id": "dGZa5HdbkJBT",
        "colab": {
          "base_uri": "https://localhost:8080/"
        },
        "outputId": "f0ff862e-1e14-4735-f91d-5ce26d9ab637"
      },
      "source": [
        "df_data.info"
      ],
      "execution_count": 225,
      "outputs": [
        {
          "output_type": "execute_result",
          "data": {
            "text/plain": [
              "<bound method DataFrame.info of       Unnamed: 0  Organisation  \\\n",
              "0              0   Arianespace   \n",
              "1              1          ISRO   \n",
              "2              2      Northrop   \n",
              "3              3          CASC   \n",
              "4              4          CASC   \n",
              "...          ...           ...   \n",
              "5574        5574  US Air Force   \n",
              "5740        5740  US Air Force   \n",
              "5770        5770  US Air Force   \n",
              "5786        5786  US Air Force   \n",
              "5817        5817  US Air Force   \n",
              "\n",
              "                                               Location  \\\n",
              "0     ELV-1, Guiana Space Centre, French Guiana, France   \n",
              "1     Second Launch Pad, Satish Dhawan Space Centre,...   \n",
              "2         LP-0A, Wallops Flight Facility, Virginia, USA   \n",
              "3          LC-2, Xichang Satellite Launch Center, China   \n",
              "4         LC-16, Taiyuan Satellite Launch Center, China   \n",
              "...                                                 ...   \n",
              "5574            SLC-4W, Vandenberg SFB, California, USA   \n",
              "5740           SLC-20, Cape Canaveral SFS, Florida, USA   \n",
              "5770           SLC-20, Cape Canaveral SFS, Florida, USA   \n",
              "5786           SLC-20, Cape Canaveral SFS, Florida, USA   \n",
              "5817           SLC-20, Cape Canaveral SFS, Florida, USA   \n",
              "\n",
              "                            Date                                Details  \\\n",
              "0     Tue Aug 17, 2021 01:47 UTC  Vega | Pléiades-Néo 4, BRO-4 & Others   \n",
              "1     Thu Aug 12, 2021 00:13 UTC                    GSLV Mk II | EOS-03   \n",
              "2     Tue Aug 10, 2021 22:01 UTC        Antares 230+ | Cygnus CRS NG-16   \n",
              "3     Thu Aug 05, 2021 16:30 UTC         Long March 3B/E | Zhongxing-2E   \n",
              "4     Wed Aug 04, 2021 11:01 UTC           Long March 6 | KL-Beta A & B   \n",
              "...                          ...                                    ...   \n",
              "5574  Fri Jul 29, 1966 18:30 UTC                      Titan IIIB | KH-8   \n",
              "5740  Thu May 06, 1965 15:00 UTC             Titan IIIA | LES 2 & LCS 1   \n",
              "5770  Thu Feb 11, 1965 15:19 UTC                     Titan IIIA | LES 1   \n",
              "5786  Thu Dec 10, 1964 16:53 UTC               Titan IIIA | Transtage 2   \n",
              "5817  Tue Sep 01, 1964 15:00 UTC               Titan IIIA | Transtage 1   \n",
              "\n",
              "     Rocket_Status  Price Mission_Status  \n",
              "0           Active  37.00        Success  \n",
              "1           Active  47.00        Failure  \n",
              "2           Active  85.00        Success  \n",
              "3           Active  29.15        Success  \n",
              "4           Active  19.00        Success  \n",
              "...            ...    ...            ...  \n",
              "5574       Retired  59.00        Success  \n",
              "5740       Retired  63.23        Success  \n",
              "5770       Retired  63.23        Success  \n",
              "5786       Retired  63.23        Success  \n",
              "5817       Retired  63.23        Failure  \n",
              "\n",
              "[2201 rows x 8 columns]>"
            ]
          },
          "metadata": {},
          "execution_count": 225
        }
      ]
    },
    {
      "cell_type": "code",
      "source": [
        "df_data.describe()"
      ],
      "metadata": {
        "colab": {
          "base_uri": "https://localhost:8080/",
          "height": 300
        },
        "id": "xtWqB7kivStA",
        "outputId": "c4471086-c512-4b5f-fda3-e325ff9bd7cf"
      },
      "execution_count": 226,
      "outputs": [
        {
          "output_type": "execute_result",
          "data": {
            "text/plain": [
              "       Unnamed: 0    Price\n",
              "count    2,201.00 2,201.00\n",
              "mean     1,824.13    71.79\n",
              "std      1,355.74   107.98\n",
              "min          0.00     2.50\n",
              "25%        672.00    20.00\n",
              "50%      1,400.00    29.75\n",
              "75%      2,963.00    64.68\n",
              "max      5,817.00   450.00"
            ],
            "text/html": [
              "\n",
              "  <div id=\"df-afa8b80d-0f3b-4c76-b41d-61f27fa0cb7f\">\n",
              "    <div class=\"colab-df-container\">\n",
              "      <div>\n",
              "<style scoped>\n",
              "    .dataframe tbody tr th:only-of-type {\n",
              "        vertical-align: middle;\n",
              "    }\n",
              "\n",
              "    .dataframe tbody tr th {\n",
              "        vertical-align: top;\n",
              "    }\n",
              "\n",
              "    .dataframe thead th {\n",
              "        text-align: right;\n",
              "    }\n",
              "</style>\n",
              "<table border=\"1\" class=\"dataframe\">\n",
              "  <thead>\n",
              "    <tr style=\"text-align: right;\">\n",
              "      <th></th>\n",
              "      <th>Unnamed: 0</th>\n",
              "      <th>Price</th>\n",
              "    </tr>\n",
              "  </thead>\n",
              "  <tbody>\n",
              "    <tr>\n",
              "      <th>count</th>\n",
              "      <td>2,201.00</td>\n",
              "      <td>2,201.00</td>\n",
              "    </tr>\n",
              "    <tr>\n",
              "      <th>mean</th>\n",
              "      <td>1,824.13</td>\n",
              "      <td>71.79</td>\n",
              "    </tr>\n",
              "    <tr>\n",
              "      <th>std</th>\n",
              "      <td>1,355.74</td>\n",
              "      <td>107.98</td>\n",
              "    </tr>\n",
              "    <tr>\n",
              "      <th>min</th>\n",
              "      <td>0.00</td>\n",
              "      <td>2.50</td>\n",
              "    </tr>\n",
              "    <tr>\n",
              "      <th>25%</th>\n",
              "      <td>672.00</td>\n",
              "      <td>20.00</td>\n",
              "    </tr>\n",
              "    <tr>\n",
              "      <th>50%</th>\n",
              "      <td>1,400.00</td>\n",
              "      <td>29.75</td>\n",
              "    </tr>\n",
              "    <tr>\n",
              "      <th>75%</th>\n",
              "      <td>2,963.00</td>\n",
              "      <td>64.68</td>\n",
              "    </tr>\n",
              "    <tr>\n",
              "      <th>max</th>\n",
              "      <td>5,817.00</td>\n",
              "      <td>450.00</td>\n",
              "    </tr>\n",
              "  </tbody>\n",
              "</table>\n",
              "</div>\n",
              "      <button class=\"colab-df-convert\" onclick=\"convertToInteractive('df-afa8b80d-0f3b-4c76-b41d-61f27fa0cb7f')\"\n",
              "              title=\"Convert this dataframe to an interactive table.\"\n",
              "              style=\"display:none;\">\n",
              "        \n",
              "  <svg xmlns=\"http://www.w3.org/2000/svg\" height=\"24px\"viewBox=\"0 0 24 24\"\n",
              "       width=\"24px\">\n",
              "    <path d=\"M0 0h24v24H0V0z\" fill=\"none\"/>\n",
              "    <path d=\"M18.56 5.44l.94 2.06.94-2.06 2.06-.94-2.06-.94-.94-2.06-.94 2.06-2.06.94zm-11 1L8.5 8.5l.94-2.06 2.06-.94-2.06-.94L8.5 2.5l-.94 2.06-2.06.94zm10 10l.94 2.06.94-2.06 2.06-.94-2.06-.94-.94-2.06-.94 2.06-2.06.94z\"/><path d=\"M17.41 7.96l-1.37-1.37c-.4-.4-.92-.59-1.43-.59-.52 0-1.04.2-1.43.59L10.3 9.45l-7.72 7.72c-.78.78-.78 2.05 0 2.83L4 21.41c.39.39.9.59 1.41.59.51 0 1.02-.2 1.41-.59l7.78-7.78 2.81-2.81c.8-.78.8-2.07 0-2.86zM5.41 20L4 18.59l7.72-7.72 1.47 1.35L5.41 20z\"/>\n",
              "  </svg>\n",
              "      </button>\n",
              "      \n",
              "  <style>\n",
              "    .colab-df-container {\n",
              "      display:flex;\n",
              "      flex-wrap:wrap;\n",
              "      gap: 12px;\n",
              "    }\n",
              "\n",
              "    .colab-df-convert {\n",
              "      background-color: #E8F0FE;\n",
              "      border: none;\n",
              "      border-radius: 50%;\n",
              "      cursor: pointer;\n",
              "      display: none;\n",
              "      fill: #1967D2;\n",
              "      height: 32px;\n",
              "      padding: 0 0 0 0;\n",
              "      width: 32px;\n",
              "    }\n",
              "\n",
              "    .colab-df-convert:hover {\n",
              "      background-color: #E2EBFA;\n",
              "      box-shadow: 0px 1px 2px rgba(60, 64, 67, 0.3), 0px 1px 3px 1px rgba(60, 64, 67, 0.15);\n",
              "      fill: #174EA6;\n",
              "    }\n",
              "\n",
              "    [theme=dark] .colab-df-convert {\n",
              "      background-color: #3B4455;\n",
              "      fill: #D2E3FC;\n",
              "    }\n",
              "\n",
              "    [theme=dark] .colab-df-convert:hover {\n",
              "      background-color: #434B5C;\n",
              "      box-shadow: 0px 1px 3px 1px rgba(0, 0, 0, 0.15);\n",
              "      filter: drop-shadow(0px 1px 2px rgba(0, 0, 0, 0.3));\n",
              "      fill: #FFFFFF;\n",
              "    }\n",
              "  </style>\n",
              "\n",
              "      <script>\n",
              "        const buttonEl =\n",
              "          document.querySelector('#df-afa8b80d-0f3b-4c76-b41d-61f27fa0cb7f button.colab-df-convert');\n",
              "        buttonEl.style.display =\n",
              "          google.colab.kernel.accessAllowed ? 'block' : 'none';\n",
              "\n",
              "        async function convertToInteractive(key) {\n",
              "          const element = document.querySelector('#df-afa8b80d-0f3b-4c76-b41d-61f27fa0cb7f');\n",
              "          const dataTable =\n",
              "            await google.colab.kernel.invokeFunction('convertToInteractive',\n",
              "                                                     [key], {});\n",
              "          if (!dataTable) return;\n",
              "\n",
              "          const docLinkHtml = 'Like what you see? Visit the ' +\n",
              "            '<a target=\"_blank\" href=https://colab.research.google.com/notebooks/data_table.ipynb>data table notebook</a>'\n",
              "            + ' to learn more about interactive tables.';\n",
              "          element.innerHTML = '';\n",
              "          dataTable['output_type'] = 'display_data';\n",
              "          await google.colab.output.renderOutput(dataTable, element);\n",
              "          const docLink = document.createElement('div');\n",
              "          docLink.innerHTML = docLinkHtml;\n",
              "          element.appendChild(docLink);\n",
              "        }\n",
              "      </script>\n",
              "    </div>\n",
              "  </div>\n",
              "  "
            ]
          },
          "metadata": {},
          "execution_count": 226
        }
      ]
    },
    {
      "cell_type": "markdown",
      "source": [
        "We see this unnamed column here, and we see that it's value is equivalent to the index value, so let's get rid of both."
      ],
      "metadata": {
        "id": "v-ytATR5xJCL"
      }
    },
    {
      "cell_type": "code",
      "source": [
        "# If using the old csv file, uncomment the first 2 lines and comment the 3rd and 4th ones\n",
        "\n",
        "# df_data.drop(['Unnamed: 0', 'Unnamed: 0.1'], axis=1, inplace=True)  # we removed them already so rerunning this code will cause an error if you don't reload the df\n",
        "# df_data\n",
        "\n",
        "df_data.drop(['Unnamed: 0'], axis=1, inplace=True)\n",
        "df_data"
      ],
      "metadata": {
        "id": "kLuuN9XQxToH"
      },
      "execution_count": 227,
      "outputs": []
    },
    {
      "cell_type": "markdown",
      "metadata": {
        "id": "cgCjcpeUkKPW"
      },
      "source": [
        "# Number of Launches per Company\n",
        "\n",
        "Create a chart that shows the number of space mission launches by organisation."
      ]
    },
    {
      "cell_type": "code",
      "metadata": {
        "id": "rxvcIrtskxYB",
        "colab": {
          "base_uri": "https://localhost:8080/"
        },
        "outputId": "fa0a9a4c-3a58-4f04-9233-8625bf28cc3e"
      },
      "source": [
        "df_data.Organisation.value_counts()"
      ],
      "execution_count": 228,
      "outputs": [
        {
          "output_type": "execute_result",
          "data": {
            "text/plain": [
              "RVSN USSR          657\n",
              "CASC               297\n",
              "Roscosmos          194\n",
              "NASA               136\n",
              "VKS RF             136\n",
              "SpaceX             132\n",
              "Arianespace        123\n",
              "ULA                102\n",
              "Northrop            88\n",
              "ILS                 79\n",
              "ISRO                68\n",
              "MHI                 37\n",
              "US Air Force        26\n",
              "Starsem             24\n",
              "Kosmotras           22\n",
              "Rocket Lab          19\n",
              "Eurockot            13\n",
              "ExPace              11\n",
              "Martin Marietta      9\n",
              "Lockheed             8\n",
              "Boeing               7\n",
              "JAXA                 3\n",
              "Virgin Orbit         3\n",
              "Astra                2\n",
              "GK LS                1\n",
              "Sandia               1\n",
              "ESA                  1\n",
              "EER                  1\n",
              "Galactic Energy      1\n",
              "Name: Organisation, dtype: int64"
            ]
          },
          "metadata": {},
          "execution_count": 228
        }
      ]
    },
    {
      "cell_type": "code",
      "source": [
        "df_data.Organisation.unique()"
      ],
      "metadata": {
        "colab": {
          "base_uri": "https://localhost:8080/"
        },
        "id": "hmaU3k8lzlxA",
        "outputId": "b2c46115-3879-438b-da6a-b4b1c6d8f589"
      },
      "execution_count": 229,
      "outputs": [
        {
          "output_type": "execute_result",
          "data": {
            "text/plain": [
              "array(['Arianespace', 'ISRO', 'Northrop', 'CASC', 'Rocket Lab',\n",
              "       'Roscosmos', 'Starsem', 'SpaceX', 'Virgin Orbit', 'VKS RF', 'ULA',\n",
              "       'GK LS', 'Astra', 'MHI', 'Galactic Energy', 'ExPace', 'JAXA',\n",
              "       'ILS', 'Eurockot', 'Sandia', 'Kosmotras', 'ESA', 'NASA', 'Boeing',\n",
              "       'Lockheed', 'EER', 'Martin Marietta', 'RVSN USSR', 'US Air Force'],\n",
              "      dtype=object)"
            ]
          },
          "metadata": {},
          "execution_count": 229
        }
      ]
    },
    {
      "cell_type": "code",
      "metadata": {
        "id": "qgneHUbWkw5v",
        "colab": {
          "base_uri": "https://localhost:8080/",
          "height": 952
        },
        "outputId": "43166be5-971e-449a-e230-57efbc4ba5f1"
      },
      "source": [
        "plt.figure(figsize=(12,8), dpi=150)\n",
        "\n",
        "plt.pie(df_data.Organisation.value_counts(),\n",
        "        labels = df_data.Organisation.unique(),  # get the cols\n",
        "        labeldistance = None,  # remove labels because they are too cluttereds\n",
        ")\n",
        "\n",
        "plt.legend(loc='best')  # moves the legend to the best place\n",
        "\n",
        "plt.axis('equal')  # makes sure pie chart is drawn as a circle\n",
        "\n",
        "plt.show()"
      ],
      "execution_count": 230,
      "outputs": [
        {
          "output_type": "display_data",
          "data": {
            "text/plain": [
              "<Figure size 1800x1200 with 1 Axes>"
            ],
            "image/png": "[encoded data removed]"
          },
          "metadata": {}
        }
      ]
    },
    {
      "cell_type": "markdown",
      "metadata": {
        "id": "7Gwteht2kR_h"
      },
      "source": [
        "# Number of Active versus Retired Rockets\n",
        "\n",
        "How many rockets are active compared to those that are decomissioned? "
      ]
    },
    {
      "cell_type": "code",
      "metadata": {
        "id": "SxmOWS9cmTq6"
      },
      "source": [
        "# if using old csv, change to 'StatusActive' instead of 'Active'\n",
        "\n",
        "active_rockets = df_data[df_data.Rocket_Status == 'Active'].count()[0]\n",
        "decom_rockets = df_data[df_data.Rocket_Status != 'Active'].count()[0]  # specify 0 because otherwise it returns the count for every column"
      ],
      "execution_count": 275,
      "outputs": []
    },
    {
      "cell_type": "code",
      "metadata": {
        "id": "ydj0-OZ6mToH",
        "colab": {
          "base_uri": "https://localhost:8080/"
        },
        "outputId": "29d0f45b-73b0-426c-f310-070d4d21dee1"
      },
      "source": [
        "print(f\"There are {active_rockets} active rockets and {decom_rockets} decommissioned rockets.\\nThe percentage of active rockets is {active_rockets*100/(active_rockets+decom_rockets):.4}% and the percentage of\"\n",
        "      +f\" decommissioned rockets is {decom_rockets*100/(active_rockets+decom_rockets):.4}%.\")"
      ],
      "execution_count": 276,
      "outputs": [
        {
          "output_type": "stream",
          "name": "stdout",
          "text": [
            "There are 969 active rockets and 1232 decommissioned rockets.\n",
            "The percentage of active rockets is 44.03% and the percentage of decommissioned rockets is 55.97%.\n"
          ]
        }
      ]
    },
    {
      "cell_type": "markdown",
      "metadata": {
        "id": "y9WtP5xWkYkp"
      },
      "source": [
        "# Distribution of Mission Status\n",
        "\n",
        "How many missions were successful?\n",
        "How many missions failed?"
      ]
    },
    {
      "cell_type": "code",
      "metadata": {
        "id": "83kY1alqmUhb"
      },
      "source": [
        "successes = df_data[df_data.Mission_Status == 'Success'].count()[0]\n",
        "failures = df_data[df_data.Mission_Status != 'Success'].count()[0]  # specify 0 because otherwise it returns the count for every column"
      ],
      "execution_count": 233,
      "outputs": []
    },
    {
      "cell_type": "code",
      "metadata": {
        "id": "bdmXcaopmUeZ",
        "colab": {
          "base_uri": "https://localhost:8080/"
        },
        "outputId": "e56b56a1-4471-43f9-fecd-dcf80795cfd6"
      },
      "source": [
        "print(f\"There are {successes} mission successes and {failures} mission failures.\")  # omit percentages because there are partial failures"
      ],
      "execution_count": 234,
      "outputs": [
        {
          "output_type": "stream",
          "name": "stdout",
          "text": [
            "There are 2103 mission successes and 98 mission failures.\n"
          ]
        }
      ]
    },
    {
      "cell_type": "markdown",
      "metadata": {
        "papermill": {
          "duration": 0.03854,
          "end_time": "2020-10-20T21:34:05.968626",
          "exception": false,
          "start_time": "2020-10-20T21:34:05.930086",
          "status": "completed"
        },
        "tags": [],
        "id": "jgTCihuoa-qH"
      },
      "source": [
        "# How Expensive are the Launches? \n",
        "\n",
        "Create a histogram and visualise the distribution. The price column is given in USD millions (careful of missing values). "
      ]
    },
    {
      "cell_type": "code",
      "metadata": {
        "id": "ru0IcY4nnSFU"
      },
      "source": [
        "df_data.Price = df_data.Price.replace(',','', regex=True)  # remove the commas\n",
        "df_data = df_data.astype({'Price':'float'})  # cast price into float values so we can plot it easier"
      ],
      "execution_count": 235,
      "outputs": []
    },
    {
      "cell_type": "code",
      "source": [
        "df_data.Price.describe()"
      ],
      "metadata": {
        "colab": {
          "base_uri": "https://localhost:8080/"
        },
        "id": "h5qm8gJam6XJ",
        "outputId": "2609c68c-f20a-45c4-f68b-e18cf79a6e6d"
      },
      "execution_count": 279,
      "outputs": [
        {
          "output_type": "execute_result",
          "data": {
            "text/plain": [
              "count   2,201.00\n",
              "mean       71.79\n",
              "std       107.98\n",
              "min         2.50\n",
              "25%        20.00\n",
              "50%        29.75\n",
              "75%        64.68\n",
              "max       450.00\n",
              "Name: Price, dtype: float64"
            ]
          },
          "metadata": {},
          "execution_count": 279
        }
      ]
    },
    {
      "cell_type": "code",
      "metadata": {
        "id": "PLOMhzZFnSCO",
        "colab": {
          "base_uri": "https://localhost:8080/",
          "height": 1000
        },
        "outputId": "d92de4be-ed20-42fc-93c6-fafe6dea87ad"
      },
      "source": [
        "plt.figure(figsize=(12,8), dpi=150)\n",
        "\n",
        "plt.hist(\n",
        "    x = df_data.Price,\n",
        "    bins=20,\n",
        "    # range=[5,1200]  #uncomment this if using old csv\n",
        "    rwidth=0.9,\n",
        ")\n",
        "\n",
        "plt.xlabel('Launch Price in USD Million $')\n",
        "plt.ylabel('Count')\n",
        "plt.title('Distribution of Launch Prices')\n",
        "\n",
        "plt.xticks(np.arange(0, 450, step=25), np.arange(0, 470, step=25))\n",
        "# plt.xticks(np.arange(0, 1200, step=50), np.arange(0, 1200, step=50)) uncomment if using old csv\n",
        "\n",
        "plt.show()"
      ],
      "execution_count": 286,
      "outputs": [
        {
          "output_type": "display_data",
          "data": {
            "text/plain": [
              "<Figure size 1800x1200 with 1 Axes>"
            ],
            "image/png": "[encoded data removed]"
          },
          "metadata": {
            "needs_background": "light"
          }
        }
      ]
    },
    {
      "cell_type": "markdown",
      "metadata": {
        "id": "QiNtigQDne3E"
      },
      "source": [
        "# Use a Choropleth Map to Show the Number of Launches by Country\n",
        "\n",
        "* Create a choropleth map using [the plotly documentation](https://plotly.com/python/choropleth-maps/)\n",
        "* Experiment with [plotly's available colours](https://plotly.com/python/builtin-colorscales/). I quite like the sequential colour `matter` on this map. \n",
        "* You'll need to extract a `country` feature as well as change the country names that no longer exist.\n",
        "\n",
        "Wrangle the Country Names\n",
        "\n",
        "You'll need to use a 3 letter country code for each country. You might have to change some country names.\n",
        "\n",
        "* Russia is the Russian Federation\n",
        "* New Mexico should be USA\n",
        "* Yellow Sea refers to China\n",
        "* Shahrud Missile Test Site should be Iran\n",
        "* Pacific Missile Range Facility should be USA\n",
        "* Barents Sea should be Russian Federation\n",
        "* Gran Canaria should be USA\n",
        "\n",
        "\n",
        "You can use the iso3166 package to convert the country names to Alpha3 format."
      ]
    },
    {
      "cell_type": "code",
      "metadata": {
        "id": "Y46-4GHrozhF"
      },
      "source": [
        "# create a new column with only the country name because we only have location data for our dataframe\n",
        "\n",
        "df_data['Country'] = df_data.Location.str.split(', ').str[-1]"
      ],
      "execution_count": 237,
      "outputs": []
    },
    {
      "cell_type": "code",
      "metadata": {
        "id": "ESGRWiX6ozZG"
      },
      "source": [
        "# change the countries that no longer exist so we can get the 3 letter codes\n",
        "\n",
        "df_data.Country = df_data.Country.str.replace('Gran Canaria', 'USA')\n",
        "df_data.Country = df_data.Country.str.replace('Yellow Sea', 'China')\n",
        "df_data.Country = df_data.Country.str.replace('Russia', 'Russian Federation')\n",
        "df_data.Country = df_data.Country.str.replace('Pacific Missile Range Facility', 'Iran')\n",
        "df_data.Country = df_data.Country.str.replace('Barents Sea', 'Russian Federation')\n",
        "df_data.Country = df_data.Country.str.replace('Shahrud Missile Test Site', 'Iran')\n",
        "df_data.Country = df_data.Country.str.replace('New Mexico', 'USA')"
      ],
      "execution_count": 238,
      "outputs": []
    },
    {
      "cell_type": "code",
      "source": [
        "country_codes = []\n",
        "\n",
        "for country in df_data.Country:\n",
        "  try:\n",
        "    country_codes.append(pycountry.countries.get(name=country).alpha_3)\n",
        "  except AttributeError:\n",
        "    country_codes.append(country)  # alpha 3 code for USA is USA, trying to get it using the above line of code will give an error as it returns None"
      ],
      "metadata": {
        "id": "nCi73BUcfQd4"
      },
      "execution_count": 239,
      "outputs": []
    },
    {
      "cell_type": "code",
      "source": [
        "df_data['Country_Codes'] = country_codes  # create a new col with alpha 3 codes so we can easily create chloropleths from now on \n",
        "country_code_vs_launches =  df_data.Country_Codes.value_counts()  # create a new df which includes country codes and number of launches (which is number of rows for each country)"
      ],
      "metadata": {
        "id": "0xHuqt2N2jIV"
      },
      "execution_count": 240,
      "outputs": []
    },
    {
      "cell_type": "code",
      "source": [
        "country_code_vs_launches"
      ],
      "metadata": {
        "colab": {
          "base_uri": "https://localhost:8080/"
        },
        "id": "rpGN48mLLcHC",
        "outputId": "3453d63d-42c1-46e3-a1ea-42073430c9bf"
      },
      "execution_count": 241,
      "outputs": [
        {
          "output_type": "execute_result",
          "data": {
            "text/plain": [
              "KAZ     587\n",
              "RUS     531\n",
              "USA     513\n",
              "CHN     309\n",
              "FRA     124\n",
              "IND      68\n",
              "JPN      40\n",
              "NZL      19\n",
              "MHL       9\n",
              "Iran      1\n",
              "Name: Country_Codes, dtype: int64"
            ]
          },
          "metadata": {},
          "execution_count": 241
        }
      ]
    },
    {
      "cell_type": "code",
      "source": [
        "fig = px.choropleth(\n",
        "    country_code_vs_launches,  # base dataframe\n",
        "    locations=country_code_vs_launches.index,  # ISO codes\n",
        "    locationmode='ISO-3',\n",
        "    color=country_code_vs_launches,  # specify to color each country by the number of launches\n",
        "    color_continuous_scale=px.colors.sequential.matter,  # color scale\n",
        "    title='Launches Per Country',\n",
        "    labels={'color':'Launches'},  # change colors to launches\n",
        ")\n",
        "\n",
        "fig.show()"
      ],
      "metadata": {
        "colab": {
          "base_uri": "https://localhost:8080/",
          "height": 542
        },
        "id": "FyEVlGTz3AmA",
        "outputId": "19e41342-6f39-4b1d-897f-dc953372f747"
      },
      "execution_count": 242,
      "outputs": [
        {
          "output_type": "display_data",
          "data": {
            "text/html": [
              "<html>\n",
              "<head><meta charset=\"utf-8\" /></head>\n",
              "<body>\n",
              "    <div>            <script src=\"https://cdnjs.cloudflare.com/ajax/libs/mathjax/2.7.5/MathJax.js?config=TeX-AMS-MML_SVG\"></script><script type=\"text/javascript\">if (window.MathJax && window.MathJax.Hub && window.MathJax.Hub.Config) {window.MathJax.Hub.Config({SVG: {font: \"STIX-Web\"}});}</script>                <script type=\"text/javascript\">window.PlotlyConfig = {MathJaxConfig: 'local'};</script>\n",
              "        <script src=\"https://cdn.plot.ly/plotly-2.12.1.min.js\"></script>                <div id=\"9d6a376a-4147-41ac-893f-63e40b1be49f\" class=\"plotly-graph-div\" style=\"height:525px; width:100%;\"></div>            <script type=\"text/javascript\">                                    window.PLOTLYENV=window.PLOTLYENV || {};                                    if (document.getElementById(\"9d6a376a-4147-41ac-893f-63e40b1be49f\")) {                    Plotly.newPlot(                        \"9d6a376a-4147-41ac-893f-63e40b1be49f\",                        [{\"coloraxis\":\"coloraxis\",\"geo\":\"geo\",\"hovertemplate\":\"index=%{location}<br>Launches=%{z}<extra></extra>\",\"locationmode\":\"ISO-3\",\"locations\":[\"KAZ\",\"RUS\",\"USA\",\"CHN\",\"FRA\",\"IND\",\"JPN\",\"NZL\",\"MHL\",\"Iran\"],\"name\":\"\",\"z\":[587,531,513,309,124,68,40,19,9,1],\"type\":\"choropleth\"}],                        {\"template\":{\"data\":{\"histogram2dcontour\":[{\"type\":\"histogram2dcontour\",\"colorbar\":{\"outlinewidth\":0,\"ticks\":\"\"},\"colorscale\":[[0.0,\"#0d0887\"],[0.1111111111111111,\"#46039f\"],[0.2222222222222222,\"#7201a8\"],[0.3333333333333333,\"#9c179e\"],[0.4444444444444444,\"#bd3786\"],[0.5555555555555556,\"#d8576b\"],[0.6666666666666666,\"#ed7953\"],[0.7777777777777778,\"#fb9f3a\"],[0.8888888888888888,\"#fdca26\"],[1.0,\"#f0f921\"]]}],\"choropleth\":[{\"type\":\"choropleth\",\"colorbar\":{\"outlinewidth\":0,\"ticks\":\"\"}}],\"histogram2d\":[{\"type\":\"histogram2d\",\"colorbar\":{\"outlinewidth\":0,\"ticks\":\"\"},\"colorscale\":[[0.0,\"#0d0887\"],[0.1111111111111111,\"#46039f\"],[0.2222222222222222,\"#7201a8\"],[0.3333333333333333,\"#9c179e\"],[0.4444444444444444,\"#bd3786\"],[0.5555555555555556,\"#d8576b\"],[0.6666666666666666,\"#ed7953\"],[0.7777777777777778,\"#fb9f3a\"],[0.8888888888888888,\"#fdca26\"],[1.0,\"#f0f921\"]]}],\"heatmap\":[{\"type\":\"heatmap\",\"colorbar\":{\"outlinewidth\":0,\"ticks\":\"\"},\"colorscale\":[[0.0,\"#0d0887\"],[0.1111111111111111,\"#46039f\"],[0.2222222222222222,\"#7201a8\"],[0.3333333333333333,\"#9c179e\"],[0.4444444444444444,\"#bd3786\"],[0.5555555555555556,\"#d8576b\"],[0.6666666666666666,\"#ed7953\"],[0.7777777777777778,\"#fb9f3a\"],[0.8888888888888888,\"#fdca26\"],[1.0,\"#f0f921\"]]}],\"heatmapgl\":[{\"type\":\"heatmapgl\",\"colorbar\":{\"outlinewidth\":0,\"ticks\":\"\"},\"colorscale\":[[0.0,\"#0d0887\"],[0.1111111111111111,\"#46039f\"],[0.2222222222222222,\"#7201a8\"],[0.3333333333333333,\"#9c179e\"],[0.4444444444444444,\"#bd3786\"],[0.5555555555555556,\"#d8576b\"],[0.6666666666666666,\"#ed7953\"],[0.7777777777777778,\"#fb9f3a\"],[0.8888888888888888,\"#fdca26\"],[1.0,\"#f0f921\"]]}],\"contourcarpet\":[{\"type\":\"contourcarpet\",\"colorbar\":{\"outlinewidth\":0,\"ticks\":\"\"}}],\"contour\":[{\"type\":\"contour\",\"colorbar\":{\"outlinewidth\":0,\"ticks\":\"\"},\"colorscale\":[[0.0,\"#0d0887\"],[0.1111111111111111,\"#46039f\"],[0.2222222222222222,\"#7201a8\"],[0.3333333333333333,\"#9c179e\"],[0.4444444444444444,\"#bd3786\"],[0.5555555555555556,\"#d8576b\"],[0.6666666666666666,\"#ed7953\"],[0.7777777777777778,\"#fb9f3a\"],[0.8888888888888888,\"#fdca26\"],[1.0,\"#f0f921\"]]}],\"surface\":[{\"type\":\"surface\",\"colorbar\":{\"outlinewidth\":0,\"ticks\":\"\"},\"colorscale\":[[0.0,\"#0d0887\"],[0.1111111111111111,\"#46039f\"],[0.2222222222222222,\"#7201a8\"],[0.3333333333333333,\"#9c179e\"],[0.4444444444444444,\"#bd3786\"],[0.5555555555555556,\"#d8576b\"],[0.6666666666666666,\"#ed7953\"],[0.7777777777777778,\"#fb9f3a\"],[0.8888888888888888,\"#fdca26\"],[1.0,\"#f0f921\"]]}],\"mesh3d\":[{\"type\":\"mesh3d\",\"colorbar\":{\"outlinewidth\":0,\"ticks\":\"\"}}],\"scatter\":[{\"fillpattern\":{\"fillmode\":\"overlay\",\"size\":10,\"solidity\":0.2},\"type\":\"scatter\"}],\"parcoords\":[{\"type\":\"parcoords\",\"line\":{\"colorbar\":{\"outlinewidth\":0,\"ticks\":\"\"}}}],\"scatterpolargl\":[{\"type\":\"scatterpolargl\",\"marker\":{\"colorbar\":{\"outlinewidth\":0,\"ticks\":\"\"}}}],\"bar\":[{\"error_x\":{\"color\":\"#2a3f5f\"},\"error_y\":{\"color\":\"#2a3f5f\"},\"marker\":{\"line\":{\"color\":\"#E5ECF6\",\"width\":0.5},\"pattern\":{\"fillmode\":\"overlay\",\"size\":10,\"solidity\":0.2}},\"type\":\"bar\"}],\"scattergeo\":[{\"type\":\"scattergeo\",\"marker\":{\"colorbar\":{\"outlinewidth\":0,\"ticks\":\"\"}}}],\"scatterpolar\":[{\"type\":\"scatterpolar\",\"marker\":{\"colorbar\":{\"outlinewidth\":0,\"ticks\":\"\"}}}],\"histogram\":[{\"marker\":{\"pattern\":{\"fillmode\":\"overlay\",\"size\":10,\"solidity\":0.2}},\"type\":\"histogram\"}],\"scattergl\":[{\"type\":\"scattergl\",\"marker\":{\"colorbar\":{\"outlinewidth\":0,\"ticks\":\"\"}}}],\"scatter3d\":[{\"type\":\"scatter3d\",\"line\":{\"colorbar\":{\"outlinewidth\":0,\"ticks\":\"\"}},\"marker\":{\"colorbar\":{\"outlinewidth\":0,\"ticks\":\"\"}}}],\"scattermapbox\":[{\"type\":\"scattermapbox\",\"marker\":{\"colorbar\":{\"outlinewidth\":0,\"ticks\":\"\"}}}],\"scatterternary\":[{\"type\":\"scatterternary\",\"marker\":{\"colorbar\":{\"outlinewidth\":0,\"ticks\":\"\"}}}],\"scattercarpet\":[{\"type\":\"scattercarpet\",\"marker\":{\"colorbar\":{\"outlinewidth\":0,\"ticks\":\"\"}}}],\"carpet\":[{\"aaxis\":{\"endlinecolor\":\"#2a3f5f\",\"gridcolor\":\"white\",\"linecolor\":\"white\",\"minorgridcolor\":\"white\",\"startlinecolor\":\"#2a3f5f\"},\"baxis\":{\"endlinecolor\":\"#2a3f5f\",\"gridcolor\":\"white\",\"linecolor\":\"white\",\"minorgridcolor\":\"white\",\"startlinecolor\":\"#2a3f5f\"},\"type\":\"carpet\"}],\"table\":[{\"cells\":{\"fill\":{\"color\":\"#EBF0F8\"},\"line\":{\"color\":\"white\"}},\"header\":{\"fill\":{\"color\":\"#C8D4E3\"},\"line\":{\"color\":\"white\"}},\"type\":\"table\"}],\"barpolar\":[{\"marker\":{\"line\":{\"color\":\"#E5ECF6\",\"width\":0.5},\"pattern\":{\"fillmode\":\"overlay\",\"size\":10,\"solidity\":0.2}},\"type\":\"barpolar\"}],\"pie\":[{\"automargin\":true,\"type\":\"pie\"}]},\"layout\":{\"autotypenumbers\":\"strict\",\"colorway\":[\"#636efa\",\"#EF553B\",\"#00cc96\",\"#ab63fa\",\"#FFA15A\",\"#19d3f3\",\"#FF6692\",\"#B6E880\",\"#FF97FF\",\"#FECB52\"],\"font\":{\"color\":\"#2a3f5f\"},\"hovermode\":\"closest\",\"hoverlabel\":{\"align\":\"left\"},\"paper_bgcolor\":\"white\",\"plot_bgcolor\":\"#E5ECF6\",\"polar\":{\"bgcolor\":\"#E5ECF6\",\"angularaxis\":{\"gridcolor\":\"white\",\"linecolor\":\"white\",\"ticks\":\"\"},\"radialaxis\":{\"gridcolor\":\"white\",\"linecolor\":\"white\",\"ticks\":\"\"}},\"ternary\":{\"bgcolor\":\"#E5ECF6\",\"aaxis\":{\"gridcolor\":\"white\",\"linecolor\":\"white\",\"ticks\":\"\"},\"baxis\":{\"gridcolor\":\"white\",\"linecolor\":\"white\",\"ticks\":\"\"},\"caxis\":{\"gridcolor\":\"white\",\"linecolor\":\"white\",\"ticks\":\"\"}},\"coloraxis\":{\"colorbar\":{\"outlinewidth\":0,\"ticks\":\"\"}},\"colorscale\":{\"sequential\":[[0.0,\"#0d0887\"],[0.1111111111111111,\"#46039f\"],[0.2222222222222222,\"#7201a8\"],[0.3333333333333333,\"#9c179e\"],[0.4444444444444444,\"#bd3786\"],[0.5555555555555556,\"#d8576b\"],[0.6666666666666666,\"#ed7953\"],[0.7777777777777778,\"#fb9f3a\"],[0.8888888888888888,\"#fdca26\"],[1.0,\"#f0f921\"]],\"sequentialminus\":[[0.0,\"#0d0887\"],[0.1111111111111111,\"#46039f\"],[0.2222222222222222,\"#7201a8\"],[0.3333333333333333,\"#9c179e\"],[0.4444444444444444,\"#bd3786\"],[0.5555555555555556,\"#d8576b\"],[0.6666666666666666,\"#ed7953\"],[0.7777777777777778,\"#fb9f3a\"],[0.8888888888888888,\"#fdca26\"],[1.0,\"#f0f921\"]],\"diverging\":[[0,\"#8e0152\"],[0.1,\"#c51b7d\"],[0.2,\"#de77ae\"],[0.3,\"#f1b6da\"],[0.4,\"#fde0ef\"],[0.5,\"#f7f7f7\"],[0.6,\"#e6f5d0\"],[0.7,\"#b8e186\"],[0.8,\"#7fbc41\"],[0.9,\"#4d9221\"],[1,\"#276419\"]]},\"xaxis\":{\"gridcolor\":\"white\",\"linecolor\":\"white\",\"ticks\":\"\",\"title\":{\"standoff\":15},\"zerolinecolor\":\"white\",\"automargin\":true,\"zerolinewidth\":2},\"yaxis\":{\"gridcolor\":\"white\",\"linecolor\":\"white\",\"ticks\":\"\",\"title\":{\"standoff\":15},\"zerolinecolor\":\"white\",\"automargin\":true,\"zerolinewidth\":2},\"scene\":{\"xaxis\":{\"backgroundcolor\":\"#E5ECF6\",\"gridcolor\":\"white\",\"linecolor\":\"white\",\"showbackground\":true,\"ticks\":\"\",\"zerolinecolor\":\"white\",\"gridwidth\":2},\"yaxis\":{\"backgroundcolor\":\"#E5ECF6\",\"gridcolor\":\"white\",\"linecolor\":\"white\",\"showbackground\":true,\"ticks\":\"\",\"zerolinecolor\":\"white\",\"gridwidth\":2},\"zaxis\":{\"backgroundcolor\":\"#E5ECF6\",\"gridcolor\":\"white\",\"linecolor\":\"white\",\"showbackground\":true,\"ticks\":\"\",\"zerolinecolor\":\"white\",\"gridwidth\":2}},\"shapedefaults\":{\"line\":{\"color\":\"#2a3f5f\"}},\"annotationdefaults\":{\"arrowcolor\":\"#2a3f5f\",\"arrowhead\":0,\"arrowwidth\":1},\"geo\":{\"bgcolor\":\"white\",\"landcolor\":\"#E5ECF6\",\"subunitcolor\":\"white\",\"showland\":true,\"showlakes\":true,\"lakecolor\":\"white\"},\"title\":{\"x\":0.05},\"mapbox\":{\"style\":\"light\"}}},\"geo\":{\"domain\":{\"x\":[0.0,1.0],\"y\":[0.0,1.0]},\"center\":{}},\"coloraxis\":{\"colorbar\":{\"title\":{\"text\":\"Launches\"}},\"colorscale\":[[0.0,\"rgb(253, 237, 176)\"],[0.09090909090909091,\"rgb(250, 205, 145)\"],[0.18181818181818182,\"rgb(246, 173, 119)\"],[0.2727272727272727,\"rgb(240, 142, 98)\"],[0.36363636363636365,\"rgb(231, 109, 84)\"],[0.45454545454545453,\"rgb(216, 80, 83)\"],[0.5454545454545454,\"rgb(195, 56, 90)\"],[0.6363636363636364,\"rgb(168, 40, 96)\"],[0.7272727272727273,\"rgb(138, 29, 99)\"],[0.8181818181818182,\"rgb(107, 24, 93)\"],[0.9090909090909091,\"rgb(76, 21, 80)\"],[1.0,\"rgb(47, 15, 61)\"]]},\"legend\":{\"tracegroupgap\":0},\"title\":{\"text\":\"Launches Per Country\"}},                        {\"responsive\": true}                    ).then(function(){\n",
              "                            \n",
              "var gd = document.getElementById('9d6a376a-4147-41ac-893f-63e40b1be49f');\n",
              "var x = new MutationObserver(function (mutations, observer) {{\n",
              "        var display = window.getComputedStyle(gd).display;\n",
              "        if (!display || display === 'none') {{\n",
              "            console.log([gd, 'removed!']);\n",
              "            Plotly.purge(gd);\n",
              "            observer.disconnect();\n",
              "        }}\n",
              "}});\n",
              "\n",
              "// Listen for the removal of the full notebook cells\n",
              "var notebookContainer = gd.closest('#notebook-container');\n",
              "if (notebookContainer) {{\n",
              "    x.observe(notebookContainer, {childList: true});\n",
              "}}\n",
              "\n",
              "// Listen for the clearing of the current output cell\n",
              "var outputEl = gd.closest('.output');\n",
              "if (outputEl) {{\n",
              "    x.observe(outputEl, {childList: true});\n",
              "}}\n",
              "\n",
              "                        })                };                            </script>        </div>\n",
              "</body>\n",
              "</html>"
            ]
          },
          "metadata": {}
        }
      ]
    },
    {
      "cell_type": "markdown",
      "metadata": {
        "id": "F3pwYSUlo_AK"
      },
      "source": [
        "# Use a Choropleth Map to Show the Number of Failures by Country\n"
      ]
    },
    {
      "cell_type": "code",
      "metadata": {
        "id": "8BH4ICtro9I0"
      },
      "source": [
        "country_total_fails = df_data.Country_Codes[df_data.Mission_Status == 'Failure'].value_counts()"
      ],
      "execution_count": 243,
      "outputs": []
    },
    {
      "cell_type": "code",
      "metadata": {
        "id": "sfw-q7Obo9GM",
        "colab": {
          "base_uri": "https://localhost:8080/",
          "height": 542
        },
        "outputId": "be3082e4-fc4a-4c2a-e636-a1c3e97b18b9"
      },
      "source": [
        "fig2 = px.choropleth(\n",
        "    country_total_fails,  # base dataframe\n",
        "    locations=country_total_fails.index,  # ISO codes\n",
        "    locationmode='ISO-3',\n",
        "    color=country_total_fails,  # specify to color each country by the number of launches\n",
        "    color_continuous_scale=px.colors.sequential.matter,  # color scale\n",
        "    title='Launches Per Country',\n",
        "    labels={'color':'Failed Launches'},  # change colors to launches\n",
        ")\n",
        "\n",
        "fig2.show()"
      ],
      "execution_count": 244,
      "outputs": [
        {
          "output_type": "display_data",
          "data": {
            "text/html": [
              "<html>\n",
              "<head><meta charset=\"utf-8\" /></head>\n",
              "<body>\n",
              "    <div>            <script src=\"https://cdnjs.cloudflare.com/ajax/libs/mathjax/2.7.5/MathJax.js?config=TeX-AMS-MML_SVG\"></script><script type=\"text/javascript\">if (window.MathJax && window.MathJax.Hub && window.MathJax.Hub.Config) {window.MathJax.Hub.Config({SVG: {font: \"STIX-Web\"}});}</script>                <script type=\"text/javascript\">window.PlotlyConfig = {MathJaxConfig: 'local'};</script>\n",
              "        <script src=\"https://cdn.plot.ly/plotly-2.12.1.min.js\"></script>                <div id=\"a6fffcd5-4600-4598-88ae-de478729d324\" class=\"plotly-graph-div\" style=\"height:525px; width:100%;\"></div>            <script type=\"text/javascript\">                                    window.PLOTLYENV=window.PLOTLYENV || {};                                    if (document.getElementById(\"a6fffcd5-4600-4598-88ae-de478729d324\")) {                    Plotly.newPlot(                        \"a6fffcd5-4600-4598-88ae-de478729d324\",                        [{\"coloraxis\":\"coloraxis\",\"geo\":\"geo\",\"hovertemplate\":\"index=%{location}<br>Failed Launches=%{z}<extra></extra>\",\"locationmode\":\"ISO-3\",\"locations\":[\"KAZ\",\"USA\",\"RUS\",\"CHN\",\"IND\",\"NZL\",\"FRA\",\"MHL\",\"Iran\"],\"name\":\"\",\"z\":[20,18,13,7,6,3,3,3,1],\"type\":\"choropleth\"}],                        {\"template\":{\"data\":{\"histogram2dcontour\":[{\"type\":\"histogram2dcontour\",\"colorbar\":{\"outlinewidth\":0,\"ticks\":\"\"},\"colorscale\":[[0.0,\"#0d0887\"],[0.1111111111111111,\"#46039f\"],[0.2222222222222222,\"#7201a8\"],[0.3333333333333333,\"#9c179e\"],[0.4444444444444444,\"#bd3786\"],[0.5555555555555556,\"#d8576b\"],[0.6666666666666666,\"#ed7953\"],[0.7777777777777778,\"#fb9f3a\"],[0.8888888888888888,\"#fdca26\"],[1.0,\"#f0f921\"]]}],\"choropleth\":[{\"type\":\"choropleth\",\"colorbar\":{\"outlinewidth\":0,\"ticks\":\"\"}}],\"histogram2d\":[{\"type\":\"histogram2d\",\"colorbar\":{\"outlinewidth\":0,\"ticks\":\"\"},\"colorscale\":[[0.0,\"#0d0887\"],[0.1111111111111111,\"#46039f\"],[0.2222222222222222,\"#7201a8\"],[0.3333333333333333,\"#9c179e\"],[0.4444444444444444,\"#bd3786\"],[0.5555555555555556,\"#d8576b\"],[0.6666666666666666,\"#ed7953\"],[0.7777777777777778,\"#fb9f3a\"],[0.8888888888888888,\"#fdca26\"],[1.0,\"#f0f921\"]]}],\"heatmap\":[{\"type\":\"heatmap\",\"colorbar\":{\"outlinewidth\":0,\"ticks\":\"\"},\"colorscale\":[[0.0,\"#0d0887\"],[0.1111111111111111,\"#46039f\"],[0.2222222222222222,\"#7201a8\"],[0.3333333333333333,\"#9c179e\"],[0.4444444444444444,\"#bd3786\"],[0.5555555555555556,\"#d8576b\"],[0.6666666666666666,\"#ed7953\"],[0.7777777777777778,\"#fb9f3a\"],[0.8888888888888888,\"#fdca26\"],[1.0,\"#f0f921\"]]}],\"heatmapgl\":[{\"type\":\"heatmapgl\",\"colorbar\":{\"outlinewidth\":0,\"ticks\":\"\"},\"colorscale\":[[0.0,\"#0d0887\"],[0.1111111111111111,\"#46039f\"],[0.2222222222222222,\"#7201a8\"],[0.3333333333333333,\"#9c179e\"],[0.4444444444444444,\"#bd3786\"],[0.5555555555555556,\"#d8576b\"],[0.6666666666666666,\"#ed7953\"],[0.7777777777777778,\"#fb9f3a\"],[0.8888888888888888,\"#fdca26\"],[1.0,\"#f0f921\"]]}],\"contourcarpet\":[{\"type\":\"contourcarpet\",\"colorbar\":{\"outlinewidth\":0,\"ticks\":\"\"}}],\"contour\":[{\"type\":\"contour\",\"colorbar\":{\"outlinewidth\":0,\"ticks\":\"\"},\"colorscale\":[[0.0,\"#0d0887\"],[0.1111111111111111,\"#46039f\"],[0.2222222222222222,\"#7201a8\"],[0.3333333333333333,\"#9c179e\"],[0.4444444444444444,\"#bd3786\"],[0.5555555555555556,\"#d8576b\"],[0.6666666666666666,\"#ed7953\"],[0.7777777777777778,\"#fb9f3a\"],[0.8888888888888888,\"#fdca26\"],[1.0,\"#f0f921\"]]}],\"surface\":[{\"type\":\"surface\",\"colorbar\":{\"outlinewidth\":0,\"ticks\":\"\"},\"colorscale\":[[0.0,\"#0d0887\"],[0.1111111111111111,\"#46039f\"],[0.2222222222222222,\"#7201a8\"],[0.3333333333333333,\"#9c179e\"],[0.4444444444444444,\"#bd3786\"],[0.5555555555555556,\"#d8576b\"],[0.6666666666666666,\"#ed7953\"],[0.7777777777777778,\"#fb9f3a\"],[0.8888888888888888,\"#fdca26\"],[1.0,\"#f0f921\"]]}],\"mesh3d\":[{\"type\":\"mesh3d\",\"colorbar\":{\"outlinewidth\":0,\"ticks\":\"\"}}],\"scatter\":[{\"fillpattern\":{\"fillmode\":\"overlay\",\"size\":10,\"solidity\":0.2},\"type\":\"scatter\"}],\"parcoords\":[{\"type\":\"parcoords\",\"line\":{\"colorbar\":{\"outlinewidth\":0,\"ticks\":\"\"}}}],\"scatterpolargl\":[{\"type\":\"scatterpolargl\",\"marker\":{\"colorbar\":{\"outlinewidth\":0,\"ticks\":\"\"}}}],\"bar\":[{\"error_x\":{\"color\":\"#2a3f5f\"},\"error_y\":{\"color\":\"#2a3f5f\"},\"marker\":{\"line\":{\"color\":\"#E5ECF6\",\"width\":0.5},\"pattern\":{\"fillmode\":\"overlay\",\"size\":10,\"solidity\":0.2}},\"type\":\"bar\"}],\"scattergeo\":[{\"type\":\"scattergeo\",\"marker\":{\"colorbar\":{\"outlinewidth\":0,\"ticks\":\"\"}}}],\"scatterpolar\":[{\"type\":\"scatterpolar\",\"marker\":{\"colorbar\":{\"outlinewidth\":0,\"ticks\":\"\"}}}],\"histogram\":[{\"marker\":{\"pattern\":{\"fillmode\":\"overlay\",\"size\":10,\"solidity\":0.2}},\"type\":\"histogram\"}],\"scattergl\":[{\"type\":\"scattergl\",\"marker\":{\"colorbar\":{\"outlinewidth\":0,\"ticks\":\"\"}}}],\"scatter3d\":[{\"type\":\"scatter3d\",\"line\":{\"colorbar\":{\"outlinewidth\":0,\"ticks\":\"\"}},\"marker\":{\"colorbar\":{\"outlinewidth\":0,\"ticks\":\"\"}}}],\"scattermapbox\":[{\"type\":\"scattermapbox\",\"marker\":{\"colorbar\":{\"outlinewidth\":0,\"ticks\":\"\"}}}],\"scatterternary\":[{\"type\":\"scatterternary\",\"marker\":{\"colorbar\":{\"outlinewidth\":0,\"ticks\":\"\"}}}],\"scattercarpet\":[{\"type\":\"scattercarpet\",\"marker\":{\"colorbar\":{\"outlinewidth\":0,\"ticks\":\"\"}}}],\"carpet\":[{\"aaxis\":{\"endlinecolor\":\"#2a3f5f\",\"gridcolor\":\"white\",\"linecolor\":\"white\",\"minorgridcolor\":\"white\",\"startlinecolor\":\"#2a3f5f\"},\"baxis\":{\"endlinecolor\":\"#2a3f5f\",\"gridcolor\":\"white\",\"linecolor\":\"white\",\"minorgridcolor\":\"white\",\"startlinecolor\":\"#2a3f5f\"},\"type\":\"carpet\"}],\"table\":[{\"cells\":{\"fill\":{\"color\":\"#EBF0F8\"},\"line\":{\"color\":\"white\"}},\"header\":{\"fill\":{\"color\":\"#C8D4E3\"},\"line\":{\"color\":\"white\"}},\"type\":\"table\"}],\"barpolar\":[{\"marker\":{\"line\":{\"color\":\"#E5ECF6\",\"width\":0.5},\"pattern\":{\"fillmode\":\"overlay\",\"size\":10,\"solidity\":0.2}},\"type\":\"barpolar\"}],\"pie\":[{\"automargin\":true,\"type\":\"pie\"}]},\"layout\":{\"autotypenumbers\":\"strict\",\"colorway\":[\"#636efa\",\"#EF553B\",\"#00cc96\",\"#ab63fa\",\"#FFA15A\",\"#19d3f3\",\"#FF6692\",\"#B6E880\",\"#FF97FF\",\"#FECB52\"],\"font\":{\"color\":\"#2a3f5f\"},\"hovermode\":\"closest\",\"hoverlabel\":{\"align\":\"left\"},\"paper_bgcolor\":\"white\",\"plot_bgcolor\":\"#E5ECF6\",\"polar\":{\"bgcolor\":\"#E5ECF6\",\"angularaxis\":{\"gridcolor\":\"white\",\"linecolor\":\"white\",\"ticks\":\"\"},\"radialaxis\":{\"gridcolor\":\"white\",\"linecolor\":\"white\",\"ticks\":\"\"}},\"ternary\":{\"bgcolor\":\"#E5ECF6\",\"aaxis\":{\"gridcolor\":\"white\",\"linecolor\":\"white\",\"ticks\":\"\"},\"baxis\":{\"gridcolor\":\"white\",\"linecolor\":\"white\",\"ticks\":\"\"},\"caxis\":{\"gridcolor\":\"white\",\"linecolor\":\"white\",\"ticks\":\"\"}},\"coloraxis\":{\"colorbar\":{\"outlinewidth\":0,\"ticks\":\"\"}},\"colorscale\":{\"sequential\":[[0.0,\"#0d0887\"],[0.1111111111111111,\"#46039f\"],[0.2222222222222222,\"#7201a8\"],[0.3333333333333333,\"#9c179e\"],[0.4444444444444444,\"#bd3786\"],[0.5555555555555556,\"#d8576b\"],[0.6666666666666666,\"#ed7953\"],[0.7777777777777778,\"#fb9f3a\"],[0.8888888888888888,\"#fdca26\"],[1.0,\"#f0f921\"]],\"sequentialminus\":[[0.0,\"#0d0887\"],[0.1111111111111111,\"#46039f\"],[0.2222222222222222,\"#7201a8\"],[0.3333333333333333,\"#9c179e\"],[0.4444444444444444,\"#bd3786\"],[0.5555555555555556,\"#d8576b\"],[0.6666666666666666,\"#ed7953\"],[0.7777777777777778,\"#fb9f3a\"],[0.8888888888888888,\"#fdca26\"],[1.0,\"#f0f921\"]],\"diverging\":[[0,\"#8e0152\"],[0.1,\"#c51b7d\"],[0.2,\"#de77ae\"],[0.3,\"#f1b6da\"],[0.4,\"#fde0ef\"],[0.5,\"#f7f7f7\"],[0.6,\"#e6f5d0\"],[0.7,\"#b8e186\"],[0.8,\"#7fbc41\"],[0.9,\"#4d9221\"],[1,\"#276419\"]]},\"xaxis\":{\"gridcolor\":\"white\",\"linecolor\":\"white\",\"ticks\":\"\",\"title\":{\"standoff\":15},\"zerolinecolor\":\"white\",\"automargin\":true,\"zerolinewidth\":2},\"yaxis\":{\"gridcolor\":\"white\",\"linecolor\":\"white\",\"ticks\":\"\",\"title\":{\"standoff\":15},\"zerolinecolor\":\"white\",\"automargin\":true,\"zerolinewidth\":2},\"scene\":{\"xaxis\":{\"backgroundcolor\":\"#E5ECF6\",\"gridcolor\":\"white\",\"linecolor\":\"white\",\"showbackground\":true,\"ticks\":\"\",\"zerolinecolor\":\"white\",\"gridwidth\":2},\"yaxis\":{\"backgroundcolor\":\"#E5ECF6\",\"gridcolor\":\"white\",\"linecolor\":\"white\",\"showbackground\":true,\"ticks\":\"\",\"zerolinecolor\":\"white\",\"gridwidth\":2},\"zaxis\":{\"backgroundcolor\":\"#E5ECF6\",\"gridcolor\":\"white\",\"linecolor\":\"white\",\"showbackground\":true,\"ticks\":\"\",\"zerolinecolor\":\"white\",\"gridwidth\":2}},\"shapedefaults\":{\"line\":{\"color\":\"#2a3f5f\"}},\"annotationdefaults\":{\"arrowcolor\":\"#2a3f5f\",\"arrowhead\":0,\"arrowwidth\":1},\"geo\":{\"bgcolor\":\"white\",\"landcolor\":\"#E5ECF6\",\"subunitcolor\":\"white\",\"showland\":true,\"showlakes\":true,\"lakecolor\":\"white\"},\"title\":{\"x\":0.05},\"mapbox\":{\"style\":\"light\"}}},\"geo\":{\"domain\":{\"x\":[0.0,1.0],\"y\":[0.0,1.0]},\"center\":{}},\"coloraxis\":{\"colorbar\":{\"title\":{\"text\":\"Failed Launches\"}},\"colorscale\":[[0.0,\"rgb(253, 237, 176)\"],[0.09090909090909091,\"rgb(250, 205, 145)\"],[0.18181818181818182,\"rgb(246, 173, 119)\"],[0.2727272727272727,\"rgb(240, 142, 98)\"],[0.36363636363636365,\"rgb(231, 109, 84)\"],[0.45454545454545453,\"rgb(216, 80, 83)\"],[0.5454545454545454,\"rgb(195, 56, 90)\"],[0.6363636363636364,\"rgb(168, 40, 96)\"],[0.7272727272727273,\"rgb(138, 29, 99)\"],[0.8181818181818182,\"rgb(107, 24, 93)\"],[0.9090909090909091,\"rgb(76, 21, 80)\"],[1.0,\"rgb(47, 15, 61)\"]]},\"legend\":{\"tracegroupgap\":0},\"title\":{\"text\":\"Launches Per Country\"}},                        {\"responsive\": true}                    ).then(function(){\n",
              "                            \n",
              "var gd = document.getElementById('a6fffcd5-4600-4598-88ae-de478729d324');\n",
              "var x = new MutationObserver(function (mutations, observer) {{\n",
              "        var display = window.getComputedStyle(gd).display;\n",
              "        if (!display || display === 'none') {{\n",
              "            console.log([gd, 'removed!']);\n",
              "            Plotly.purge(gd);\n",
              "            observer.disconnect();\n",
              "        }}\n",
              "}});\n",
              "\n",
              "// Listen for the removal of the full notebook cells\n",
              "var notebookContainer = gd.closest('#notebook-container');\n",
              "if (notebookContainer) {{\n",
              "    x.observe(notebookContainer, {childList: true});\n",
              "}}\n",
              "\n",
              "// Listen for the clearing of the current output cell\n",
              "var outputEl = gd.closest('.output');\n",
              "if (outputEl) {{\n",
              "    x.observe(outputEl, {childList: true});\n",
              "}}\n",
              "\n",
              "                        })                };                            </script>        </div>\n",
              "</body>\n",
              "</html>"
            ]
          },
          "metadata": {}
        }
      ]
    },
    {
      "cell_type": "markdown",
      "metadata": {
        "papermill": {
          "duration": 0.039343,
          "end_time": "2020-10-20T21:34:06.591694",
          "exception": false,
          "start_time": "2020-10-20T21:34:06.552351",
          "status": "completed"
        },
        "tags": [],
        "id": "9LqcqSrKa-qN"
      },
      "source": [
        "# Create a Plotly Sunburst Chart of the countries, organisations, and mission status. "
      ]
    },
    {
      "cell_type": "code",
      "metadata": {
        "id": "MwUfpoByo3_J",
        "colab": {
          "base_uri": "https://localhost:8080/",
          "height": 542
        },
        "outputId": "c96f512d-7fcb-43c2-e600-f22f9b2bcded"
      },
      "source": [
        "fig3 = px.sunburst(\n",
        "    df_data,\n",
        "    path=['Country', 'Organisation', 'Mission_Status']\n",
        ")\n",
        "\n",
        "fig3.show()"
      ],
      "execution_count": 245,
      "outputs": [
        {
          "output_type": "display_data",
          "data": {
            "text/html": [
              "<html>\n",
              "<head><meta charset=\"utf-8\" /></head>\n",
              "<body>\n",
              "    <div>            <script src=\"https://cdnjs.cloudflare.com/ajax/libs/mathjax/2.7.5/MathJax.js?config=TeX-AMS-MML_SVG\"></script><script type=\"text/javascript\">if (window.MathJax && window.MathJax.Hub && window.MathJax.Hub.Config) {window.MathJax.Hub.Config({SVG: {font: \"STIX-Web\"}});}</script>                <script type=\"text/javascript\">window.PlotlyConfig = {MathJaxConfig: 'local'};</script>\n",
              "        <script src=\"https://cdn.plot.ly/plotly-2.12.1.min.js\"></script>                <div id=\"55bc43c2-38cc-4537-b48d-faed996e2121\" class=\"plotly-graph-div\" style=\"height:525px; width:100%;\"></div>            <script type=\"text/javascript\">                                    window.PLOTLYENV=window.PLOTLYENV || {};                                    if (document.getElementById(\"55bc43c2-38cc-4537-b48d-faed996e2121\")) {                    Plotly.newPlot(                        \"55bc43c2-38cc-4537-b48d-faed996e2121\",                        [{\"branchvalues\":\"total\",\"domain\":{\"x\":[0.0,1.0],\"y\":[0.0,1.0]},\"hovertemplate\":\"labels=%{label}<br>count=%{value}<br>parent=%{parent}<br>id=%{id}<extra></extra>\",\"ids\":[\"France/Arianespace/Failure\",\"USA/Astra/Failure\",\"China/CASC/Failure\",\"USA/EER/Failure\",\"Russian Federation/Eurockot/Failure\",\"China/ExPace/Failure\",\"Kazakhstan/ILS/Failure\",\"India/ISRO/Failure\",\"Kazakhstan/Kosmotras/Failure\",\"USA/Martin Marietta/Failure\",\"USA/NASA/Failure\",\"USA/Northrop/Failure\",\"Kazakhstan/RVSN USSR/Failure\",\"Russian Federation/RVSN USSR/Failure\",\"New Zealand/Rocket Lab/Failure\",\"Kazakhstan/Roscosmos/Failure\",\"Russian Federation/Roscosmos/Failure\",\"Iran/Sandia/Failure\",\"Marshall Islands/SpaceX/Failure\",\"USA/SpaceX/Failure\",\"USA/US Air Force/Failure\",\"Kazakhstan/VKS RF/Failure\",\"Russian Federation/VKS RF/Failure\",\"USA/Virgin Orbit/Failure\",\"France/Arianespace/Partial Failure\",\"USA/Boeing/Partial Failure\",\"China/CASC/Partial Failure\",\"Kazakhstan/ILS/Partial Failure\",\"India/ISRO/Partial Failure\",\"USA/Northrop/Partial Failure\",\"Russian Federation/RVSN USSR/Partial Failure\",\"Kazakhstan/Roscosmos/Partial Failure\",\"USA/SpaceX/Partial Failure\",\"USA/ULA/Partial Failure\",\"USA/US Air Force/Partial Failure\",\"Russian Federation/VKS RF/Partial Failure\",\"Kazakhstan/RVSN USSR/Prelaunch Failure\",\"USA/SpaceX/Prelaunch Failure\",\"France/Arianespace/Success\",\"USA/Boeing/Success\",\"China/CASC/Success\",\"France/ESA/Success\",\"Russian Federation/Eurockot/Success\",\"China/ExPace/Success\",\"Kazakhstan/GK LS/Success\",\"China/Galactic Energy/Success\",\"Kazakhstan/ILS/Success\",\"USA/ILS/Success\",\"India/ISRO/Success\",\"Japan/JAXA/Success\",\"Kazakhstan/Kosmotras/Success\",\"Russian Federation/Kosmotras/Success\",\"USA/Lockheed/Success\",\"Japan/MHI/Success\",\"USA/Martin Marietta/Success\",\"USA/NASA/Success\",\"Marshall Islands/Northrop/Success\",\"USA/Northrop/Success\",\"Kazakhstan/RVSN USSR/Success\",\"Russian Federation/RVSN USSR/Success\",\"New Zealand/Rocket Lab/Success\",\"Kazakhstan/Roscosmos/Success\",\"Russian Federation/Roscosmos/Success\",\"Marshall Islands/SpaceX/Success\",\"USA/SpaceX/Success\",\"Kazakhstan/Starsem/Success\",\"Russian Federation/Starsem/Success\",\"USA/ULA/Success\",\"USA/US Air Force/Success\",\"Kazakhstan/VKS RF/Success\",\"Russian Federation/VKS RF/Success\",\"USA/Virgin Orbit/Success\",\"France/Arianespace\",\"USA/Astra\",\"USA/Boeing\",\"China/CASC\",\"USA/EER\",\"France/ESA\",\"Russian Federation/Eurockot\",\"China/ExPace\",\"Kazakhstan/GK LS\",\"China/Galactic Energy\",\"Kazakhstan/ILS\",\"USA/ILS\",\"India/ISRO\",\"Japan/JAXA\",\"Kazakhstan/Kosmotras\",\"Russian Federation/Kosmotras\",\"USA/Lockheed\",\"Japan/MHI\",\"USA/Martin Marietta\",\"USA/NASA\",\"Marshall Islands/Northrop\",\"USA/Northrop\",\"Kazakhstan/RVSN USSR\",\"Russian Federation/RVSN USSR\",\"New Zealand/Rocket Lab\",\"Kazakhstan/Roscosmos\",\"Russian Federation/Roscosmos\",\"Iran/Sandia\",\"Marshall Islands/SpaceX\",\"USA/SpaceX\",\"Kazakhstan/Starsem\",\"Russian Federation/Starsem\",\"USA/ULA\",\"USA/US Air Force\",\"Kazakhstan/VKS RF\",\"Russian Federation/VKS RF\",\"USA/Virgin Orbit\",\"China\",\"France\",\"India\",\"Iran\",\"Japan\",\"Kazakhstan\",\"Marshall Islands\",\"New Zealand\",\"Russian Federation\",\"USA\"],\"labels\":[\"Failure\",\"Failure\",\"Failure\",\"Failure\",\"Failure\",\"Failure\",\"Failure\",\"Failure\",\"Failure\",\"Failure\",\"Failure\",\"Failure\",\"Failure\",\"Failure\",\"Failure\",\"Failure\",\"Failure\",\"Failure\",\"Failure\",\"Failure\",\"Failure\",\"Failure\",\"Failure\",\"Failure\",\"Partial Failure\",\"Partial Failure\",\"Partial Failure\",\"Partial Failure\",\"Partial Failure\",\"Partial Failure\",\"Partial Failure\",\"Partial Failure\",\"Partial Failure\",\"Partial Failure\",\"Partial Failure\",\"Partial Failure\",\"Prelaunch Failure\",\"Prelaunch Failure\",\"Success\",\"Success\",\"Success\",\"Success\",\"Success\",\"Success\",\"Success\",\"Success\",\"Success\",\"Success\",\"Success\",\"Success\",\"Success\",\"Success\",\"Success\",\"Success\",\"Success\",\"Success\",\"Success\",\"Success\",\"Success\",\"Success\",\"Success\",\"Success\",\"Success\",\"Success\",\"Success\",\"Success\",\"Success\",\"Success\",\"Success\",\"Success\",\"Success\",\"Success\",\"Arianespace\",\"Astra\",\"Boeing\",\"CASC\",\"EER\",\"ESA\",\"Eurockot\",\"ExPace\",\"GK LS\",\"Galactic Energy\",\"ILS\",\"ILS\",\"ISRO\",\"JAXA\",\"Kosmotras\",\"Kosmotras\",\"Lockheed\",\"MHI\",\"Martin Marietta\",\"NASA\",\"Northrop\",\"Northrop\",\"RVSN USSR\",\"RVSN USSR\",\"Rocket Lab\",\"Roscosmos\",\"Roscosmos\",\"Sandia\",\"SpaceX\",\"SpaceX\",\"Starsem\",\"Starsem\",\"ULA\",\"US Air Force\",\"VKS RF\",\"VKS RF\",\"Virgin Orbit\",\"China\",\"France\",\"India\",\"Iran\",\"Japan\",\"Kazakhstan\",\"Marshall Islands\",\"New Zealand\",\"Russian Federation\",\"USA\"],\"name\":\"\",\"parents\":[\"France/Arianespace\",\"USA/Astra\",\"China/CASC\",\"USA/EER\",\"Russian Federation/Eurockot\",\"China/ExPace\",\"Kazakhstan/ILS\",\"India/ISRO\",\"Kazakhstan/Kosmotras\",\"USA/Martin Marietta\",\"USA/NASA\",\"USA/Northrop\",\"Kazakhstan/RVSN USSR\",\"Russian Federation/RVSN USSR\",\"New Zealand/Rocket Lab\",\"Kazakhstan/Roscosmos\",\"Russian Federation/Roscosmos\",\"Iran/Sandia\",\"Marshall Islands/SpaceX\",\"USA/SpaceX\",\"USA/US Air Force\",\"Kazakhstan/VKS RF\",\"Russian Federation/VKS RF\",\"USA/Virgin Orbit\",\"France/Arianespace\",\"USA/Boeing\",\"China/CASC\",\"Kazakhstan/ILS\",\"India/ISRO\",\"USA/Northrop\",\"Russian Federation/RVSN USSR\",\"Kazakhstan/Roscosmos\",\"USA/SpaceX\",\"USA/ULA\",\"USA/US Air Force\",\"Russian Federation/VKS RF\",\"Kazakhstan/RVSN USSR\",\"USA/SpaceX\",\"France/Arianespace\",\"USA/Boeing\",\"China/CASC\",\"France/ESA\",\"Russian Federation/Eurockot\",\"China/ExPace\",\"Kazakhstan/GK LS\",\"China/Galactic Energy\",\"Kazakhstan/ILS\",\"USA/ILS\",\"India/ISRO\",\"Japan/JAXA\",\"Kazakhstan/Kosmotras\",\"Russian Federation/Kosmotras\",\"USA/Lockheed\",\"Japan/MHI\",\"USA/Martin Marietta\",\"USA/NASA\",\"Marshall Islands/Northrop\",\"USA/Northrop\",\"Kazakhstan/RVSN USSR\",\"Russian Federation/RVSN USSR\",\"New Zealand/Rocket Lab\",\"Kazakhstan/Roscosmos\",\"Russian Federation/Roscosmos\",\"Marshall Islands/SpaceX\",\"USA/SpaceX\",\"Kazakhstan/Starsem\",\"Russian Federation/Starsem\",\"USA/ULA\",\"USA/US Air Force\",\"Kazakhstan/VKS RF\",\"Russian Federation/VKS RF\",\"USA/Virgin Orbit\",\"France\",\"USA\",\"USA\",\"China\",\"USA\",\"France\",\"Russian Federation\",\"China\",\"Kazakhstan\",\"China\",\"Kazakhstan\",\"USA\",\"India\",\"Japan\",\"Kazakhstan\",\"Russian Federation\",\"USA\",\"Japan\",\"USA\",\"USA\",\"Marshall Islands\",\"USA\",\"Kazakhstan\",\"Russian Federation\",\"New Zealand\",\"Kazakhstan\",\"Russian Federation\",\"Iran\",\"Marshall Islands\",\"USA\",\"Kazakhstan\",\"Russian Federation\",\"USA\",\"USA\",\"Kazakhstan\",\"Russian Federation\",\"USA\",\"\",\"\",\"\",\"\",\"\",\"\",\"\",\"\",\"\",\"\"],\"values\":[3,2,5,1,1,2,3,6,1,2,2,7,7,9,3,8,1,1,3,1,2,1,2,1,2,1,3,2,3,2,2,1,1,1,1,3,1,1,118,6,289,1,12,9,1,1,66,8,59,3,11,10,8,37,7,134,4,75,265,373,16,178,6,2,124,19,5,101,23,23,107,2,123,2,7,297,1,1,13,11,1,1,71,8,68,3,12,10,8,37,9,136,4,84,273,384,19,187,7,1,5,127,19,5,102,26,24,112,3,309,124,68,1,40,587,9,19,531,513],\"type\":\"sunburst\"}],                        {\"template\":{\"data\":{\"histogram2dcontour\":[{\"type\":\"histogram2dcontour\",\"colorbar\":{\"outlinewidth\":0,\"ticks\":\"\"},\"colorscale\":[[0.0,\"#0d0887\"],[0.1111111111111111,\"#46039f\"],[0.2222222222222222,\"#7201a8\"],[0.3333333333333333,\"#9c179e\"],[0.4444444444444444,\"#bd3786\"],[0.5555555555555556,\"#d8576b\"],[0.6666666666666666,\"#ed7953\"],[0.7777777777777778,\"#fb9f3a\"],[0.8888888888888888,\"#fdca26\"],[1.0,\"#f0f921\"]]}],\"choropleth\":[{\"type\":\"choropleth\",\"colorbar\":{\"outlinewidth\":0,\"ticks\":\"\"}}],\"histogram2d\":[{\"type\":\"histogram2d\",\"colorbar\":{\"outlinewidth\":0,\"ticks\":\"\"},\"colorscale\":[[0.0,\"#0d0887\"],[0.1111111111111111,\"#46039f\"],[0.2222222222222222,\"#7201a8\"],[0.3333333333333333,\"#9c179e\"],[0.4444444444444444,\"#bd3786\"],[0.5555555555555556,\"#d8576b\"],[0.6666666666666666,\"#ed7953\"],[0.7777777777777778,\"#fb9f3a\"],[0.8888888888888888,\"#fdca26\"],[1.0,\"#f0f921\"]]}],\"heatmap\":[{\"type\":\"heatmap\",\"colorbar\":{\"outlinewidth\":0,\"ticks\":\"\"},\"colorscale\":[[0.0,\"#0d0887\"],[0.1111111111111111,\"#46039f\"],[0.2222222222222222,\"#7201a8\"],[0.3333333333333333,\"#9c179e\"],[0.4444444444444444,\"#bd3786\"],[0.5555555555555556,\"#d8576b\"],[0.6666666666666666,\"#ed7953\"],[0.7777777777777778,\"#fb9f3a\"],[0.8888888888888888,\"#fdca26\"],[1.0,\"#f0f921\"]]}],\"heatmapgl\":[{\"type\":\"heatmapgl\",\"colorbar\":{\"outlinewidth\":0,\"ticks\":\"\"},\"colorscale\":[[0.0,\"#0d0887\"],[0.1111111111111111,\"#46039f\"],[0.2222222222222222,\"#7201a8\"],[0.3333333333333333,\"#9c179e\"],[0.4444444444444444,\"#bd3786\"],[0.5555555555555556,\"#d8576b\"],[0.6666666666666666,\"#ed7953\"],[0.7777777777777778,\"#fb9f3a\"],[0.8888888888888888,\"#fdca26\"],[1.0,\"#f0f921\"]]}],\"contourcarpet\":[{\"type\":\"contourcarpet\",\"colorbar\":{\"outlinewidth\":0,\"ticks\":\"\"}}],\"contour\":[{\"type\":\"contour\",\"colorbar\":{\"outlinewidth\":0,\"ticks\":\"\"},\"colorscale\":[[0.0,\"#0d0887\"],[0.1111111111111111,\"#46039f\"],[0.2222222222222222,\"#7201a8\"],[0.3333333333333333,\"#9c179e\"],[0.4444444444444444,\"#bd3786\"],[0.5555555555555556,\"#d8576b\"],[0.6666666666666666,\"#ed7953\"],[0.7777777777777778,\"#fb9f3a\"],[0.8888888888888888,\"#fdca26\"],[1.0,\"#f0f921\"]]}],\"surface\":[{\"type\":\"surface\",\"colorbar\":{\"outlinewidth\":0,\"ticks\":\"\"},\"colorscale\":[[0.0,\"#0d0887\"],[0.1111111111111111,\"#46039f\"],[0.2222222222222222,\"#7201a8\"],[0.3333333333333333,\"#9c179e\"],[0.4444444444444444,\"#bd3786\"],[0.5555555555555556,\"#d8576b\"],[0.6666666666666666,\"#ed7953\"],[0.7777777777777778,\"#fb9f3a\"],[0.8888888888888888,\"#fdca26\"],[1.0,\"#f0f921\"]]}],\"mesh3d\":[{\"type\":\"mesh3d\",\"colorbar\":{\"outlinewidth\":0,\"ticks\":\"\"}}],\"scatter\":[{\"fillpattern\":{\"fillmode\":\"overlay\",\"size\":10,\"solidity\":0.2},\"type\":\"scatter\"}],\"parcoords\":[{\"type\":\"parcoords\",\"line\":{\"colorbar\":{\"outlinewidth\":0,\"ticks\":\"\"}}}],\"scatterpolargl\":[{\"type\":\"scatterpolargl\",\"marker\":{\"colorbar\":{\"outlinewidth\":0,\"ticks\":\"\"}}}],\"bar\":[{\"error_x\":{\"color\":\"#2a3f5f\"},\"error_y\":{\"color\":\"#2a3f5f\"},\"marker\":{\"line\":{\"color\":\"#E5ECF6\",\"width\":0.5},\"pattern\":{\"fillmode\":\"overlay\",\"size\":10,\"solidity\":0.2}},\"type\":\"bar\"}],\"scattergeo\":[{\"type\":\"scattergeo\",\"marker\":{\"colorbar\":{\"outlinewidth\":0,\"ticks\":\"\"}}}],\"scatterpolar\":[{\"type\":\"scatterpolar\",\"marker\":{\"colorbar\":{\"outlinewidth\":0,\"ticks\":\"\"}}}],\"histogram\":[{\"marker\":{\"pattern\":{\"fillmode\":\"overlay\",\"size\":10,\"solidity\":0.2}},\"type\":\"histogram\"}],\"scattergl\":[{\"type\":\"scattergl\",\"marker\":{\"colorbar\":{\"outlinewidth\":0,\"ticks\":\"\"}}}],\"scatter3d\":[{\"type\":\"scatter3d\",\"line\":{\"colorbar\":{\"outlinewidth\":0,\"ticks\":\"\"}},\"marker\":{\"colorbar\":{\"outlinewidth\":0,\"ticks\":\"\"}}}],\"scattermapbox\":[{\"type\":\"scattermapbox\",\"marker\":{\"colorbar\":{\"outlinewidth\":0,\"ticks\":\"\"}}}],\"scatterternary\":[{\"type\":\"scatterternary\",\"marker\":{\"colorbar\":{\"outlinewidth\":0,\"ticks\":\"\"}}}],\"scattercarpet\":[{\"type\":\"scattercarpet\",\"marker\":{\"colorbar\":{\"outlinewidth\":0,\"ticks\":\"\"}}}],\"carpet\":[{\"aaxis\":{\"endlinecolor\":\"#2a3f5f\",\"gridcolor\":\"white\",\"linecolor\":\"white\",\"minorgridcolor\":\"white\",\"startlinecolor\":\"#2a3f5f\"},\"baxis\":{\"endlinecolor\":\"#2a3f5f\",\"gridcolor\":\"white\",\"linecolor\":\"white\",\"minorgridcolor\":\"white\",\"startlinecolor\":\"#2a3f5f\"},\"type\":\"carpet\"}],\"table\":[{\"cells\":{\"fill\":{\"color\":\"#EBF0F8\"},\"line\":{\"color\":\"white\"}},\"header\":{\"fill\":{\"color\":\"#C8D4E3\"},\"line\":{\"color\":\"white\"}},\"type\":\"table\"}],\"barpolar\":[{\"marker\":{\"line\":{\"color\":\"#E5ECF6\",\"width\":0.5},\"pattern\":{\"fillmode\":\"overlay\",\"size\":10,\"solidity\":0.2}},\"type\":\"barpolar\"}],\"pie\":[{\"automargin\":true,\"type\":\"pie\"}]},\"layout\":{\"autotypenumbers\":\"strict\",\"colorway\":[\"#636efa\",\"#EF553B\",\"#00cc96\",\"#ab63fa\",\"#FFA15A\",\"#19d3f3\",\"#FF6692\",\"#B6E880\",\"#FF97FF\",\"#FECB52\"],\"font\":{\"color\":\"#2a3f5f\"},\"hovermode\":\"closest\",\"hoverlabel\":{\"align\":\"left\"},\"paper_bgcolor\":\"white\",\"plot_bgcolor\":\"#E5ECF6\",\"polar\":{\"bgcolor\":\"#E5ECF6\",\"angularaxis\":{\"gridcolor\":\"white\",\"linecolor\":\"white\",\"ticks\":\"\"},\"radialaxis\":{\"gridcolor\":\"white\",\"linecolor\":\"white\",\"ticks\":\"\"}},\"ternary\":{\"bgcolor\":\"#E5ECF6\",\"aaxis\":{\"gridcolor\":\"white\",\"linecolor\":\"white\",\"ticks\":\"\"},\"baxis\":{\"gridcolor\":\"white\",\"linecolor\":\"white\",\"ticks\":\"\"},\"caxis\":{\"gridcolor\":\"white\",\"linecolor\":\"white\",\"ticks\":\"\"}},\"coloraxis\":{\"colorbar\":{\"outlinewidth\":0,\"ticks\":\"\"}},\"colorscale\":{\"sequential\":[[0.0,\"#0d0887\"],[0.1111111111111111,\"#46039f\"],[0.2222222222222222,\"#7201a8\"],[0.3333333333333333,\"#9c179e\"],[0.4444444444444444,\"#bd3786\"],[0.5555555555555556,\"#d8576b\"],[0.6666666666666666,\"#ed7953\"],[0.7777777777777778,\"#fb9f3a\"],[0.8888888888888888,\"#fdca26\"],[1.0,\"#f0f921\"]],\"sequentialminus\":[[0.0,\"#0d0887\"],[0.1111111111111111,\"#46039f\"],[0.2222222222222222,\"#7201a8\"],[0.3333333333333333,\"#9c179e\"],[0.4444444444444444,\"#bd3786\"],[0.5555555555555556,\"#d8576b\"],[0.6666666666666666,\"#ed7953\"],[0.7777777777777778,\"#fb9f3a\"],[0.8888888888888888,\"#fdca26\"],[1.0,\"#f0f921\"]],\"diverging\":[[0,\"#8e0152\"],[0.1,\"#c51b7d\"],[0.2,\"#de77ae\"],[0.3,\"#f1b6da\"],[0.4,\"#fde0ef\"],[0.5,\"#f7f7f7\"],[0.6,\"#e6f5d0\"],[0.7,\"#b8e186\"],[0.8,\"#7fbc41\"],[0.9,\"#4d9221\"],[1,\"#276419\"]]},\"xaxis\":{\"gridcolor\":\"white\",\"linecolor\":\"white\",\"ticks\":\"\",\"title\":{\"standoff\":15},\"zerolinecolor\":\"white\",\"automargin\":true,\"zerolinewidth\":2},\"yaxis\":{\"gridcolor\":\"white\",\"linecolor\":\"white\",\"ticks\":\"\",\"title\":{\"standoff\":15},\"zerolinecolor\":\"white\",\"automargin\":true,\"zerolinewidth\":2},\"scene\":{\"xaxis\":{\"backgroundcolor\":\"#E5ECF6\",\"gridcolor\":\"white\",\"linecolor\":\"white\",\"showbackground\":true,\"ticks\":\"\",\"zerolinecolor\":\"white\",\"gridwidth\":2},\"yaxis\":{\"backgroundcolor\":\"#E5ECF6\",\"gridcolor\":\"white\",\"linecolor\":\"white\",\"showbackground\":true,\"ticks\":\"\",\"zerolinecolor\":\"white\",\"gridwidth\":2},\"zaxis\":{\"backgroundcolor\":\"#E5ECF6\",\"gridcolor\":\"white\",\"linecolor\":\"white\",\"showbackground\":true,\"ticks\":\"\",\"zerolinecolor\":\"white\",\"gridwidth\":2}},\"shapedefaults\":{\"line\":{\"color\":\"#2a3f5f\"}},\"annotationdefaults\":{\"arrowcolor\":\"#2a3f5f\",\"arrowhead\":0,\"arrowwidth\":1},\"geo\":{\"bgcolor\":\"white\",\"landcolor\":\"#E5ECF6\",\"subunitcolor\":\"white\",\"showland\":true,\"showlakes\":true,\"lakecolor\":\"white\"},\"title\":{\"x\":0.05},\"mapbox\":{\"style\":\"light\"}}},\"legend\":{\"tracegroupgap\":0},\"margin\":{\"t\":60}},                        {\"responsive\": true}                    ).then(function(){\n",
              "                            \n",
              "var gd = document.getElementById('55bc43c2-38cc-4537-b48d-faed996e2121');\n",
              "var x = new MutationObserver(function (mutations, observer) {{\n",
              "        var display = window.getComputedStyle(gd).display;\n",
              "        if (!display || display === 'none') {{\n",
              "            console.log([gd, 'removed!']);\n",
              "            Plotly.purge(gd);\n",
              "            observer.disconnect();\n",
              "        }}\n",
              "}});\n",
              "\n",
              "// Listen for the removal of the full notebook cells\n",
              "var notebookContainer = gd.closest('#notebook-container');\n",
              "if (notebookContainer) {{\n",
              "    x.observe(notebookContainer, {childList: true});\n",
              "}}\n",
              "\n",
              "// Listen for the clearing of the current output cell\n",
              "var outputEl = gd.closest('.output');\n",
              "if (outputEl) {{\n",
              "    x.observe(outputEl, {childList: true});\n",
              "}}\n",
              "\n",
              "                        })                };                            </script>        </div>\n",
              "</body>\n",
              "</html>"
            ]
          },
          "metadata": {}
        }
      ]
    },
    {
      "cell_type": "markdown",
      "metadata": {
        "papermill": {
          "duration": 0.062712,
          "end_time": "2020-10-20T21:34:07.951200",
          "exception": false,
          "start_time": "2020-10-20T21:34:07.888488",
          "status": "completed"
        },
        "tags": [],
        "id": "70pG1BCZa-qY"
      },
      "source": [
        "# Analyse the Total Amount of Money Spent by Organisation on Space Missions"
      ]
    },
    {
      "cell_type": "code",
      "metadata": {
        "id": "IaJYxwEVpKHy"
      },
      "source": [
        "total_spent_per_org = df_data.groupby('Organisation').agg({'Price':pd.Series.sum})\n",
        "total_spent_per_org.rename(columns={'Price':'Total_Spent'}, inplace=True)"
      ],
      "execution_count": 246,
      "outputs": []
    },
    {
      "cell_type": "code",
      "metadata": {
        "id": "orIFf-appPDL",
        "colab": {
          "base_uri": "https://localhost:8080/",
          "height": 990
        },
        "outputId": "0c3d0d20-432f-4c28-da11-e6ab661c10ee"
      },
      "source": [
        "total_spent_per_org"
      ],
      "execution_count": 247,
      "outputs": [
        {
          "output_type": "execute_result",
          "data": {
            "text/plain": [
              "                 Total_Spent\n",
              "Organisation                \n",
              "Arianespace        17,386.00\n",
              "Astra                   5.00\n",
              "Boeing              1,241.00\n",
              "CASC               12,079.56\n",
              "EER                    20.00\n",
              "ESA                    37.00\n",
              "Eurockot              169.00\n",
              "ExPace                 86.30\n",
              "GK LS                  23.00\n",
              "Galactic Energy         4.90\n",
              "ILS                 5,610.00\n",
              "ISRO                2,224.00\n",
              "JAXA                  168.00\n",
              "Kosmotras             638.00\n",
              "Lockheed              280.00\n",
              "MHI                 3,532.50\n",
              "Martin Marietta       721.40\n",
              "NASA               61,200.00\n",
              "Northrop            4,265.00\n",
              "RVSN USSR          14,200.00\n",
              "Rocket Lab            142.50\n",
              "Roscosmos           6,007.82\n",
              "Sandia                 15.00\n",
              "SpaceX              7,094.00\n",
              "Starsem               618.00\n",
              "ULA                15,747.00\n",
              "US Air Force        1,550.92\n",
              "VKS RF              2,900.10\n",
              "Virgin Orbit           36.00"
            ],
            "text/html": [
              "\n",
              "  <div id=\"df-599ba5b1-0d6a-497a-9cc4-5297900fcede\">\n",
              "    <div class=\"colab-df-container\">\n",
              "      <div>\n",
              "<style scoped>\n",
              "    .dataframe tbody tr th:only-of-type {\n",
              "        vertical-align: middle;\n",
              "    }\n",
              "\n",
              "    .dataframe tbody tr th {\n",
              "        vertical-align: top;\n",
              "    }\n",
              "\n",
              "    .dataframe thead th {\n",
              "        text-align: right;\n",
              "    }\n",
              "</style>\n",
              "<table border=\"1\" class=\"dataframe\">\n",
              "  <thead>\n",
              "    <tr style=\"text-align: right;\">\n",
              "      <th></th>\n",
              "      <th>Total_Spent</th>\n",
              "    </tr>\n",
              "    <tr>\n",
              "      <th>Organisation</th>\n",
              "      <th></th>\n",
              "    </tr>\n",
              "  </thead>\n",
              "  <tbody>\n",
              "    <tr>\n",
              "      <th>Arianespace</th>\n",
              "      <td>17,386.00</td>\n",
              "    </tr>\n",
              "    <tr>\n",
              "      <th>Astra</th>\n",
              "      <td>5.00</td>\n",
              "    </tr>\n",
              "    <tr>\n",
              "      <th>Boeing</th>\n",
              "      <td>1,241.00</td>\n",
              "    </tr>\n",
              "    <tr>\n",
              "      <th>CASC</th>\n",
              "      <td>12,079.56</td>\n",
              "    </tr>\n",
              "    <tr>\n",
              "      <th>EER</th>\n",
              "      <td>20.00</td>\n",
              "    </tr>\n",
              "    <tr>\n",
              "      <th>ESA</th>\n",
              "      <td>37.00</td>\n",
              "    </tr>\n",
              "    <tr>\n",
              "      <th>Eurockot</th>\n",
              "      <td>169.00</td>\n",
              "    </tr>\n",
              "    <tr>\n",
              "      <th>ExPace</th>\n",
              "      <td>86.30</td>\n",
              "    </tr>\n",
              "    <tr>\n",
              "      <th>GK LS</th>\n",
              "      <td>23.00</td>\n",
              "    </tr>\n",
              "    <tr>\n",
              "      <th>Galactic Energy</th>\n",
              "      <td>4.90</td>\n",
              "    </tr>\n",
              "    <tr>\n",
              "      <th>ILS</th>\n",
              "      <td>5,610.00</td>\n",
              "    </tr>\n",
              "    <tr>\n",
              "      <th>ISRO</th>\n",
              "      <td>2,224.00</td>\n",
              "    </tr>\n",
              "    <tr>\n",
              "      <th>JAXA</th>\n",
              "      <td>168.00</td>\n",
              "    </tr>\n",
              "    <tr>\n",
              "      <th>Kosmotras</th>\n",
              "      <td>638.00</td>\n",
              "    </tr>\n",
              "    <tr>\n",
              "      <th>Lockheed</th>\n",
              "      <td>280.00</td>\n",
              "    </tr>\n",
              "    <tr>\n",
              "      <th>MHI</th>\n",
              "      <td>3,532.50</td>\n",
              "    </tr>\n",
              "    <tr>\n",
              "      <th>Martin Marietta</th>\n",
              "      <td>721.40</td>\n",
              "    </tr>\n",
              "    <tr>\n",
              "      <th>NASA</th>\n",
              "      <td>61,200.00</td>\n",
              "    </tr>\n",
              "    <tr>\n",
              "      <th>Northrop</th>\n",
              "      <td>4,265.00</td>\n",
              "    </tr>\n",
              "    <tr>\n",
              "      <th>RVSN USSR</th>\n",
              "      <td>14,200.00</td>\n",
              "    </tr>\n",
              "    <tr>\n",
              "      <th>Rocket Lab</th>\n",
              "      <td>142.50</td>\n",
              "    </tr>\n",
              "    <tr>\n",
              "      <th>Roscosmos</th>\n",
              "      <td>6,007.82</td>\n",
              "    </tr>\n",
              "    <tr>\n",
              "      <th>Sandia</th>\n",
              "      <td>15.00</td>\n",
              "    </tr>\n",
              "    <tr>\n",
              "      <th>SpaceX</th>\n",
              "      <td>7,094.00</td>\n",
              "    </tr>\n",
              "    <tr>\n",
              "      <th>Starsem</th>\n",
              "      <td>618.00</td>\n",
              "    </tr>\n",
              "    <tr>\n",
              "      <th>ULA</th>\n",
              "      <td>15,747.00</td>\n",
              "    </tr>\n",
              "    <tr>\n",
              "      <th>US Air Force</th>\n",
              "      <td>1,550.92</td>\n",
              "    </tr>\n",
              "    <tr>\n",
              "      <th>VKS RF</th>\n",
              "      <td>2,900.10</td>\n",
              "    </tr>\n",
              "    <tr>\n",
              "      <th>Virgin Orbit</th>\n",
              "      <td>36.00</td>\n",
              "    </tr>\n",
              "  </tbody>\n",
              "</table>\n",
              "</div>\n",
              "      <button class=\"colab-df-convert\" onclick=\"convertToInteractive('df-599ba5b1-0d6a-497a-9cc4-5297900fcede')\"\n",
              "              title=\"Convert this dataframe to an interactive table.\"\n",
              "              style=\"display:none;\">\n",
              "        \n",
              "  <svg xmlns=\"http://www.w3.org/2000/svg\" height=\"24px\"viewBox=\"0 0 24 24\"\n",
              "       width=\"24px\">\n",
              "    <path d=\"M0 0h24v24H0V0z\" fill=\"none\"/>\n",
              "    <path d=\"M18.56 5.44l.94 2.06.94-2.06 2.06-.94-2.06-.94-.94-2.06-.94 2.06-2.06.94zm-11 1L8.5 8.5l.94-2.06 2.06-.94-2.06-.94L8.5 2.5l-.94 2.06-2.06.94zm10 10l.94 2.06.94-2.06 2.06-.94-2.06-.94-.94-2.06-.94 2.06-2.06.94z\"/><path d=\"M17.41 7.96l-1.37-1.37c-.4-.4-.92-.59-1.43-.59-.52 0-1.04.2-1.43.59L10.3 9.45l-7.72 7.72c-.78.78-.78 2.05 0 2.83L4 21.41c.39.39.9.59 1.41.59.51 0 1.02-.2 1.41-.59l7.78-7.78 2.81-2.81c.8-.78.8-2.07 0-2.86zM5.41 20L4 18.59l7.72-7.72 1.47 1.35L5.41 20z\"/>\n",
              "  </svg>\n",
              "      </button>\n",
              "      \n",
              "  <style>\n",
              "    .colab-df-container {\n",
              "      display:flex;\n",
              "      flex-wrap:wrap;\n",
              "      gap: 12px;\n",
              "    }\n",
              "\n",
              "    .colab-df-convert {\n",
              "      background-color: #E8F0FE;\n",
              "      border: none;\n",
              "      border-radius: 50%;\n",
              "      cursor: pointer;\n",
              "      display: none;\n",
              "      fill: #1967D2;\n",
              "      height: 32px;\n",
              "      padding: 0 0 0 0;\n",
              "      width: 32px;\n",
              "    }\n",
              "\n",
              "    .colab-df-convert:hover {\n",
              "      background-color: #E2EBFA;\n",
              "      box-shadow: 0px 1px 2px rgba(60, 64, 67, 0.3), 0px 1px 3px 1px rgba(60, 64, 67, 0.15);\n",
              "      fill: #174EA6;\n",
              "    }\n",
              "\n",
              "    [theme=dark] .colab-df-convert {\n",
              "      background-color: #3B4455;\n",
              "      fill: #D2E3FC;\n",
              "    }\n",
              "\n",
              "    [theme=dark] .colab-df-convert:hover {\n",
              "      background-color: #434B5C;\n",
              "      box-shadow: 0px 1px 3px 1px rgba(0, 0, 0, 0.15);\n",
              "      filter: drop-shadow(0px 1px 2px rgba(0, 0, 0, 0.3));\n",
              "      fill: #FFFFFF;\n",
              "    }\n",
              "  </style>\n",
              "\n",
              "      <script>\n",
              "        const buttonEl =\n",
              "          document.querySelector('#df-599ba5b1-0d6a-497a-9cc4-5297900fcede button.colab-df-convert');\n",
              "        buttonEl.style.display =\n",
              "          google.colab.kernel.accessAllowed ? 'block' : 'none';\n",
              "\n",
              "        async function convertToInteractive(key) {\n",
              "          const element = document.querySelector('#df-599ba5b1-0d6a-497a-9cc4-5297900fcede');\n",
              "          const dataTable =\n",
              "            await google.colab.kernel.invokeFunction('convertToInteractive',\n",
              "                                                     [key], {});\n",
              "          if (!dataTable) return;\n",
              "\n",
              "          const docLinkHtml = 'Like what you see? Visit the ' +\n",
              "            '<a target=\"_blank\" href=https://colab.research.google.com/notebooks/data_table.ipynb>data table notebook</a>'\n",
              "            + ' to learn more about interactive tables.';\n",
              "          element.innerHTML = '';\n",
              "          dataTable['output_type'] = 'display_data';\n",
              "          await google.colab.output.renderOutput(dataTable, element);\n",
              "          const docLink = document.createElement('div');\n",
              "          docLink.innerHTML = docLinkHtml;\n",
              "          element.appendChild(docLink);\n",
              "        }\n",
              "      </script>\n",
              "    </div>\n",
              "  </div>\n",
              "  "
            ]
          },
          "metadata": {},
          "execution_count": 247
        }
      ]
    },
    {
      "cell_type": "markdown",
      "metadata": {
        "id": "DpsWkPxzpPXs"
      },
      "source": [
        "# Analyse the Amount of Money Spent by Organisation per Launch"
      ]
    },
    {
      "cell_type": "code",
      "metadata": {
        "id": "opYJ6GiRpTk5"
      },
      "source": [
        "launches_per_org = df_data.groupby('Organisation').agg({'Organisation':pd.Series.count})\n",
        "launches_per_org.rename(columns={'Organisation':'Launches'}, inplace=True)"
      ],
      "execution_count": 248,
      "outputs": []
    },
    {
      "cell_type": "code",
      "metadata": {
        "id": "VEkHzAk2pTvj"
      },
      "source": [
        "total_spent_per_org['Avg_Per_Launch'] = total_spent_per_org['Total_Spent']/launches_per_org.Launches"
      ],
      "execution_count": 249,
      "outputs": []
    },
    {
      "cell_type": "code",
      "metadata": {
        "id": "R5rFf501pKXD",
        "colab": {
          "base_uri": "https://localhost:8080/",
          "height": 990
        },
        "outputId": "48531c63-b14a-4ff6-e2d9-df55d69b4adf"
      },
      "source": [
        "total_spent_per_org"
      ],
      "execution_count": 250,
      "outputs": [
        {
          "output_type": "execute_result",
          "data": {
            "text/plain": [
              "                 Total_Spent  Avg_Per_Launch\n",
              "Organisation                                \n",
              "Arianespace        17,386.00          141.35\n",
              "Astra                   5.00            2.50\n",
              "Boeing              1,241.00          177.29\n",
              "CASC               12,079.56           40.67\n",
              "EER                    20.00           20.00\n",
              "ESA                    37.00           37.00\n",
              "Eurockot              169.00           13.00\n",
              "ExPace                 86.30            7.85\n",
              "GK LS                  23.00           23.00\n",
              "Galactic Energy         4.90            4.90\n",
              "ILS                 5,610.00           71.01\n",
              "ISRO                2,224.00           32.71\n",
              "JAXA                  168.00           56.00\n",
              "Kosmotras             638.00           29.00\n",
              "Lockheed              280.00           35.00\n",
              "MHI                 3,532.50           95.47\n",
              "Martin Marietta       721.40           80.16\n",
              "NASA               61,200.00          450.00\n",
              "Northrop            4,265.00           48.47\n",
              "RVSN USSR          14,200.00           21.61\n",
              "Rocket Lab            142.50            7.50\n",
              "Roscosmos           6,007.82           30.97\n",
              "Sandia                 15.00           15.00\n",
              "SpaceX              7,094.00           53.74\n",
              "Starsem               618.00           25.75\n",
              "ULA                15,747.00          154.38\n",
              "US Air Force        1,550.92           59.65\n",
              "VKS RF              2,900.10           21.32\n",
              "Virgin Orbit           36.00           12.00"
            ],
            "text/html": [
              "\n",
              "  <div id=\"df-f42cf6e3-1c5a-4fbf-b06f-3615b1b991d4\">\n",
              "    <div class=\"colab-df-container\">\n",
              "      <div>\n",
              "<style scoped>\n",
              "    .dataframe tbody tr th:only-of-type {\n",
              "        vertical-align: middle;\n",
              "    }\n",
              "\n",
              "    .dataframe tbody tr th {\n",
              "        vertical-align: top;\n",
              "    }\n",
              "\n",
              "    .dataframe thead th {\n",
              "        text-align: right;\n",
              "    }\n",
              "</style>\n",
              "<table border=\"1\" class=\"dataframe\">\n",
              "  <thead>\n",
              "    <tr style=\"text-align: right;\">\n",
              "      <th></th>\n",
              "      <th>Total_Spent</th>\n",
              "      <th>Avg_Per_Launch</th>\n",
              "    </tr>\n",
              "    <tr>\n",
              "      <th>Organisation</th>\n",
              "      <th></th>\n",
              "      <th></th>\n",
              "    </tr>\n",
              "  </thead>\n",
              "  <tbody>\n",
              "    <tr>\n",
              "      <th>Arianespace</th>\n",
              "      <td>17,386.00</td>\n",
              "      <td>141.35</td>\n",
              "    </tr>\n",
              "    <tr>\n",
              "      <th>Astra</th>\n",
              "      <td>5.00</td>\n",
              "      <td>2.50</td>\n",
              "    </tr>\n",
              "    <tr>\n",
              "      <th>Boeing</th>\n",
              "      <td>1,241.00</td>\n",
              "      <td>177.29</td>\n",
              "    </tr>\n",
              "    <tr>\n",
              "      <th>CASC</th>\n",
              "      <td>12,079.56</td>\n",
              "      <td>40.67</td>\n",
              "    </tr>\n",
              "    <tr>\n",
              "      <th>EER</th>\n",
              "      <td>20.00</td>\n",
              "      <td>20.00</td>\n",
              "    </tr>\n",
              "    <tr>\n",
              "      <th>ESA</th>\n",
              "      <td>37.00</td>\n",
              "      <td>37.00</td>\n",
              "    </tr>\n",
              "    <tr>\n",
              "      <th>Eurockot</th>\n",
              "      <td>169.00</td>\n",
              "      <td>13.00</td>\n",
              "    </tr>\n",
              "    <tr>\n",
              "      <th>ExPace</th>\n",
              "      <td>86.30</td>\n",
              "      <td>7.85</td>\n",
              "    </tr>\n",
              "    <tr>\n",
              "      <th>GK LS</th>\n",
              "      <td>23.00</td>\n",
              "      <td>23.00</td>\n",
              "    </tr>\n",
              "    <tr>\n",
              "      <th>Galactic Energy</th>\n",
              "      <td>4.90</td>\n",
              "      <td>4.90</td>\n",
              "    </tr>\n",
              "    <tr>\n",
              "      <th>ILS</th>\n",
              "      <td>5,610.00</td>\n",
              "      <td>71.01</td>\n",
              "    </tr>\n",
              "    <tr>\n",
              "      <th>ISRO</th>\n",
              "      <td>2,224.00</td>\n",
              "      <td>32.71</td>\n",
              "    </tr>\n",
              "    <tr>\n",
              "      <th>JAXA</th>\n",
              "      <td>168.00</td>\n",
              "      <td>56.00</td>\n",
              "    </tr>\n",
              "    <tr>\n",
              "      <th>Kosmotras</th>\n",
              "      <td>638.00</td>\n",
              "      <td>29.00</td>\n",
              "    </tr>\n",
              "    <tr>\n",
              "      <th>Lockheed</th>\n",
              "      <td>280.00</td>\n",
              "      <td>35.00</td>\n",
              "    </tr>\n",
              "    <tr>\n",
              "      <th>MHI</th>\n",
              "      <td>3,532.50</td>\n",
              "      <td>95.47</td>\n",
              "    </tr>\n",
              "    <tr>\n",
              "      <th>Martin Marietta</th>\n",
              "      <td>721.40</td>\n",
              "      <td>80.16</td>\n",
              "    </tr>\n",
              "    <tr>\n",
              "      <th>NASA</th>\n",
              "      <td>61,200.00</td>\n",
              "      <td>450.00</td>\n",
              "    </tr>\n",
              "    <tr>\n",
              "      <th>Northrop</th>\n",
              "      <td>4,265.00</td>\n",
              "      <td>48.47</td>\n",
              "    </tr>\n",
              "    <tr>\n",
              "      <th>RVSN USSR</th>\n",
              "      <td>14,200.00</td>\n",
              "      <td>21.61</td>\n",
              "    </tr>\n",
              "    <tr>\n",
              "      <th>Rocket Lab</th>\n",
              "      <td>142.50</td>\n",
              "      <td>7.50</td>\n",
              "    </tr>\n",
              "    <tr>\n",
              "      <th>Roscosmos</th>\n",
              "      <td>6,007.82</td>\n",
              "      <td>30.97</td>\n",
              "    </tr>\n",
              "    <tr>\n",
              "      <th>Sandia</th>\n",
              "      <td>15.00</td>\n",
              "      <td>15.00</td>\n",
              "    </tr>\n",
              "    <tr>\n",
              "      <th>SpaceX</th>\n",
              "      <td>7,094.00</td>\n",
              "      <td>53.74</td>\n",
              "    </tr>\n",
              "    <tr>\n",
              "      <th>Starsem</th>\n",
              "      <td>618.00</td>\n",
              "      <td>25.75</td>\n",
              "    </tr>\n",
              "    <tr>\n",
              "      <th>ULA</th>\n",
              "      <td>15,747.00</td>\n",
              "      <td>154.38</td>\n",
              "    </tr>\n",
              "    <tr>\n",
              "      <th>US Air Force</th>\n",
              "      <td>1,550.92</td>\n",
              "      <td>59.65</td>\n",
              "    </tr>\n",
              "    <tr>\n",
              "      <th>VKS RF</th>\n",
              "      <td>2,900.10</td>\n",
              "      <td>21.32</td>\n",
              "    </tr>\n",
              "    <tr>\n",
              "      <th>Virgin Orbit</th>\n",
              "      <td>36.00</td>\n",
              "      <td>12.00</td>\n",
              "    </tr>\n",
              "  </tbody>\n",
              "</table>\n",
              "</div>\n",
              "      <button class=\"colab-df-convert\" onclick=\"convertToInteractive('df-f42cf6e3-1c5a-4fbf-b06f-3615b1b991d4')\"\n",
              "              title=\"Convert this dataframe to an interactive table.\"\n",
              "              style=\"display:none;\">\n",
              "        \n",
              "  <svg xmlns=\"http://www.w3.org/2000/svg\" height=\"24px\"viewBox=\"0 0 24 24\"\n",
              "       width=\"24px\">\n",
              "    <path d=\"M0 0h24v24H0V0z\" fill=\"none\"/>\n",
              "    <path d=\"M18.56 5.44l.94 2.06.94-2.06 2.06-.94-2.06-.94-.94-2.06-.94 2.06-2.06.94zm-11 1L8.5 8.5l.94-2.06 2.06-.94-2.06-.94L8.5 2.5l-.94 2.06-2.06.94zm10 10l.94 2.06.94-2.06 2.06-.94-2.06-.94-.94-2.06-.94 2.06-2.06.94z\"/><path d=\"M17.41 7.96l-1.37-1.37c-.4-.4-.92-.59-1.43-.59-.52 0-1.04.2-1.43.59L10.3 9.45l-7.72 7.72c-.78.78-.78 2.05 0 2.83L4 21.41c.39.39.9.59 1.41.59.51 0 1.02-.2 1.41-.59l7.78-7.78 2.81-2.81c.8-.78.8-2.07 0-2.86zM5.41 20L4 18.59l7.72-7.72 1.47 1.35L5.41 20z\"/>\n",
              "  </svg>\n",
              "      </button>\n",
              "      \n",
              "  <style>\n",
              "    .colab-df-container {\n",
              "      display:flex;\n",
              "      flex-wrap:wrap;\n",
              "      gap: 12px;\n",
              "    }\n",
              "\n",
              "    .colab-df-convert {\n",
              "      background-color: #E8F0FE;\n",
              "      border: none;\n",
              "      border-radius: 50%;\n",
              "      cursor: pointer;\n",
              "      display: none;\n",
              "      fill: #1967D2;\n",
              "      height: 32px;\n",
              "      padding: 0 0 0 0;\n",
              "      width: 32px;\n",
              "    }\n",
              "\n",
              "    .colab-df-convert:hover {\n",
              "      background-color: #E2EBFA;\n",
              "      box-shadow: 0px 1px 2px rgba(60, 64, 67, 0.3), 0px 1px 3px 1px rgba(60, 64, 67, 0.15);\n",
              "      fill: #174EA6;\n",
              "    }\n",
              "\n",
              "    [theme=dark] .colab-df-convert {\n",
              "      background-color: #3B4455;\n",
              "      fill: #D2E3FC;\n",
              "    }\n",
              "\n",
              "    [theme=dark] .colab-df-convert:hover {\n",
              "      background-color: #434B5C;\n",
              "      box-shadow: 0px 1px 3px 1px rgba(0, 0, 0, 0.15);\n",
              "      filter: drop-shadow(0px 1px 2px rgba(0, 0, 0, 0.3));\n",
              "      fill: #FFFFFF;\n",
              "    }\n",
              "  </style>\n",
              "\n",
              "      <script>\n",
              "        const buttonEl =\n",
              "          document.querySelector('#df-f42cf6e3-1c5a-4fbf-b06f-3615b1b991d4 button.colab-df-convert');\n",
              "        buttonEl.style.display =\n",
              "          google.colab.kernel.accessAllowed ? 'block' : 'none';\n",
              "\n",
              "        async function convertToInteractive(key) {\n",
              "          const element = document.querySelector('#df-f42cf6e3-1c5a-4fbf-b06f-3615b1b991d4');\n",
              "          const dataTable =\n",
              "            await google.colab.kernel.invokeFunction('convertToInteractive',\n",
              "                                                     [key], {});\n",
              "          if (!dataTable) return;\n",
              "\n",
              "          const docLinkHtml = 'Like what you see? Visit the ' +\n",
              "            '<a target=\"_blank\" href=https://colab.research.google.com/notebooks/data_table.ipynb>data table notebook</a>'\n",
              "            + ' to learn more about interactive tables.';\n",
              "          element.innerHTML = '';\n",
              "          dataTable['output_type'] = 'display_data';\n",
              "          await google.colab.output.renderOutput(dataTable, element);\n",
              "          const docLink = document.createElement('div');\n",
              "          docLink.innerHTML = docLinkHtml;\n",
              "          element.appendChild(docLink);\n",
              "        }\n",
              "      </script>\n",
              "    </div>\n",
              "  </div>\n",
              "  "
            ]
          },
          "metadata": {},
          "execution_count": 250
        }
      ]
    },
    {
      "cell_type": "markdown",
      "metadata": {
        "papermill": {
          "duration": 0.042662,
          "end_time": "2020-10-20T21:34:09.943196",
          "exception": false,
          "start_time": "2020-10-20T21:34:09.900534",
          "status": "completed"
        },
        "tags": [],
        "id": "yRa1BbPoa-qf"
      },
      "source": [
        "# Chart the Number of Launches per Year"
      ]
    },
    {
      "cell_type": "code",
      "metadata": {
        "id": "_9FohVh3pcAJ"
      },
      "source": [
        "# split once by comma to get 2nd half of string, then split again by space and take the first string\n",
        "# since to_datetime() is now working for this data\n",
        "\n",
        "yearly_launches = df_data.Date.str.split(', ').str[1].str.split(' ').str[0]\n",
        "yearly_launches = yearly_launches.value_counts(sort=False)"
      ],
      "execution_count": 251,
      "outputs": []
    },
    {
      "cell_type": "code",
      "metadata": {
        "id": "b2pggcZBpb4x",
        "colab": {
          "base_uri": "https://localhost:8080/",
          "height": 889
        },
        "outputId": "81270884-020f-4187-b5b4-cccea2a11b6b"
      },
      "source": [
        "plt.figure(figsize=(20, 10), dpi=200)\n",
        "\n",
        "plt.plot(yearly_launches.index, yearly_launches)\n",
        "\n",
        "plt.xticks(ticks=yearly_launches.index, rotation=45)\n",
        "\n",
        "plt.title('Launches Per Year')\n",
        "\n",
        "plt.show()"
      ],
      "execution_count": 252,
      "outputs": [
        {
          "output_type": "display_data",
          "data": {
            "text/plain": [
              "<Figure size 4000x2000 with 1 Axes>"
            ],
            "image/png": "[encoded data removed]"
          },
          "metadata": {
            "needs_background": "light"
          }
        }
      ]
    },
    {
      "cell_type": "markdown",
      "metadata": {
        "papermill": {
          "duration": 0.044409,
          "end_time": "2020-10-20T21:34:10.162592",
          "exception": false,
          "start_time": "2020-10-20T21:34:10.118183",
          "status": "completed"
        },
        "tags": [],
        "id": "t-avMIZoa-qh"
      },
      "source": [
        "# Launches per Month: Which months are most popular and least popular for launches?\n",
        "\n",
        "Some months have better weather than others. Which time of year seems to be best for space missions?"
      ]
    },
    {
      "cell_type": "code",
      "metadata": {
        "id": "zmtp5uBHppFG"
      },
      "source": [
        "monthly_launches = df_data.Date.str.split(' ').str[1]\n",
        "monthly_launches = monthly_launches.value_counts()"
      ],
      "execution_count": 253,
      "outputs": []
    },
    {
      "cell_type": "code",
      "metadata": {
        "id": "fnk2m_cpppJo",
        "colab": {
          "base_uri": "https://localhost:8080/"
        },
        "outputId": "7d423142-7aa7-4b5d-ee5e-f5db4876690a"
      },
      "source": [
        "monthly_launches  # december is the most popular month, but not by alot, there doesn't seem to be a trend"
      ],
      "execution_count": 254,
      "outputs": [
        {
          "output_type": "execute_result",
          "data": {
            "text/plain": [
              "Dec    223\n",
              "Sep    214\n",
              "May    202\n",
              "Apr    197\n",
              "Aug    193\n",
              "Jun    192\n",
              "Oct    186\n",
              "Jul    185\n",
              "Nov    172\n",
              "Mar    159\n",
              "Feb    144\n",
              "Jan    134\n",
              "Name: Date, dtype: int64"
            ]
          },
          "metadata": {},
          "execution_count": 254
        }
      ]
    },
    {
      "cell_type": "markdown",
      "metadata": {
        "papermill": {
          "duration": 0.067915,
          "end_time": "2020-10-20T21:34:11.122539",
          "exception": false,
          "start_time": "2020-10-20T21:34:11.054624",
          "status": "completed"
        },
        "tags": [],
        "id": "dPQ_N_sfa-qo"
      },
      "source": [
        "# How has the Launch Price varied Over Time? \n",
        "\n",
        "Create a line chart that shows the average price of rocket launches over time. "
      ]
    },
    {
      "cell_type": "code",
      "metadata": {
        "id": "hFc-2M5-qCrv"
      },
      "source": [
        "# let's get the average price of rocket launches per year\n",
        "df_data['Year'] = df_data.Date.str.split(', ').str[1].str.split(' ').str[0]"
      ],
      "execution_count": 255,
      "outputs": []
    },
    {
      "cell_type": "code",
      "source": [
        "avg_price_per_year = df_data.groupby('Year').agg({'Price':pd.Series.mean})"
      ],
      "metadata": {
        "id": "tQNhSt2Ui3bu"
      },
      "execution_count": 256,
      "outputs": []
    },
    {
      "cell_type": "code",
      "source": [
        "plt.figure(figsize=(13, 7), dpi=100)\n",
        "\n",
        "plt.plot(avg_price_per_year.index, avg_price_per_year.Price)\n",
        "\n",
        "plt.xticks(ticks=avg_price_per_year.index, rotation=45)\n",
        "\n",
        "plt.title('Launches Price Variance Over Time')\n",
        "\n",
        "plt.show()"
      ],
      "metadata": {
        "colab": {
          "base_uri": "https://localhost:8080/",
          "height": 632
        },
        "id": "EhgBHeEAiNmS",
        "outputId": "da5b0b7c-73d7-41fc-f6f0-7906bff317da"
      },
      "execution_count": 257,
      "outputs": [
        {
          "output_type": "display_data",
          "data": {
            "text/plain": [
              "<Figure size 1300x700 with 1 Axes>"
            ],
            "image/png": "[encoded data removed]"
          },
          "metadata": {
            "needs_background": "light"
          }
        }
      ]
    },
    {
      "cell_type": "markdown",
      "metadata": {
        "papermill": {
          "duration": 0.047152,
          "end_time": "2020-10-20T21:34:11.681371",
          "exception": false,
          "start_time": "2020-10-20T21:34:11.634219",
          "status": "completed"
        },
        "tags": [],
        "id": "8OYrWyiOa-qs"
      },
      "source": [
        "# Chart the Number of Launches over Time by the Top 10 Organisations. \n",
        "\n",
        "How has the dominance of launches changed over time between the different players? "
      ]
    },
    {
      "cell_type": "code",
      "metadata": {
        "id": "RcsrPPpAqVFj"
      },
      "source": [
        "top_10_orgs = df_data.groupby(['Organisation', 'Year']).agg({'Price':pd.Series.mean})"
      ],
      "execution_count": 258,
      "outputs": []
    },
    {
      "cell_type": "code",
      "metadata": {
        "id": "1IgfafiyqWEe",
        "colab": {
          "base_uri": "https://localhost:8080/",
          "height": 455
        },
        "outputId": "ca8e286b-138a-4d68-a803-967400e4efd8"
      },
      "source": [
        "top_10_orgs"
      ],
      "execution_count": 259,
      "outputs": [
        {
          "output_type": "execute_result",
          "data": {
            "text/plain": [
              "                   Price\n",
              "Organisation Year       \n",
              "Arianespace  2002 200.00\n",
              "             2004 190.00\n",
              "             2005 200.00\n",
              "             2006 200.00\n",
              "             2007 200.00\n",
              "...                  ...\n",
              "VKS RF       2019  20.67\n",
              "             2020  35.43\n",
              "             2021  20.00\n",
              "Virgin Orbit 2020  12.00\n",
              "             2021  12.00\n",
              "\n",
              "[355 rows x 1 columns]"
            ],
            "text/html": [
              "\n",
              "  <div id=\"df-4e2cb9ca-a76c-4dfb-a4d8-7879a4f0ea8a\">\n",
              "    <div class=\"colab-df-container\">\n",
              "      <div>\n",
              "<style scoped>\n",
              "    .dataframe tbody tr th:only-of-type {\n",
              "        vertical-align: middle;\n",
              "    }\n",
              "\n",
              "    .dataframe tbody tr th {\n",
              "        vertical-align: top;\n",
              "    }\n",
              "\n",
              "    .dataframe thead th {\n",
              "        text-align: right;\n",
              "    }\n",
              "</style>\n",
              "<table border=\"1\" class=\"dataframe\">\n",
              "  <thead>\n",
              "    <tr style=\"text-align: right;\">\n",
              "      <th></th>\n",
              "      <th></th>\n",
              "      <th>Price</th>\n",
              "    </tr>\n",
              "    <tr>\n",
              "      <th>Organisation</th>\n",
              "      <th>Year</th>\n",
              "      <th></th>\n",
              "    </tr>\n",
              "  </thead>\n",
              "  <tbody>\n",
              "    <tr>\n",
              "      <th rowspan=\"5\" valign=\"top\">Arianespace</th>\n",
              "      <th>2002</th>\n",
              "      <td>200.00</td>\n",
              "    </tr>\n",
              "    <tr>\n",
              "      <th>2004</th>\n",
              "      <td>190.00</td>\n",
              "    </tr>\n",
              "    <tr>\n",
              "      <th>2005</th>\n",
              "      <td>200.00</td>\n",
              "    </tr>\n",
              "    <tr>\n",
              "      <th>2006</th>\n",
              "      <td>200.00</td>\n",
              "    </tr>\n",
              "    <tr>\n",
              "      <th>2007</th>\n",
              "      <td>200.00</td>\n",
              "    </tr>\n",
              "    <tr>\n",
              "      <th>...</th>\n",
              "      <th>...</th>\n",
              "      <td>...</td>\n",
              "    </tr>\n",
              "    <tr>\n",
              "      <th rowspan=\"3\" valign=\"top\">VKS RF</th>\n",
              "      <th>2019</th>\n",
              "      <td>20.67</td>\n",
              "    </tr>\n",
              "    <tr>\n",
              "      <th>2020</th>\n",
              "      <td>35.43</td>\n",
              "    </tr>\n",
              "    <tr>\n",
              "      <th>2021</th>\n",
              "      <td>20.00</td>\n",
              "    </tr>\n",
              "    <tr>\n",
              "      <th rowspan=\"2\" valign=\"top\">Virgin Orbit</th>\n",
              "      <th>2020</th>\n",
              "      <td>12.00</td>\n",
              "    </tr>\n",
              "    <tr>\n",
              "      <th>2021</th>\n",
              "      <td>12.00</td>\n",
              "    </tr>\n",
              "  </tbody>\n",
              "</table>\n",
              "<p>355 rows × 1 columns</p>\n",
              "</div>\n",
              "      <button class=\"colab-df-convert\" onclick=\"convertToInteractive('df-4e2cb9ca-a76c-4dfb-a4d8-7879a4f0ea8a')\"\n",
              "              title=\"Convert this dataframe to an interactive table.\"\n",
              "              style=\"display:none;\">\n",
              "        \n",
              "  <svg xmlns=\"http://www.w3.org/2000/svg\" height=\"24px\"viewBox=\"0 0 24 24\"\n",
              "       width=\"24px\">\n",
              "    <path d=\"M0 0h24v24H0V0z\" fill=\"none\"/>\n",
              "    <path d=\"M18.56 5.44l.94 2.06.94-2.06 2.06-.94-2.06-.94-.94-2.06-.94 2.06-2.06.94zm-11 1L8.5 8.5l.94-2.06 2.06-.94-2.06-.94L8.5 2.5l-.94 2.06-2.06.94zm10 10l.94 2.06.94-2.06 2.06-.94-2.06-.94-.94-2.06-.94 2.06-2.06.94z\"/><path d=\"M17.41 7.96l-1.37-1.37c-.4-.4-.92-.59-1.43-.59-.52 0-1.04.2-1.43.59L10.3 9.45l-7.72 7.72c-.78.78-.78 2.05 0 2.83L4 21.41c.39.39.9.59 1.41.59.51 0 1.02-.2 1.41-.59l7.78-7.78 2.81-2.81c.8-.78.8-2.07 0-2.86zM5.41 20L4 18.59l7.72-7.72 1.47 1.35L5.41 20z\"/>\n",
              "  </svg>\n",
              "      </button>\n",
              "      \n",
              "  <style>\n",
              "    .colab-df-container {\n",
              "      display:flex;\n",
              "      flex-wrap:wrap;\n",
              "      gap: 12px;\n",
              "    }\n",
              "\n",
              "    .colab-df-convert {\n",
              "      background-color: #E8F0FE;\n",
              "      border: none;\n",
              "      border-radius: 50%;\n",
              "      cursor: pointer;\n",
              "      display: none;\n",
              "      fill: #1967D2;\n",
              "      height: 32px;\n",
              "      padding: 0 0 0 0;\n",
              "      width: 32px;\n",
              "    }\n",
              "\n",
              "    .colab-df-convert:hover {\n",
              "      background-color: #E2EBFA;\n",
              "      box-shadow: 0px 1px 2px rgba(60, 64, 67, 0.3), 0px 1px 3px 1px rgba(60, 64, 67, 0.15);\n",
              "      fill: #174EA6;\n",
              "    }\n",
              "\n",
              "    [theme=dark] .colab-df-convert {\n",
              "      background-color: #3B4455;\n",
              "      fill: #D2E3FC;\n",
              "    }\n",
              "\n",
              "    [theme=dark] .colab-df-convert:hover {\n",
              "      background-color: #434B5C;\n",
              "      box-shadow: 0px 1px 3px 1px rgba(0, 0, 0, 0.15);\n",
              "      filter: drop-shadow(0px 1px 2px rgba(0, 0, 0, 0.3));\n",
              "      fill: #FFFFFF;\n",
              "    }\n",
              "  </style>\n",
              "\n",
              "      <script>\n",
              "        const buttonEl =\n",
              "          document.querySelector('#df-4e2cb9ca-a76c-4dfb-a4d8-7879a4f0ea8a button.colab-df-convert');\n",
              "        buttonEl.style.display =\n",
              "          google.colab.kernel.accessAllowed ? 'block' : 'none';\n",
              "\n",
              "        async function convertToInteractive(key) {\n",
              "          const element = document.querySelector('#df-4e2cb9ca-a76c-4dfb-a4d8-7879a4f0ea8a');\n",
              "          const dataTable =\n",
              "            await google.colab.kernel.invokeFunction('convertToInteractive',\n",
              "                                                     [key], {});\n",
              "          if (!dataTable) return;\n",
              "\n",
              "          const docLinkHtml = 'Like what you see? Visit the ' +\n",
              "            '<a target=\"_blank\" href=https://colab.research.google.com/notebooks/data_table.ipynb>data table notebook</a>'\n",
              "            + ' to learn more about interactive tables.';\n",
              "          element.innerHTML = '';\n",
              "          dataTable['output_type'] = 'display_data';\n",
              "          await google.colab.output.renderOutput(dataTable, element);\n",
              "          const docLink = document.createElement('div');\n",
              "          docLink.innerHTML = docLinkHtml;\n",
              "          element.appendChild(docLink);\n",
              "        }\n",
              "      </script>\n",
              "    </div>\n",
              "  </div>\n",
              "  "
            ]
          },
          "metadata": {},
          "execution_count": 259
        }
      ]
    },
    {
      "cell_type": "code",
      "metadata": {
        "id": "akCDKT8CqVjG",
        "colab": {
          "base_uri": "https://localhost:8080/",
          "height": 542
        },
        "outputId": "7b56cb6a-0912-4765-b4b3-d36a2a546b59"
      },
      "source": [
        "# use get_level_values because we have a multiindex, this allows us to create a sunburst\n",
        "\n",
        "fig5 = px.sunburst(top_10_orgs, path=[top_10_orgs.index.get_level_values(0), top_10_orgs.index.get_level_values(1), 'Price'])\n",
        "fig5.show()"
      ],
      "execution_count": 260,
      "outputs": [
        {
          "output_type": "display_data",
          "data": {
            "text/html": [
              "<html>\n",
              "<head><meta charset=\"utf-8\" /></head>\n",
              "<body>\n",
              "    <div>            <script src=\"https://cdnjs.cloudflare.com/ajax/libs/mathjax/2.7.5/MathJax.js?config=TeX-AMS-MML_SVG\"></script><script type=\"text/javascript\">if (window.MathJax && window.MathJax.Hub && window.MathJax.Hub.Config) {window.MathJax.Hub.Config({SVG: {font: \"STIX-Web\"}});}</script>                <script type=\"text/javascript\">window.PlotlyConfig = {MathJaxConfig: 'local'};</script>\n",
              "        <script src=\"https://cdn.plot.ly/plotly-2.12.1.min.js\"></script>                <div id=\"0d32b68c-aea3-466d-a5b8-8d649e0d423b\" class=\"plotly-graph-div\" style=\"height:525px; width:100%;\"></div>            <script type=\"text/javascript\">                                    window.PLOTLYENV=window.PLOTLYENV || {};                                    if (document.getElementById(\"0d32b68c-aea3-466d-a5b8-8d649e0d423b\")) {                    Plotly.newPlot(                        \"0d32b68c-aea3-466d-a5b8-8d649e0d423b\",                        [{\"branchvalues\":\"total\",\"domain\":{\"x\":[0.0,1.0],\"y\":[0.0,1.0]},\"hovertemplate\":\"labels=%{label}<br>count=%{value}<br>parent=%{parent}<br>id=%{id}<extra></extra>\",\"ids\":[\"Astra/2020/2.5\",\"Galactic Energy/2020/4.9\",\"ExPace/2017/5.8\",\"ExPace/2018/5.8\",\"ExPace/2019/5.8\",\"SpaceX/2006/7.0\",\"SpaceX/2007/7.0\",\"SpaceX/2008/7.0\",\"SpaceX/2009/7.0\",\"Rocket Lab/2017/7.5\",\"Rocket Lab/2018/7.5\",\"Rocket Lab/2019/7.5\",\"Rocket Lab/2020/7.5\",\"Rocket Lab/2021/7.5\",\"ExPace/2020/11.424999999999999\",\"Virgin Orbit/2020/12.0\",\"Virgin Orbit/2021/12.0\",\"Eurockot/2000/13.0\",\"Eurockot/2002/13.0\",\"Eurockot/2003/13.0\",\"Eurockot/2005/13.0\",\"Eurockot/2006/13.0\",\"Eurockot/2009/13.0\",\"Eurockot/2010/13.0\",\"Eurockot/2016/13.0\",\"Eurockot/2017/13.0\",\"Eurockot/2018/13.0\",\"Sandia/2015/15.0\",\"VKS RF/2005/16.5\",\"VKS RF/2013/16.714285714285715\",\"VKS RF/2015/17.64\",\"VKS RF/2008/17.666666666666668\",\"VKS RF/2010/18.666666666666668\",\"VKS RF/2012/18.666666666666668\",\"VKS RF/2004/18.71\",\"VKS RF/2009/19.0\",\"RVSN USSR/1973/20.0\",\"RVSN USSR/1974/20.0\",\"RVSN USSR/1975/20.0\",\"RVSN USSR/1976/20.0\",\"RVSN USSR/1977/20.0\",\"RVSN USSR/1978/20.0\",\"RVSN USSR/1979/20.0\",\"RVSN USSR/1980/20.0\",\"RVSN USSR/1981/20.0\",\"VKS RF/1992/20.0\",\"VKS RF/1994/20.0\",\"EER/1995/20.0\",\"VKS RF/1995/20.0\",\"Roscosmos/1996/20.0\",\"VKS RF/1996/20.0\",\"Roscosmos/1997/20.0\",\"VKS RF/1997/20.0\",\"Roscosmos/1998/20.0\",\"VKS RF/1998/20.0\",\"Roscosmos/1999/20.0\",\"VKS RF/1999/20.0\",\"Roscosmos/2000/20.0\",\"VKS RF/2000/20.0\",\"VKS RF/2001/20.0\",\"Roscosmos/2002/20.0\",\"VKS RF/2002/20.0\",\"Roscosmos/2003/20.0\",\"VKS RF/2003/20.0\",\"Roscosmos/2004/20.0\",\"Roscosmos/2005/20.0\",\"Roscosmos/2006/20.0\",\"VKS RF/2007/20.0\",\"VKS RF/2021/20.0\",\"VKS RF/2016/20.105\",\"RVSN USSR/1982/20.444444444444443\",\"RVSN USSR/1983/20.46511627906977\",\"VKS RF/2019/20.666666666666668\",\"VKS RF/2006/20.75\",\"RVSN USSR/1985/21.0\",\"ISRO/2009/21.0\",\"VKS RF/2018/21.0\",\"RVSN USSR/1984/21.818181818181817\",\"VKS RF/1993/22.0\",\"RVSN USSR/1986/22.16216216216216\",\"VKS RF/2011/22.285714285714285\",\"RVSN USSR/1989/22.63157894736842\",\"Starsem/2010/23.0\",\"Starsem/2011/23.0\",\"Starsem/2012/23.0\",\"Starsem/2013/23.0\",\"GK LS/2021/23.0\",\"VKS RF/2017/23.333333333333332\",\"RVSN USSR/1988/24.0\",\"Starsem/2006/24.0\",\"ISRO/2008/24.333333333333332\",\"RVSN USSR/1987/24.545454545454547\",\"ISRO/1993/25.0\",\"ISRO/1994/25.0\",\"ISRO/1996/25.0\",\"ISRO/1997/25.0\",\"ISRO/1999/25.0\",\"ISRO/2002/25.0\",\"ISRO/2005/25.0\",\"Starsem/2020/25.0\",\"Starsem/2021/25.0\",\"RVSN USSR/1990/25.625\",\"ISRO/2011/25.666666666666668\",\"Roscosmos/1995/25.714285714285715\",\"ISRO/2012/26.0\",\"Roscosmos/2001/26.428571428571427\",\"RVSN USSR/1991/26.666666666666668\",\"Roscosmos/2020/26.936\",\"Roscosmos/1994/27.5\",\"Roscosmos/2016/27.570000000000004\",\"ISRO/2013/27.666666666666668\",\"Roscosmos/2017/27.97333333333334\",\"Starsem/1999/28.0\",\"Starsem/2000/28.0\",\"VKS RF/2014/28.142000000000003\",\"Roscosmos/2021/28.451999999999998\",\"Kosmotras/1999/29.0\",\"Kosmotras/2000/29.0\",\"Kosmotras/2002/29.0\",\"Kosmotras/2004/29.0\",\"Kosmotras/2005/29.0\",\"Kosmotras/2006/29.0\",\"Kosmotras/2007/29.0\",\"Kosmotras/2008/29.0\",\"Kosmotras/2009/29.0\",\"Kosmotras/2010/29.0\",\"Kosmotras/2011/29.0\",\"Kosmotras/2013/29.0\",\"Kosmotras/2014/29.0\",\"Kosmotras/2015/29.0\",\"CASC/1996/29.75\",\"CASC/2005/30.099999999999998\",\"CASC/1992/30.275\",\"CASC/1982/30.8\",\"CASC/1983/30.8\",\"CASC/1984/30.8\",\"CASC/1985/30.8\",\"CASC/1986/30.8\",\"CASC/1987/30.8\",\"CASC/1988/30.8\",\"CASC/1990/30.8\",\"CASC/1993/30.8\",\"ISRO/2007/31.0\",\"ISRO/2020/31.0\",\"ISRO/2019/31.2\",\"Roscosmos/2009/31.875\",\"ISRO/2015/32.2\",\"ISRO/2016/32.42857142857143\",\"Roscosmos/2007/32.857142857142854\",\"Roscosmos/2018/32.97714285714286\",\"CASC/2020/33.9251724137931\",\"Roscosmos/1993/34.285714285714285\",\"CASC/2017/34.35461538461538\",\"CASC/2015/34.78166666666667\",\"Martin Marietta/1988/35.0\",\"Martin Marietta/1989/35.0\",\"Martin Marietta/1993/35.0\",\"Martin Marietta/1994/35.0\",\"Lockheed/1997/35.0\",\"Lockheed/1998/35.0\",\"Lockheed/1999/35.0\",\"Lockheed/2000/35.0\",\"Lockheed/2002/35.0\",\"Lockheed/2003/35.0\",\"Roscosmos/2012/35.0\",\"CASC/2019/35.17\",\"CASC/2009/35.234\",\"VKS RF/2020/35.42857142857143\",\"ISRO/2001/36.0\",\"ISRO/2003/36.0\",\"Roscosmos/2013/36.5525\",\"CASC/2016/36.64833333333333\",\"ESA/2012/37.0\",\"CASC/2018/37.03034482758621\",\"ISRO/2018/37.142857142857146\",\"Roscosmos/2019/37.968\",\"CASC/2012/38.080000000000005\",\"ISRO/2010/38.333333333333336\",\"ISRO/2014/38.4\",\"Roscosmos/2014/38.73666666666667\",\"JAXA/2018/39.0\",\"JAXA/2019/39.0\",\"Roscosmos/2008/39.285714285714285\",\"Roscosmos/2015/39.42666666666667\",\"Northrop/1990/40.0\",\"Northrop/1991/40.0\",\"Roscosmos/1992/40.0\",\"Northrop/1993/40.0\",\"Northrop/1995/40.0\",\"Northrop/1996/40.0\",\"Northrop/1997/40.0\",\"Northrop/2002/40.0\",\"Northrop/2003/40.0\",\"Northrop/2005/40.0\",\"Northrop/2006/40.0\",\"Northrop/2007/40.0\",\"Northrop/2008/40.0\",\"Roscosmos/2010/40.0\",\"Roscosmos/2011/40.0\",\"Northrop/2012/40.0\",\"ISRO/2017/40.4\",\"CASC/2021/40.57681818181819\",\"Northrop/2000/41.0\",\"Northrop/1994/41.25\",\"Northrop/1998/41.25\",\"Northrop/1999/41.25\",\"CASC/2011/42.46941176470588\",\"Northrop/2009/42.5\",\"Northrop/2011/42.75\",\"CASC/2010/44.452000000000005\",\"CASC/2008/44.81444444444444\",\"Northrop/2001/45.0\",\"Northrop/2004/45.0\",\"CASC/2004/45.88714285714286\",\"CASC/2013/45.894615384615385\",\"Northrop/2010/46.0\",\"ISRO/2004/47.0\",\"ISRO/2006/47.0\",\"ISRO/2021/47.0\",\"CASC/2014/48.34400000000001\",\"SpaceX/2020/50.0\",\"SpaceX/2021/50.0\",\"CASC/2007/55.31777777777777\",\"SpaceX/2019/56.15384615384615\",\"CASC/1994/56.38333333333333\",\"SpaceX/2014/56.5\",\"SpaceX/2015/57.285714285714285\",\"SpaceX/2013/57.5\",\"SpaceX/2018/57.61904761904762\",\"CASC/2003/58.457499999999996\",\"Northrop/2017/58.666666666666664\",\"US Air Force/1966/59.0\",\"US Air Force/1967/59.0\",\"US Air Force/1968/59.0\",\"US Air Force/1969/59.0\",\"Northrop/2013/59.0\",\"SpaceX/2010/59.5\",\"SpaceX/2012/59.5\",\"CASC/2006/59.912\",\"SpaceX/2016/61.388888888888886\",\"SpaceX/2017/62.0\",\"Northrop/2016/62.5\",\"Northrop/2021/62.5\",\"US Air Force/1964/63.23\",\"US Air Force/1965/63.23\",\"CASC/1999/64.68\",\"CASC/2002/64.68\",\"ILS/2007/65.0\",\"ILS/2008/65.0\",\"ILS/2009/65.0\",\"ILS/2010/65.0\",\"ILS/2011/65.0\",\"ILS/2012/65.0\",\"ILS/2013/65.0\",\"ILS/2014/65.0\",\"ILS/2015/65.0\",\"ILS/2016/65.0\",\"ILS/2017/65.0\",\"ILS/2019/65.0\",\"CASC/2000/68.44500000000001\",\"CASC/1997/69.7\",\"Northrop/2019/70.0\",\"Northrop/2020/72.0\",\"ILS/2004/79.0\",\"Northrop/2014/80.0\",\"ILS/2005/83.16666666666667\",\"Northrop/2018/85.0\",\"Martin Marietta/1992/85.8\",\"ILS/2002/87.0\",\"ILS/2006/88.0\",\"MHI/2001/90.0\",\"MHI/2002/90.0\",\"MHI/2006/90.0\",\"MHI/2010/90.0\",\"MHI/2014/90.0\",\"MHI/2017/90.0\",\"JAXA/2020/90.0\",\"Arianespace/2021/91.33333333333333\",\"MHI/2018/95.625\",\"MHI/2009/97.5\",\"MHI/2011/97.5\",\"MHI/2015/97.5\",\"MHI/2016/97.5\",\"MHI/2020/97.5\",\"MHI/2012/101.25\",\"MHI/2013/101.25\",\"Arianespace/2020/104.85714285714286\",\"Arianespace/2019/107.11111111111111\",\"MHI/2019/112.5\",\"Arianespace/2014/115.7\",\"Arianespace/2013/116.16666666666667\",\"Arianespace/2018/116.4\",\"Arianespace/2015/116.75\",\"Arianespace/2017/117.1\",\"ULA/2017/117.33333333333333\",\"ULA/2008/119.0\",\"ILS/2003/122.0\",\"ULA/2015/127.2\",\"Boeing/2003/133.0\",\"Arianespace/2016/133.4\",\"Martin Marietta/1990/136.6\",\"Arianespace/2011/143.33333333333334\",\"ULA/2013/145.33333333333334\",\"ULA/2014/145.76923076923077\",\"ULA/2016/150.7\",\"Boeing/2006/153.66666666666666\",\"ULA/2009/156.28571428571428\",\"ULA/2012/156.75\",\"Arianespace/2012/157.5\",\"ULA/2007/160.0\",\"Boeing/2002/164.0\",\"ULA/2011/165.0\",\"ULA/2010/166.71428571428572\",\"ULA/2020/170.5\",\"ULA/2018/170.83333333333334\",\"Arianespace/2004/190.0\",\"Arianespace/2002/200.0\",\"Arianespace/2005/200.0\",\"Arianespace/2006/200.0\",\"Arianespace/2007/200.0\",\"Arianespace/2008/200.0\",\"Arianespace/2009/200.0\",\"Arianespace/2010/200.0\",\"ULA/2019/222.33333333333334\",\"ULA/2021/236.5\",\"Boeing/2004/350.0\",\"NASA/1981/450.0\",\"NASA/1982/450.0\",\"NASA/1983/450.0\",\"NASA/1984/450.0\",\"NASA/1985/450.0\",\"NASA/1986/450.0\",\"NASA/1988/450.0\",\"NASA/1989/450.0\",\"NASA/1990/450.0\",\"NASA/1991/450.0\",\"NASA/1992/450.0\",\"NASA/1993/450.0\",\"NASA/1994/450.0\",\"NASA/1995/450.0\",\"NASA/1996/450.0\",\"NASA/1997/450.0\",\"NASA/1998/450.0\",\"NASA/1999/450.0\",\"NASA/2000/450.0\",\"NASA/2001/450.0\",\"NASA/2002/450.0\",\"NASA/2003/450.0\",\"NASA/2005/450.0\",\"NASA/2006/450.0\",\"NASA/2007/450.0\",\"NASA/2008/450.0\",\"NASA/2009/450.0\",\"NASA/2010/450.0\",\"NASA/2011/450.0\",\"US Air Force/1964\",\"US Air Force/1965\",\"US Air Force/1966\",\"US Air Force/1967\",\"US Air Force/1968\",\"US Air Force/1969\",\"RVSN USSR/1973\",\"RVSN USSR/1974\",\"RVSN USSR/1975\",\"RVSN USSR/1976\",\"RVSN USSR/1977\",\"RVSN USSR/1978\",\"RVSN USSR/1979\",\"RVSN USSR/1980\",\"NASA/1981\",\"RVSN USSR/1981\",\"CASC/1982\",\"NASA/1982\",\"RVSN USSR/1982\",\"CASC/1983\",\"NASA/1983\",\"RVSN USSR/1983\",\"CASC/1984\",\"NASA/1984\",\"RVSN USSR/1984\",\"CASC/1985\",\"NASA/1985\",\"RVSN USSR/1985\",\"CASC/1986\",\"NASA/1986\",\"RVSN USSR/1986\",\"CASC/1987\",\"RVSN USSR/1987\",\"CASC/1988\",\"Martin Marietta/1988\",\"NASA/1988\",\"RVSN USSR/1988\",\"Martin Marietta/1989\",\"NASA/1989\",\"RVSN USSR/1989\",\"CASC/1990\",\"Martin Marietta/1990\",\"NASA/1990\",\"Northrop/1990\",\"RVSN USSR/1990\",\"NASA/1991\",\"Northrop/1991\",\"RVSN USSR/1991\",\"CASC/1992\",\"Martin Marietta/1992\",\"NASA/1992\",\"Roscosmos/1992\",\"VKS RF/1992\",\"CASC/1993\",\"ISRO/1993\",\"Martin Marietta/1993\",\"NASA/1993\",\"Northrop/1993\",\"Roscosmos/1993\",\"VKS RF/1993\",\"CASC/1994\",\"ISRO/1994\",\"Martin Marietta/1994\",\"NASA/1994\",\"Northrop/1994\",\"Roscosmos/1994\",\"VKS RF/1994\",\"EER/1995\",\"NASA/1995\",\"Northrop/1995\",\"Roscosmos/1995\",\"VKS RF/1995\",\"CASC/1996\",\"ISRO/1996\",\"NASA/1996\",\"Northrop/1996\",\"Roscosmos/1996\",\"VKS RF/1996\",\"CASC/1997\",\"ISRO/1997\",\"Lockheed/1997\",\"NASA/1997\",\"Northrop/1997\",\"Roscosmos/1997\",\"VKS RF/1997\",\"Lockheed/1998\",\"NASA/1998\",\"Northrop/1998\",\"Roscosmos/1998\",\"VKS RF/1998\",\"CASC/1999\",\"ISRO/1999\",\"Kosmotras/1999\",\"Lockheed/1999\",\"NASA/1999\",\"Northrop/1999\",\"Roscosmos/1999\",\"Starsem/1999\",\"VKS RF/1999\",\"CASC/2000\",\"Eurockot/2000\",\"Kosmotras/2000\",\"Lockheed/2000\",\"NASA/2000\",\"Northrop/2000\",\"Roscosmos/2000\",\"Starsem/2000\",\"VKS RF/2000\",\"ISRO/2001\",\"MHI/2001\",\"NASA/2001\",\"Northrop/2001\",\"Roscosmos/2001\",\"VKS RF/2001\",\"Arianespace/2002\",\"Boeing/2002\",\"CASC/2002\",\"Eurockot/2002\",\"ILS/2002\",\"ISRO/2002\",\"Kosmotras/2002\",\"Lockheed/2002\",\"MHI/2002\",\"NASA/2002\",\"Northrop/2002\",\"Roscosmos/2002\",\"VKS RF/2002\",\"Boeing/2003\",\"CASC/2003\",\"Eurockot/2003\",\"ILS/2003\",\"ISRO/2003\",\"Lockheed/2003\",\"NASA/2003\",\"Northrop/2003\",\"Roscosmos/2003\",\"VKS RF/2003\",\"Arianespace/2004\",\"Boeing/2004\",\"CASC/2004\",\"ILS/2004\",\"ISRO/2004\",\"Kosmotras/2004\",\"Northrop/2004\",\"Roscosmos/2004\",\"VKS RF/2004\",\"Arianespace/2005\",\"CASC/2005\",\"Eurockot/2005\",\"ILS/2005\",\"ISRO/2005\",\"Kosmotras/2005\",\"NASA/2005\",\"Northrop/2005\",\"Roscosmos/2005\",\"VKS RF/2005\",\"Arianespace/2006\",\"Boeing/2006\",\"CASC/2006\",\"Eurockot/2006\",\"ILS/2006\",\"ISRO/2006\",\"Kosmotras/2006\",\"MHI/2006\",\"NASA/2006\",\"Northrop/2006\",\"Roscosmos/2006\",\"SpaceX/2006\",\"Starsem/2006\",\"VKS RF/2006\",\"Arianespace/2007\",\"CASC/2007\",\"ILS/2007\",\"ISRO/2007\",\"Kosmotras/2007\",\"NASA/2007\",\"Northrop/2007\",\"Roscosmos/2007\",\"SpaceX/2007\",\"ULA/2007\",\"VKS RF/2007\",\"Arianespace/2008\",\"CASC/2008\",\"ILS/2008\",\"ISRO/2008\",\"Kosmotras/2008\",\"NASA/2008\",\"Northrop/2008\",\"Roscosmos/2008\",\"SpaceX/2008\",\"ULA/2008\",\"VKS RF/2008\",\"Arianespace/2009\",\"CASC/2009\",\"Eurockot/2009\",\"ILS/2009\",\"ISRO/2009\",\"Kosmotras/2009\",\"MHI/2009\",\"NASA/2009\",\"Northrop/2009\",\"Roscosmos/2009\",\"SpaceX/2009\",\"ULA/2009\",\"VKS RF/2009\",\"Arianespace/2010\",\"CASC/2010\",\"Eurockot/2010\",\"ILS/2010\",\"ISRO/2010\",\"Kosmotras/2010\",\"MHI/2010\",\"NASA/2010\",\"Northrop/2010\",\"Roscosmos/2010\",\"SpaceX/2010\",\"Starsem/2010\",\"ULA/2010\",\"VKS RF/2010\",\"Arianespace/2011\",\"CASC/2011\",\"ILS/2011\",\"ISRO/2011\",\"Kosmotras/2011\",\"MHI/2011\",\"NASA/2011\",\"Northrop/2011\",\"Roscosmos/2011\",\"Starsem/2011\",\"ULA/2011\",\"VKS RF/2011\",\"Arianespace/2012\",\"CASC/2012\",\"ESA/2012\",\"ILS/2012\",\"ISRO/2012\",\"MHI/2012\",\"Northrop/2012\",\"Roscosmos/2012\",\"SpaceX/2012\",\"Starsem/2012\",\"ULA/2012\",\"VKS RF/2012\",\"Arianespace/2013\",\"CASC/2013\",\"ILS/2013\",\"ISRO/2013\",\"Kosmotras/2013\",\"MHI/2013\",\"Northrop/2013\",\"Roscosmos/2013\",\"SpaceX/2013\",\"Starsem/2013\",\"ULA/2013\",\"VKS RF/2013\",\"Arianespace/2014\",\"CASC/2014\",\"ILS/2014\",\"ISRO/2014\",\"Kosmotras/2014\",\"MHI/2014\",\"Northrop/2014\",\"Roscosmos/2014\",\"SpaceX/2014\",\"ULA/2014\",\"VKS RF/2014\",\"Arianespace/2015\",\"CASC/2015\",\"ILS/2015\",\"ISRO/2015\",\"Kosmotras/2015\",\"MHI/2015\",\"Roscosmos/2015\",\"Sandia/2015\",\"SpaceX/2015\",\"ULA/2015\",\"VKS RF/2015\",\"Arianespace/2016\",\"CASC/2016\",\"Eurockot/2016\",\"ILS/2016\",\"ISRO/2016\",\"MHI/2016\",\"Northrop/2016\",\"Roscosmos/2016\",\"SpaceX/2016\",\"ULA/2016\",\"VKS RF/2016\",\"Arianespace/2017\",\"CASC/2017\",\"Eurockot/2017\",\"ExPace/2017\",\"ILS/2017\",\"ISRO/2017\",\"MHI/2017\",\"Northrop/2017\",\"Rocket Lab/2017\",\"Roscosmos/2017\",\"SpaceX/2017\",\"ULA/2017\",\"VKS RF/2017\",\"Arianespace/2018\",\"CASC/2018\",\"Eurockot/2018\",\"ExPace/2018\",\"ISRO/2018\",\"JAXA/2018\",\"MHI/2018\",\"Northrop/2018\",\"Rocket Lab/2018\",\"Roscosmos/2018\",\"SpaceX/2018\",\"ULA/2018\",\"VKS RF/2018\",\"Arianespace/2019\",\"CASC/2019\",\"ExPace/2019\",\"ILS/2019\",\"ISRO/2019\",\"JAXA/2019\",\"MHI/2019\",\"Northrop/2019\",\"Rocket Lab/2019\",\"Roscosmos/2019\",\"SpaceX/2019\",\"ULA/2019\",\"VKS RF/2019\",\"Arianespace/2020\",\"Astra/2020\",\"CASC/2020\",\"ExPace/2020\",\"Galactic Energy/2020\",\"ISRO/2020\",\"JAXA/2020\",\"MHI/2020\",\"Northrop/2020\",\"Rocket Lab/2020\",\"Roscosmos/2020\",\"SpaceX/2020\",\"Starsem/2020\",\"ULA/2020\",\"VKS RF/2020\",\"Virgin Orbit/2020\",\"Arianespace/2021\",\"CASC/2021\",\"GK LS/2021\",\"ISRO/2021\",\"Northrop/2021\",\"Rocket Lab/2021\",\"Roscosmos/2021\",\"SpaceX/2021\",\"Starsem/2021\",\"ULA/2021\",\"VKS RF/2021\",\"Virgin Orbit/2021\",\"Arianespace\",\"Astra\",\"Boeing\",\"CASC\",\"EER\",\"ESA\",\"Eurockot\",\"ExPace\",\"GK LS\",\"Galactic Energy\",\"ILS\",\"ISRO\",\"JAXA\",\"Kosmotras\",\"Lockheed\",\"MHI\",\"Martin Marietta\",\"NASA\",\"Northrop\",\"RVSN USSR\",\"Rocket Lab\",\"Roscosmos\",\"Sandia\",\"SpaceX\",\"Starsem\",\"ULA\",\"US Air Force\",\"VKS RF\",\"Virgin Orbit\"],\"labels\":[\"2.5\",\"4.9\",\"5.8\",\"5.8\",\"5.8\",\"7.0\",\"7.0\",\"7.0\",\"7.0\",\"7.5\",\"7.5\",\"7.5\",\"7.5\",\"7.5\",\"11.424999999999999\",\"12.0\",\"12.0\",\"13.0\",\"13.0\",\"13.0\",\"13.0\",\"13.0\",\"13.0\",\"13.0\",\"13.0\",\"13.0\",\"13.0\",\"15.0\",\"16.5\",\"16.714285714285715\",\"17.64\",\"17.666666666666668\",\"18.666666666666668\",\"18.666666666666668\",\"18.71\",\"19.0\",\"20.0\",\"20.0\",\"20.0\",\"20.0\",\"20.0\",\"20.0\",\"20.0\",\"20.0\",\"20.0\",\"20.0\",\"20.0\",\"20.0\",\"20.0\",\"20.0\",\"20.0\",\"20.0\",\"20.0\",\"20.0\",\"20.0\",\"20.0\",\"20.0\",\"20.0\",\"20.0\",\"20.0\",\"20.0\",\"20.0\",\"20.0\",\"20.0\",\"20.0\",\"20.0\",\"20.0\",\"20.0\",\"20.0\",\"20.105\",\"20.444444444444443\",\"20.46511627906977\",\"20.666666666666668\",\"20.75\",\"21.0\",\"21.0\",\"21.0\",\"21.818181818181817\",\"22.0\",\"22.16216216216216\",\"22.285714285714285\",\"22.63157894736842\",\"23.0\",\"23.0\",\"23.0\",\"23.0\",\"23.0\",\"23.333333333333332\",\"24.0\",\"24.0\",\"24.333333333333332\",\"24.545454545454547\",\"25.0\",\"25.0\",\"25.0\",\"25.0\",\"25.0\",\"25.0\",\"25.0\",\"25.0\",\"25.0\",\"25.625\",\"25.666666666666668\",\"25.714285714285715\",\"26.0\",\"26.428571428571427\",\"26.666666666666668\",\"26.936\",\"27.5\",\"27.570000000000004\",\"27.666666666666668\",\"27.97333333333334\",\"28.0\",\"28.0\",\"28.142000000000003\",\"28.451999999999998\",\"29.0\",\"29.0\",\"29.0\",\"29.0\",\"29.0\",\"29.0\",\"29.0\",\"29.0\",\"29.0\",\"29.0\",\"29.0\",\"29.0\",\"29.0\",\"29.0\",\"29.75\",\"30.099999999999998\",\"30.275\",\"30.8\",\"30.8\",\"30.8\",\"30.8\",\"30.8\",\"30.8\",\"30.8\",\"30.8\",\"30.8\",\"31.0\",\"31.0\",\"31.2\",\"31.875\",\"32.2\",\"32.42857142857143\",\"32.857142857142854\",\"32.97714285714286\",\"33.9251724137931\",\"34.285714285714285\",\"34.35461538461538\",\"34.78166666666667\",\"35.0\",\"35.0\",\"35.0\",\"35.0\",\"35.0\",\"35.0\",\"35.0\",\"35.0\",\"35.0\",\"35.0\",\"35.0\",\"35.17\",\"35.234\",\"35.42857142857143\",\"36.0\",\"36.0\",\"36.5525\",\"36.64833333333333\",\"37.0\",\"37.03034482758621\",\"37.142857142857146\",\"37.968\",\"38.080000000000005\",\"38.333333333333336\",\"38.4\",\"38.73666666666667\",\"39.0\",\"39.0\",\"39.285714285714285\",\"39.42666666666667\",\"40.0\",\"40.0\",\"40.0\",\"40.0\",\"40.0\",\"40.0\",\"40.0\",\"40.0\",\"40.0\",\"40.0\",\"40.0\",\"40.0\",\"40.0\",\"40.0\",\"40.0\",\"40.0\",\"40.4\",\"40.57681818181819\",\"41.0\",\"41.25\",\"41.25\",\"41.25\",\"42.46941176470588\",\"42.5\",\"42.75\",\"44.452000000000005\",\"44.81444444444444\",\"45.0\",\"45.0\",\"45.88714285714286\",\"45.894615384615385\",\"46.0\",\"47.0\",\"47.0\",\"47.0\",\"48.34400000000001\",\"50.0\",\"50.0\",\"55.31777777777777\",\"56.15384615384615\",\"56.38333333333333\",\"56.5\",\"57.285714285714285\",\"57.5\",\"57.61904761904762\",\"58.457499999999996\",\"58.666666666666664\",\"59.0\",\"59.0\",\"59.0\",\"59.0\",\"59.0\",\"59.5\",\"59.5\",\"59.912\",\"61.388888888888886\",\"62.0\",\"62.5\",\"62.5\",\"63.23\",\"63.23\",\"64.68\",\"64.68\",\"65.0\",\"65.0\",\"65.0\",\"65.0\",\"65.0\",\"65.0\",\"65.0\",\"65.0\",\"65.0\",\"65.0\",\"65.0\",\"65.0\",\"68.44500000000001\",\"69.7\",\"70.0\",\"72.0\",\"79.0\",\"80.0\",\"83.16666666666667\",\"85.0\",\"85.8\",\"87.0\",\"88.0\",\"90.0\",\"90.0\",\"90.0\",\"90.0\",\"90.0\",\"90.0\",\"90.0\",\"91.33333333333333\",\"95.625\",\"97.5\",\"97.5\",\"97.5\",\"97.5\",\"97.5\",\"101.25\",\"101.25\",\"104.85714285714286\",\"107.11111111111111\",\"112.5\",\"115.7\",\"116.16666666666667\",\"116.4\",\"116.75\",\"117.1\",\"117.33333333333333\",\"119.0\",\"122.0\",\"127.2\",\"133.0\",\"133.4\",\"136.6\",\"143.33333333333334\",\"145.33333333333334\",\"145.76923076923077\",\"150.7\",\"153.66666666666666\",\"156.28571428571428\",\"156.75\",\"157.5\",\"160.0\",\"164.0\",\"165.0\",\"166.71428571428572\",\"170.5\",\"170.83333333333334\",\"190.0\",\"200.0\",\"200.0\",\"200.0\",\"200.0\",\"200.0\",\"200.0\",\"200.0\",\"222.33333333333334\",\"236.5\",\"350.0\",\"450.0\",\"450.0\",\"450.0\",\"450.0\",\"450.0\",\"450.0\",\"450.0\",\"450.0\",\"450.0\",\"450.0\",\"450.0\",\"450.0\",\"450.0\",\"450.0\",\"450.0\",\"450.0\",\"450.0\",\"450.0\",\"450.0\",\"450.0\",\"450.0\",\"450.0\",\"450.0\",\"450.0\",\"450.0\",\"450.0\",\"450.0\",\"450.0\",\"450.0\",\"1964\",\"1965\",\"1966\",\"1967\",\"1968\",\"1969\",\"1973\",\"1974\",\"1975\",\"1976\",\"1977\",\"1978\",\"1979\",\"1980\",\"1981\",\"1981\",\"1982\",\"1982\",\"1982\",\"1983\",\"1983\",\"1983\",\"1984\",\"1984\",\"1984\",\"1985\",\"1985\",\"1985\",\"1986\",\"1986\",\"1986\",\"1987\",\"1987\",\"1988\",\"1988\",\"1988\",\"1988\",\"1989\",\"1989\",\"1989\",\"1990\",\"1990\",\"1990\",\"1990\",\"1990\",\"1991\",\"1991\",\"1991\",\"1992\",\"1992\",\"1992\",\"1992\",\"1992\",\"1993\",\"1993\",\"1993\",\"1993\",\"1993\",\"1993\",\"1993\",\"1994\",\"1994\",\"1994\",\"1994\",\"1994\",\"1994\",\"1994\",\"1995\",\"1995\",\"1995\",\"1995\",\"1995\",\"1996\",\"1996\",\"1996\",\"1996\",\"1996\",\"1996\",\"1997\",\"1997\",\"1997\",\"1997\",\"1997\",\"1997\",\"1997\",\"1998\",\"1998\",\"1998\",\"1998\",\"1998\",\"1999\",\"1999\",\"1999\",\"1999\",\"1999\",\"1999\",\"1999\",\"1999\",\"1999\",\"2000\",\"2000\",\"2000\",\"2000\",\"2000\",\"2000\",\"2000\",\"2000\",\"2000\",\"2001\",\"2001\",\"2001\",\"2001\",\"2001\",\"2001\",\"2002\",\"2002\",\"2002\",\"2002\",\"2002\",\"2002\",\"2002\",\"2002\",\"2002\",\"2002\",\"2002\",\"2002\",\"2002\",\"2003\",\"2003\",\"2003\",\"2003\",\"2003\",\"2003\",\"2003\",\"2003\",\"2003\",\"2003\",\"2004\",\"2004\",\"2004\",\"2004\",\"2004\",\"2004\",\"2004\",\"2004\",\"2004\",\"2005\",\"2005\",\"2005\",\"2005\",\"2005\",\"2005\",\"2005\",\"2005\",\"2005\",\"2005\",\"2006\",\"2006\",\"2006\",\"2006\",\"2006\",\"2006\",\"2006\",\"2006\",\"2006\",\"2006\",\"2006\",\"2006\",\"2006\",\"2006\",\"2007\",\"2007\",\"2007\",\"2007\",\"2007\",\"2007\",\"2007\",\"2007\",\"2007\",\"2007\",\"2007\",\"2008\",\"2008\",\"2008\",\"2008\",\"2008\",\"2008\",\"2008\",\"2008\",\"2008\",\"2008\",\"2008\",\"2009\",\"2009\",\"2009\",\"2009\",\"2009\",\"2009\",\"2009\",\"2009\",\"2009\",\"2009\",\"2009\",\"2009\",\"2009\",\"2010\",\"2010\",\"2010\",\"2010\",\"2010\",\"2010\",\"2010\",\"2010\",\"2010\",\"2010\",\"2010\",\"2010\",\"2010\",\"2010\",\"2011\",\"2011\",\"2011\",\"2011\",\"2011\",\"2011\",\"2011\",\"2011\",\"2011\",\"2011\",\"2011\",\"2011\",\"2012\",\"2012\",\"2012\",\"2012\",\"2012\",\"2012\",\"2012\",\"2012\",\"2012\",\"2012\",\"2012\",\"2012\",\"2013\",\"2013\",\"2013\",\"2013\",\"2013\",\"2013\",\"2013\",\"2013\",\"2013\",\"2013\",\"2013\",\"2013\",\"2014\",\"2014\",\"2014\",\"2014\",\"2014\",\"2014\",\"2014\",\"2014\",\"2014\",\"2014\",\"2014\",\"2015\",\"2015\",\"2015\",\"2015\",\"2015\",\"2015\",\"2015\",\"2015\",\"2015\",\"2015\",\"2015\",\"2016\",\"2016\",\"2016\",\"2016\",\"2016\",\"2016\",\"2016\",\"2016\",\"2016\",\"2016\",\"2016\",\"2017\",\"2017\",\"2017\",\"2017\",\"2017\",\"2017\",\"2017\",\"2017\",\"2017\",\"2017\",\"2017\",\"2017\",\"2017\",\"2018\",\"2018\",\"2018\",\"2018\",\"2018\",\"2018\",\"2018\",\"2018\",\"2018\",\"2018\",\"2018\",\"2018\",\"2018\",\"2019\",\"2019\",\"2019\",\"2019\",\"2019\",\"2019\",\"2019\",\"2019\",\"2019\",\"2019\",\"2019\",\"2019\",\"2019\",\"2020\",\"2020\",\"2020\",\"2020\",\"2020\",\"2020\",\"2020\",\"2020\",\"2020\",\"2020\",\"2020\",\"2020\",\"2020\",\"2020\",\"2020\",\"2020\",\"2021\",\"2021\",\"2021\",\"2021\",\"2021\",\"2021\",\"2021\",\"2021\",\"2021\",\"2021\",\"2021\",\"2021\",\"Arianespace\",\"Astra\",\"Boeing\",\"CASC\",\"EER\",\"ESA\",\"Eurockot\",\"ExPace\",\"GK LS\",\"Galactic Energy\",\"ILS\",\"ISRO\",\"JAXA\",\"Kosmotras\",\"Lockheed\",\"MHI\",\"Martin Marietta\",\"NASA\",\"Northrop\",\"RVSN USSR\",\"Rocket Lab\",\"Roscosmos\",\"Sandia\",\"SpaceX\",\"Starsem\",\"ULA\",\"US Air Force\",\"VKS RF\",\"Virgin Orbit\"],\"name\":\"\",\"parents\":[\"Astra/2020\",\"Galactic Energy/2020\",\"ExPace/2017\",\"ExPace/2018\",\"ExPace/2019\",\"SpaceX/2006\",\"SpaceX/2007\",\"SpaceX/2008\",\"SpaceX/2009\",\"Rocket Lab/2017\",\"Rocket Lab/2018\",\"Rocket Lab/2019\",\"Rocket Lab/2020\",\"Rocket Lab/2021\",\"ExPace/2020\",\"Virgin Orbit/2020\",\"Virgin Orbit/2021\",\"Eurockot/2000\",\"Eurockot/2002\",\"Eurockot/2003\",\"Eurockot/2005\",\"Eurockot/2006\",\"Eurockot/2009\",\"Eurockot/2010\",\"Eurockot/2016\",\"Eurockot/2017\",\"Eurockot/2018\",\"Sandia/2015\",\"VKS RF/2005\",\"VKS RF/2013\",\"VKS RF/2015\",\"VKS RF/2008\",\"VKS RF/2010\",\"VKS RF/2012\",\"VKS RF/2004\",\"VKS RF/2009\",\"RVSN USSR/1973\",\"RVSN USSR/1974\",\"RVSN USSR/1975\",\"RVSN USSR/1976\",\"RVSN USSR/1977\",\"RVSN USSR/1978\",\"RVSN USSR/1979\",\"RVSN USSR/1980\",\"RVSN USSR/1981\",\"VKS RF/1992\",\"VKS RF/1994\",\"EER/1995\",\"VKS RF/1995\",\"Roscosmos/1996\",\"VKS RF/1996\",\"Roscosmos/1997\",\"VKS RF/1997\",\"Roscosmos/1998\",\"VKS RF/1998\",\"Roscosmos/1999\",\"VKS RF/1999\",\"Roscosmos/2000\",\"VKS RF/2000\",\"VKS RF/2001\",\"Roscosmos/2002\",\"VKS RF/2002\",\"Roscosmos/2003\",\"VKS RF/2003\",\"Roscosmos/2004\",\"Roscosmos/2005\",\"Roscosmos/2006\",\"VKS RF/2007\",\"VKS RF/2021\",\"VKS RF/2016\",\"RVSN USSR/1982\",\"RVSN USSR/1983\",\"VKS RF/2019\",\"VKS RF/2006\",\"RVSN USSR/1985\",\"ISRO/2009\",\"VKS RF/2018\",\"RVSN USSR/1984\",\"VKS RF/1993\",\"RVSN USSR/1986\",\"VKS RF/2011\",\"RVSN USSR/1989\",\"Starsem/2010\",\"Starsem/2011\",\"Starsem/2012\",\"Starsem/2013\",\"GK LS/2021\",\"VKS RF/2017\",\"RVSN USSR/1988\",\"Starsem/2006\",\"ISRO/2008\",\"RVSN USSR/1987\",\"ISRO/1993\",\"ISRO/1994\",\"ISRO/1996\",\"ISRO/1997\",\"ISRO/1999\",\"ISRO/2002\",\"ISRO/2005\",\"Starsem/2020\",\"Starsem/2021\",\"RVSN USSR/1990\",\"ISRO/2011\",\"Roscosmos/1995\",\"ISRO/2012\",\"Roscosmos/2001\",\"RVSN USSR/1991\",\"Roscosmos/2020\",\"Roscosmos/1994\",\"Roscosmos/2016\",\"ISRO/2013\",\"Roscosmos/2017\",\"Starsem/1999\",\"Starsem/2000\",\"VKS RF/2014\",\"Roscosmos/2021\",\"Kosmotras/1999\",\"Kosmotras/2000\",\"Kosmotras/2002\",\"Kosmotras/2004\",\"Kosmotras/2005\",\"Kosmotras/2006\",\"Kosmotras/2007\",\"Kosmotras/2008\",\"Kosmotras/2009\",\"Kosmotras/2010\",\"Kosmotras/2011\",\"Kosmotras/2013\",\"Kosmotras/2014\",\"Kosmotras/2015\",\"CASC/1996\",\"CASC/2005\",\"CASC/1992\",\"CASC/1982\",\"CASC/1983\",\"CASC/1984\",\"CASC/1985\",\"CASC/1986\",\"CASC/1987\",\"CASC/1988\",\"CASC/1990\",\"CASC/1993\",\"ISRO/2007\",\"ISRO/2020\",\"ISRO/2019\",\"Roscosmos/2009\",\"ISRO/2015\",\"ISRO/2016\",\"Roscosmos/2007\",\"Roscosmos/2018\",\"CASC/2020\",\"Roscosmos/1993\",\"CASC/2017\",\"CASC/2015\",\"Martin Marietta/1988\",\"Martin Marietta/1989\",\"Martin Marietta/1993\",\"Martin Marietta/1994\",\"Lockheed/1997\",\"Lockheed/1998\",\"Lockheed/1999\",\"Lockheed/2000\",\"Lockheed/2002\",\"Lockheed/2003\",\"Roscosmos/2012\",\"CASC/2019\",\"CASC/2009\",\"VKS RF/2020\",\"ISRO/2001\",\"ISRO/2003\",\"Roscosmos/2013\",\"CASC/2016\",\"ESA/2012\",\"CASC/2018\",\"ISRO/2018\",\"Roscosmos/2019\",\"CASC/2012\",\"ISRO/2010\",\"ISRO/2014\",\"Roscosmos/2014\",\"JAXA/2018\",\"JAXA/2019\",\"Roscosmos/2008\",\"Roscosmos/2015\",\"Northrop/1990\",\"Northrop/1991\",\"Roscosmos/1992\",\"Northrop/1993\",\"Northrop/1995\",\"Northrop/1996\",\"Northrop/1997\",\"Northrop/2002\",\"Northrop/2003\",\"Northrop/2005\",\"Northrop/2006\",\"Northrop/2007\",\"Northrop/2008\",\"Roscosmos/2010\",\"Roscosmos/2011\",\"Northrop/2012\",\"ISRO/2017\",\"CASC/2021\",\"Northrop/2000\",\"Northrop/1994\",\"Northrop/1998\",\"Northrop/1999\",\"CASC/2011\",\"Northrop/2009\",\"Northrop/2011\",\"CASC/2010\",\"CASC/2008\",\"Northrop/2001\",\"Northrop/2004\",\"CASC/2004\",\"CASC/2013\",\"Northrop/2010\",\"ISRO/2004\",\"ISRO/2006\",\"ISRO/2021\",\"CASC/2014\",\"SpaceX/2020\",\"SpaceX/2021\",\"CASC/2007\",\"SpaceX/2019\",\"CASC/1994\",\"SpaceX/2014\",\"SpaceX/2015\",\"SpaceX/2013\",\"SpaceX/2018\",\"CASC/2003\",\"Northrop/2017\",\"US Air Force/1966\",\"US Air Force/1967\",\"US Air Force/1968\",\"US Air Force/1969\",\"Northrop/2013\",\"SpaceX/2010\",\"SpaceX/2012\",\"CASC/2006\",\"SpaceX/2016\",\"SpaceX/2017\",\"Northrop/2016\",\"Northrop/2021\",\"US Air Force/1964\",\"US Air Force/1965\",\"CASC/1999\",\"CASC/2002\",\"ILS/2007\",\"ILS/2008\",\"ILS/2009\",\"ILS/2010\",\"ILS/2011\",\"ILS/2012\",\"ILS/2013\",\"ILS/2014\",\"ILS/2015\",\"ILS/2016\",\"ILS/2017\",\"ILS/2019\",\"CASC/2000\",\"CASC/1997\",\"Northrop/2019\",\"Northrop/2020\",\"ILS/2004\",\"Northrop/2014\",\"ILS/2005\",\"Northrop/2018\",\"Martin Marietta/1992\",\"ILS/2002\",\"ILS/2006\",\"MHI/2001\",\"MHI/2002\",\"MHI/2006\",\"MHI/2010\",\"MHI/2014\",\"MHI/2017\",\"JAXA/2020\",\"Arianespace/2021\",\"MHI/2018\",\"MHI/2009\",\"MHI/2011\",\"MHI/2015\",\"MHI/2016\",\"MHI/2020\",\"MHI/2012\",\"MHI/2013\",\"Arianespace/2020\",\"Arianespace/2019\",\"MHI/2019\",\"Arianespace/2014\",\"Arianespace/2013\",\"Arianespace/2018\",\"Arianespace/2015\",\"Arianespace/2017\",\"ULA/2017\",\"ULA/2008\",\"ILS/2003\",\"ULA/2015\",\"Boeing/2003\",\"Arianespace/2016\",\"Martin Marietta/1990\",\"Arianespace/2011\",\"ULA/2013\",\"ULA/2014\",\"ULA/2016\",\"Boeing/2006\",\"ULA/2009\",\"ULA/2012\",\"Arianespace/2012\",\"ULA/2007\",\"Boeing/2002\",\"ULA/2011\",\"ULA/2010\",\"ULA/2020\",\"ULA/2018\",\"Arianespace/2004\",\"Arianespace/2002\",\"Arianespace/2005\",\"Arianespace/2006\",\"Arianespace/2007\",\"Arianespace/2008\",\"Arianespace/2009\",\"Arianespace/2010\",\"ULA/2019\",\"ULA/2021\",\"Boeing/2004\",\"NASA/1981\",\"NASA/1982\",\"NASA/1983\",\"NASA/1984\",\"NASA/1985\",\"NASA/1986\",\"NASA/1988\",\"NASA/1989\",\"NASA/1990\",\"NASA/1991\",\"NASA/1992\",\"NASA/1993\",\"NASA/1994\",\"NASA/1995\",\"NASA/1996\",\"NASA/1997\",\"NASA/1998\",\"NASA/1999\",\"NASA/2000\",\"NASA/2001\",\"NASA/2002\",\"NASA/2003\",\"NASA/2005\",\"NASA/2006\",\"NASA/2007\",\"NASA/2008\",\"NASA/2009\",\"NASA/2010\",\"NASA/2011\",\"US Air Force\",\"US Air Force\",\"US Air Force\",\"US Air Force\",\"US Air Force\",\"US Air Force\",\"RVSN USSR\",\"RVSN USSR\",\"RVSN USSR\",\"RVSN USSR\",\"RVSN USSR\",\"RVSN USSR\",\"RVSN USSR\",\"RVSN USSR\",\"NASA\",\"RVSN USSR\",\"CASC\",\"NASA\",\"RVSN USSR\",\"CASC\",\"NASA\",\"RVSN USSR\",\"CASC\",\"NASA\",\"RVSN USSR\",\"CASC\",\"NASA\",\"RVSN USSR\",\"CASC\",\"NASA\",\"RVSN USSR\",\"CASC\",\"RVSN USSR\",\"CASC\",\"Martin Marietta\",\"NASA\",\"RVSN USSR\",\"Martin Marietta\",\"NASA\",\"RVSN USSR\",\"CASC\",\"Martin Marietta\",\"NASA\",\"Northrop\",\"RVSN USSR\",\"NASA\",\"Northrop\",\"RVSN USSR\",\"CASC\",\"Martin Marietta\",\"NASA\",\"Roscosmos\",\"VKS RF\",\"CASC\",\"ISRO\",\"Martin Marietta\",\"NASA\",\"Northrop\",\"Roscosmos\",\"VKS RF\",\"CASC\",\"ISRO\",\"Martin Marietta\",\"NASA\",\"Northrop\",\"Roscosmos\",\"VKS RF\",\"EER\",\"NASA\",\"Northrop\",\"Roscosmos\",\"VKS RF\",\"CASC\",\"ISRO\",\"NASA\",\"Northrop\",\"Roscosmos\",\"VKS RF\",\"CASC\",\"ISRO\",\"Lockheed\",\"NASA\",\"Northrop\",\"Roscosmos\",\"VKS RF\",\"Lockheed\",\"NASA\",\"Northrop\",\"Roscosmos\",\"VKS RF\",\"CASC\",\"ISRO\",\"Kosmotras\",\"Lockheed\",\"NASA\",\"Northrop\",\"Roscosmos\",\"Starsem\",\"VKS RF\",\"CASC\",\"Eurockot\",\"Kosmotras\",\"Lockheed\",\"NASA\",\"Northrop\",\"Roscosmos\",\"Starsem\",\"VKS RF\",\"ISRO\",\"MHI\",\"NASA\",\"Northrop\",\"Roscosmos\",\"VKS RF\",\"Arianespace\",\"Boeing\",\"CASC\",\"Eurockot\",\"ILS\",\"ISRO\",\"Kosmotras\",\"Lockheed\",\"MHI\",\"NASA\",\"Northrop\",\"Roscosmos\",\"VKS RF\",\"Boeing\",\"CASC\",\"Eurockot\",\"ILS\",\"ISRO\",\"Lockheed\",\"NASA\",\"Northrop\",\"Roscosmos\",\"VKS RF\",\"Arianespace\",\"Boeing\",\"CASC\",\"ILS\",\"ISRO\",\"Kosmotras\",\"Northrop\",\"Roscosmos\",\"VKS RF\",\"Arianespace\",\"CASC\",\"Eurockot\",\"ILS\",\"ISRO\",\"Kosmotras\",\"NASA\",\"Northrop\",\"Roscosmos\",\"VKS RF\",\"Arianespace\",\"Boeing\",\"CASC\",\"Eurockot\",\"ILS\",\"ISRO\",\"Kosmotras\",\"MHI\",\"NASA\",\"Northrop\",\"Roscosmos\",\"SpaceX\",\"Starsem\",\"VKS RF\",\"Arianespace\",\"CASC\",\"ILS\",\"ISRO\",\"Kosmotras\",\"NASA\",\"Northrop\",\"Roscosmos\",\"SpaceX\",\"ULA\",\"VKS RF\",\"Arianespace\",\"CASC\",\"ILS\",\"ISRO\",\"Kosmotras\",\"NASA\",\"Northrop\",\"Roscosmos\",\"SpaceX\",\"ULA\",\"VKS RF\",\"Arianespace\",\"CASC\",\"Eurockot\",\"ILS\",\"ISRO\",\"Kosmotras\",\"MHI\",\"NASA\",\"Northrop\",\"Roscosmos\",\"SpaceX\",\"ULA\",\"VKS RF\",\"Arianespace\",\"CASC\",\"Eurockot\",\"ILS\",\"ISRO\",\"Kosmotras\",\"MHI\",\"NASA\",\"Northrop\",\"Roscosmos\",\"SpaceX\",\"Starsem\",\"ULA\",\"VKS RF\",\"Arianespace\",\"CASC\",\"ILS\",\"ISRO\",\"Kosmotras\",\"MHI\",\"NASA\",\"Northrop\",\"Roscosmos\",\"Starsem\",\"ULA\",\"VKS RF\",\"Arianespace\",\"CASC\",\"ESA\",\"ILS\",\"ISRO\",\"MHI\",\"Northrop\",\"Roscosmos\",\"SpaceX\",\"Starsem\",\"ULA\",\"VKS RF\",\"Arianespace\",\"CASC\",\"ILS\",\"ISRO\",\"Kosmotras\",\"MHI\",\"Northrop\",\"Roscosmos\",\"SpaceX\",\"Starsem\",\"ULA\",\"VKS RF\",\"Arianespace\",\"CASC\",\"ILS\",\"ISRO\",\"Kosmotras\",\"MHI\",\"Northrop\",\"Roscosmos\",\"SpaceX\",\"ULA\",\"VKS RF\",\"Arianespace\",\"CASC\",\"ILS\",\"ISRO\",\"Kosmotras\",\"MHI\",\"Roscosmos\",\"Sandia\",\"SpaceX\",\"ULA\",\"VKS RF\",\"Arianespace\",\"CASC\",\"Eurockot\",\"ILS\",\"ISRO\",\"MHI\",\"Northrop\",\"Roscosmos\",\"SpaceX\",\"ULA\",\"VKS RF\",\"Arianespace\",\"CASC\",\"Eurockot\",\"ExPace\",\"ILS\",\"ISRO\",\"MHI\",\"Northrop\",\"Rocket Lab\",\"Roscosmos\",\"SpaceX\",\"ULA\",\"VKS RF\",\"Arianespace\",\"CASC\",\"Eurockot\",\"ExPace\",\"ISRO\",\"JAXA\",\"MHI\",\"Northrop\",\"Rocket Lab\",\"Roscosmos\",\"SpaceX\",\"ULA\",\"VKS RF\",\"Arianespace\",\"CASC\",\"ExPace\",\"ILS\",\"ISRO\",\"JAXA\",\"MHI\",\"Northrop\",\"Rocket Lab\",\"Roscosmos\",\"SpaceX\",\"ULA\",\"VKS RF\",\"Arianespace\",\"Astra\",\"CASC\",\"ExPace\",\"Galactic Energy\",\"ISRO\",\"JAXA\",\"MHI\",\"Northrop\",\"Rocket Lab\",\"Roscosmos\",\"SpaceX\",\"Starsem\",\"ULA\",\"VKS RF\",\"Virgin Orbit\",\"Arianespace\",\"CASC\",\"GK LS\",\"ISRO\",\"Northrop\",\"Rocket Lab\",\"Roscosmos\",\"SpaceX\",\"Starsem\",\"ULA\",\"VKS RF\",\"Virgin Orbit\",\"\",\"\",\"\",\"\",\"\",\"\",\"\",\"\",\"\",\"\",\"\",\"\",\"\",\"\",\"\",\"\",\"\",\"\",\"\",\"\",\"\",\"\",\"\",\"\",\"\",\"\",\"\",\"\",\"\"],\"values\":[1,1,1,1,1,1,1,1,1,1,1,1,1,1,1,1,1,1,1,1,1,1,1,1,1,1,1,1,1,1,1,1,1,1,1,1,1,1,1,1,1,1,1,1,1,1,1,1,1,1,1,1,1,1,1,1,1,1,1,1,1,1,1,1,1,1,1,1,1,1,1,1,1,1,1,1,1,1,1,1,1,1,1,1,1,1,1,1,1,1,1,1,1,1,1,1,1,1,1,1,1,1,1,1,1,1,1,1,1,1,1,1,1,1,1,1,1,1,1,1,1,1,1,1,1,1,1,1,1,1,1,1,1,1,1,1,1,1,1,1,1,1,1,1,1,1,1,1,1,1,1,1,1,1,1,1,1,1,1,1,1,1,1,1,1,1,1,1,1,1,1,1,1,1,1,1,1,1,1,1,1,1,1,1,1,1,1,1,1,1,1,1,1,1,1,1,1,1,1,1,1,1,1,1,1,1,1,1,1,1,1,1,1,1,1,1,1,1,1,1,1,1,1,1,1,1,1,1,1,1,1,1,1,1,1,1,1,1,1,1,1,1,1,1,1,1,1,1,1,1,1,1,1,1,1,1,1,1,1,1,1,1,1,1,1,1,1,1,1,1,1,1,1,1,1,1,1,1,1,1,1,1,1,1,1,1,1,1,1,1,1,1,1,1,1,1,1,1,1,1,1,1,1,1,1,1,1,1,1,1,1,1,1,1,1,1,1,1,1,1,1,1,1,1,1,1,1,1,1,1,1,1,1,1,1,1,1,1,1,1,1,1,1,1,1,1,1,1,1,1,1,1,1,1,1,1,1,1,1,1,1,1,1,1,1,1,1,1,1,1,1,1,1,1,1,1,1,1,1,1,1,1,1,1,1,1,1,1,1,1,1,1,1,1,1,1,1,1,1,1,1,1,1,1,1,1,1,1,1,1,1,1,1,1,1,1,1,1,1,1,1,1,1,1,1,1,1,1,1,1,1,1,1,1,1,1,1,1,1,1,1,1,1,1,1,1,1,1,1,1,1,1,1,1,1,1,1,1,1,1,1,1,1,1,1,1,1,1,1,1,1,1,1,1,1,1,1,1,1,1,1,1,1,1,1,1,1,1,1,1,1,1,1,1,1,1,1,1,1,1,1,1,1,1,1,1,1,1,1,1,1,1,1,1,1,1,1,1,1,1,1,1,1,1,1,1,1,1,1,1,1,1,1,1,1,1,1,1,1,1,1,1,1,1,1,1,1,1,1,1,1,1,1,1,1,1,1,1,1,1,1,1,1,1,1,1,1,1,1,1,1,1,1,1,1,1,1,1,1,1,1,1,1,1,1,1,1,1,1,1,1,1,1,1,1,1,1,1,1,1,1,1,1,1,1,1,1,1,1,1,1,1,1,1,1,1,1,1,1,1,1,1,1,1,1,1,1,1,1,1,1,1,1,1,1,1,1,1,1,1,1,1,1,1,1,1,1,1,1,1,1,1,1,1,1,1,1,1,1,1,1,1,1,1,1,1,1,1,1,1,1,1,1,1,1,1,1,1,1,1,1,1,1,1,1,1,1,1,1,1,1,1,1,1,1,1,1,1,1,1,1,1,1,1,1,1,1,1,1,1,19,1,4,35,1,1,10,4,1,1,17,26,3,14,6,15,6,29,30,19,5,30,1,15,9,15,6,30,2],\"type\":\"sunburst\"}],                        {\"template\":{\"data\":{\"histogram2dcontour\":[{\"type\":\"histogram2dcontour\",\"colorbar\":{\"outlinewidth\":0,\"ticks\":\"\"},\"colorscale\":[[0.0,\"#0d0887\"],[0.1111111111111111,\"#46039f\"],[0.2222222222222222,\"#7201a8\"],[0.3333333333333333,\"#9c179e\"],[0.4444444444444444,\"#bd3786\"],[0.5555555555555556,\"#d8576b\"],[0.6666666666666666,\"#ed7953\"],[0.7777777777777778,\"#fb9f3a\"],[0.8888888888888888,\"#fdca26\"],[1.0,\"#f0f921\"]]}],\"choropleth\":[{\"type\":\"choropleth\",\"colorbar\":{\"outlinewidth\":0,\"ticks\":\"\"}}],\"histogram2d\":[{\"type\":\"histogram2d\",\"colorbar\":{\"outlinewidth\":0,\"ticks\":\"\"},\"colorscale\":[[0.0,\"#0d0887\"],[0.1111111111111111,\"#46039f\"],[0.2222222222222222,\"#7201a8\"],[0.3333333333333333,\"#9c179e\"],[0.4444444444444444,\"#bd3786\"],[0.5555555555555556,\"#d8576b\"],[0.6666666666666666,\"#ed7953\"],[0.7777777777777778,\"#fb9f3a\"],[0.8888888888888888,\"#fdca26\"],[1.0,\"#f0f921\"]]}],\"heatmap\":[{\"type\":\"heatmap\",\"colorbar\":{\"outlinewidth\":0,\"ticks\":\"\"},\"colorscale\":[[0.0,\"#0d0887\"],[0.1111111111111111,\"#46039f\"],[0.2222222222222222,\"#7201a8\"],[0.3333333333333333,\"#9c179e\"],[0.4444444444444444,\"#bd3786\"],[0.5555555555555556,\"#d8576b\"],[0.6666666666666666,\"#ed7953\"],[0.7777777777777778,\"#fb9f3a\"],[0.8888888888888888,\"#fdca26\"],[1.0,\"#f0f921\"]]}],\"heatmapgl\":[{\"type\":\"heatmapgl\",\"colorbar\":{\"outlinewidth\":0,\"ticks\":\"\"},\"colorscale\":[[0.0,\"#0d0887\"],[0.1111111111111111,\"#46039f\"],[0.2222222222222222,\"#7201a8\"],[0.3333333333333333,\"#9c179e\"],[0.4444444444444444,\"#bd3786\"],[0.5555555555555556,\"#d8576b\"],[0.6666666666666666,\"#ed7953\"],[0.7777777777777778,\"#fb9f3a\"],[0.8888888888888888,\"#fdca26\"],[1.0,\"#f0f921\"]]}],\"contourcarpet\":[{\"type\":\"contourcarpet\",\"colorbar\":{\"outlinewidth\":0,\"ticks\":\"\"}}],\"contour\":[{\"type\":\"contour\",\"colorbar\":{\"outlinewidth\":0,\"ticks\":\"\"},\"colorscale\":[[0.0,\"#0d0887\"],[0.1111111111111111,\"#46039f\"],[0.2222222222222222,\"#7201a8\"],[0.3333333333333333,\"#9c179e\"],[0.4444444444444444,\"#bd3786\"],[0.5555555555555556,\"#d8576b\"],[0.6666666666666666,\"#ed7953\"],[0.7777777777777778,\"#fb9f3a\"],[0.8888888888888888,\"#fdca26\"],[1.0,\"#f0f921\"]]}],\"surface\":[{\"type\":\"surface\",\"colorbar\":{\"outlinewidth\":0,\"ticks\":\"\"},\"colorscale\":[[0.0,\"#0d0887\"],[0.1111111111111111,\"#46039f\"],[0.2222222222222222,\"#7201a8\"],[0.3333333333333333,\"#9c179e\"],[0.4444444444444444,\"#bd3786\"],[0.5555555555555556,\"#d8576b\"],[0.6666666666666666,\"#ed7953\"],[0.7777777777777778,\"#fb9f3a\"],[0.8888888888888888,\"#fdca26\"],[1.0,\"#f0f921\"]]}],\"mesh3d\":[{\"type\":\"mesh3d\",\"colorbar\":{\"outlinewidth\":0,\"ticks\":\"\"}}],\"scatter\":[{\"fillpattern\":{\"fillmode\":\"overlay\",\"size\":10,\"solidity\":0.2},\"type\":\"scatter\"}],\"parcoords\":[{\"type\":\"parcoords\",\"line\":{\"colorbar\":{\"outlinewidth\":0,\"ticks\":\"\"}}}],\"scatterpolargl\":[{\"type\":\"scatterpolargl\",\"marker\":{\"colorbar\":{\"outlinewidth\":0,\"ticks\":\"\"}}}],\"bar\":[{\"error_x\":{\"color\":\"#2a3f5f\"},\"error_y\":{\"color\":\"#2a3f5f\"},\"marker\":{\"line\":{\"color\":\"#E5ECF6\",\"width\":0.5},\"pattern\":{\"fillmode\":\"overlay\",\"size\":10,\"solidity\":0.2}},\"type\":\"bar\"}],\"scattergeo\":[{\"type\":\"scattergeo\",\"marker\":{\"colorbar\":{\"outlinewidth\":0,\"ticks\":\"\"}}}],\"scatterpolar\":[{\"type\":\"scatterpolar\",\"marker\":{\"colorbar\":{\"outlinewidth\":0,\"ticks\":\"\"}}}],\"histogram\":[{\"marker\":{\"pattern\":{\"fillmode\":\"overlay\",\"size\":10,\"solidity\":0.2}},\"type\":\"histogram\"}],\"scattergl\":[{\"type\":\"scattergl\",\"marker\":{\"colorbar\":{\"outlinewidth\":0,\"ticks\":\"\"}}}],\"scatter3d\":[{\"type\":\"scatter3d\",\"line\":{\"colorbar\":{\"outlinewidth\":0,\"ticks\":\"\"}},\"marker\":{\"colorbar\":{\"outlinewidth\":0,\"ticks\":\"\"}}}],\"scattermapbox\":[{\"type\":\"scattermapbox\",\"marker\":{\"colorbar\":{\"outlinewidth\":0,\"ticks\":\"\"}}}],\"scatterternary\":[{\"type\":\"scatterternary\",\"marker\":{\"colorbar\":{\"outlinewidth\":0,\"ticks\":\"\"}}}],\"scattercarpet\":[{\"type\":\"scattercarpet\",\"marker\":{\"colorbar\":{\"outlinewidth\":0,\"ticks\":\"\"}}}],\"carpet\":[{\"aaxis\":{\"endlinecolor\":\"#2a3f5f\",\"gridcolor\":\"white\",\"linecolor\":\"white\",\"minorgridcolor\":\"white\",\"startlinecolor\":\"#2a3f5f\"},\"baxis\":{\"endlinecolor\":\"#2a3f5f\",\"gridcolor\":\"white\",\"linecolor\":\"white\",\"minorgridcolor\":\"white\",\"startlinecolor\":\"#2a3f5f\"},\"type\":\"carpet\"}],\"table\":[{\"cells\":{\"fill\":{\"color\":\"#EBF0F8\"},\"line\":{\"color\":\"white\"}},\"header\":{\"fill\":{\"color\":\"#C8D4E3\"},\"line\":{\"color\":\"white\"}},\"type\":\"table\"}],\"barpolar\":[{\"marker\":{\"line\":{\"color\":\"#E5ECF6\",\"width\":0.5},\"pattern\":{\"fillmode\":\"overlay\",\"size\":10,\"solidity\":0.2}},\"type\":\"barpolar\"}],\"pie\":[{\"automargin\":true,\"type\":\"pie\"}]},\"layout\":{\"autotypenumbers\":\"strict\",\"colorway\":[\"#636efa\",\"#EF553B\",\"#00cc96\",\"#ab63fa\",\"#FFA15A\",\"#19d3f3\",\"#FF6692\",\"#B6E880\",\"#FF97FF\",\"#FECB52\"],\"font\":{\"color\":\"#2a3f5f\"},\"hovermode\":\"closest\",\"hoverlabel\":{\"align\":\"left\"},\"paper_bgcolor\":\"white\",\"plot_bgcolor\":\"#E5ECF6\",\"polar\":{\"bgcolor\":\"#E5ECF6\",\"angularaxis\":{\"gridcolor\":\"white\",\"linecolor\":\"white\",\"ticks\":\"\"},\"radialaxis\":{\"gridcolor\":\"white\",\"linecolor\":\"white\",\"ticks\":\"\"}},\"ternary\":{\"bgcolor\":\"#E5ECF6\",\"aaxis\":{\"gridcolor\":\"white\",\"linecolor\":\"white\",\"ticks\":\"\"},\"baxis\":{\"gridcolor\":\"white\",\"linecolor\":\"white\",\"ticks\":\"\"},\"caxis\":{\"gridcolor\":\"white\",\"linecolor\":\"white\",\"ticks\":\"\"}},\"coloraxis\":{\"colorbar\":{\"outlinewidth\":0,\"ticks\":\"\"}},\"colorscale\":{\"sequential\":[[0.0,\"#0d0887\"],[0.1111111111111111,\"#46039f\"],[0.2222222222222222,\"#7201a8\"],[0.3333333333333333,\"#9c179e\"],[0.4444444444444444,\"#bd3786\"],[0.5555555555555556,\"#d8576b\"],[0.6666666666666666,\"#ed7953\"],[0.7777777777777778,\"#fb9f3a\"],[0.8888888888888888,\"#fdca26\"],[1.0,\"#f0f921\"]],\"sequentialminus\":[[0.0,\"#0d0887\"],[0.1111111111111111,\"#46039f\"],[0.2222222222222222,\"#7201a8\"],[0.3333333333333333,\"#9c179e\"],[0.4444444444444444,\"#bd3786\"],[0.5555555555555556,\"#d8576b\"],[0.6666666666666666,\"#ed7953\"],[0.7777777777777778,\"#fb9f3a\"],[0.8888888888888888,\"#fdca26\"],[1.0,\"#f0f921\"]],\"diverging\":[[0,\"#8e0152\"],[0.1,\"#c51b7d\"],[0.2,\"#de77ae\"],[0.3,\"#f1b6da\"],[0.4,\"#fde0ef\"],[0.5,\"#f7f7f7\"],[0.6,\"#e6f5d0\"],[0.7,\"#b8e186\"],[0.8,\"#7fbc41\"],[0.9,\"#4d9221\"],[1,\"#276419\"]]},\"xaxis\":{\"gridcolor\":\"white\",\"linecolor\":\"white\",\"ticks\":\"\",\"title\":{\"standoff\":15},\"zerolinecolor\":\"white\",\"automargin\":true,\"zerolinewidth\":2},\"yaxis\":{\"gridcolor\":\"white\",\"linecolor\":\"white\",\"ticks\":\"\",\"title\":{\"standoff\":15},\"zerolinecolor\":\"white\",\"automargin\":true,\"zerolinewidth\":2},\"scene\":{\"xaxis\":{\"backgroundcolor\":\"#E5ECF6\",\"gridcolor\":\"white\",\"linecolor\":\"white\",\"showbackground\":true,\"ticks\":\"\",\"zerolinecolor\":\"white\",\"gridwidth\":2},\"yaxis\":{\"backgroundcolor\":\"#E5ECF6\",\"gridcolor\":\"white\",\"linecolor\":\"white\",\"showbackground\":true,\"ticks\":\"\",\"zerolinecolor\":\"white\",\"gridwidth\":2},\"zaxis\":{\"backgroundcolor\":\"#E5ECF6\",\"gridcolor\":\"white\",\"linecolor\":\"white\",\"showbackground\":true,\"ticks\":\"\",\"zerolinecolor\":\"white\",\"gridwidth\":2}},\"shapedefaults\":{\"line\":{\"color\":\"#2a3f5f\"}},\"annotationdefaults\":{\"arrowcolor\":\"#2a3f5f\",\"arrowhead\":0,\"arrowwidth\":1},\"geo\":{\"bgcolor\":\"white\",\"landcolor\":\"#E5ECF6\",\"subunitcolor\":\"white\",\"showland\":true,\"showlakes\":true,\"lakecolor\":\"white\"},\"title\":{\"x\":0.05},\"mapbox\":{\"style\":\"light\"}}},\"legend\":{\"tracegroupgap\":0},\"margin\":{\"t\":60}},                        {\"responsive\": true}                    ).then(function(){\n",
              "                            \n",
              "var gd = document.getElementById('0d32b68c-aea3-466d-a5b8-8d649e0d423b');\n",
              "var x = new MutationObserver(function (mutations, observer) {{\n",
              "        var display = window.getComputedStyle(gd).display;\n",
              "        if (!display || display === 'none') {{\n",
              "            console.log([gd, 'removed!']);\n",
              "            Plotly.purge(gd);\n",
              "            observer.disconnect();\n",
              "        }}\n",
              "}});\n",
              "\n",
              "// Listen for the removal of the full notebook cells\n",
              "var notebookContainer = gd.closest('#notebook-container');\n",
              "if (notebookContainer) {{\n",
              "    x.observe(notebookContainer, {childList: true});\n",
              "}}\n",
              "\n",
              "// Listen for the clearing of the current output cell\n",
              "var outputEl = gd.closest('.output');\n",
              "if (outputEl) {{\n",
              "    x.observe(outputEl, {childList: true});\n",
              "}}\n",
              "\n",
              "                        })                };                            </script>        </div>\n",
              "</body>\n",
              "</html>"
            ]
          },
          "metadata": {}
        }
      ]
    },
    {
      "cell_type": "markdown",
      "metadata": {
        "papermill": {
          "duration": 0.052399,
          "end_time": "2020-10-20T21:34:13.756781",
          "exception": false,
          "start_time": "2020-10-20T21:34:13.704382",
          "status": "completed"
        },
        "tags": [],
        "id": "6Cm8_ch6a-q7"
      },
      "source": [
        "# Cold War Space Race: USA vs USSR\n",
        "\n",
        "The cold war lasted from the start of the dataset up until 1991."
      ]
    },
    {
      "cell_type": "code",
      "metadata": {
        "id": "AcE_U8csrICL"
      },
      "source": [
        "df_data.Year = pd.to_numeric(df_data.Year)\n",
        "\n",
        "df_cold_war = df_data[df_data.Year <= 1991]  # get all data from before and up until 1991 "
      ],
      "execution_count": 261,
      "outputs": []
    },
    {
      "cell_type": "code",
      "metadata": {
        "id": "cOe_t4OmrHr9",
        "colab": {
          "base_uri": "https://localhost:8080/",
          "height": 206
        },
        "outputId": "49bba294-775a-4673-ce73-5bbbd7fce7f4"
      },
      "source": [
        "df_cold_war.head()  # we can see from the latest data is from 1991 now"
      ],
      "execution_count": 262,
      "outputs": [
        {
          "output_type": "execute_result",
          "data": {
            "text/plain": [
              "     Organisation                                    Location  \\\n",
              "2467    RVSN USSR  Site 31/6, Baikonur Cosmodrome, Kazakhstan   \n",
              "2472         NASA  LC-39A, Kennedy Space Center, Florida, USA   \n",
              "2474    RVSN USSR      Site 43/3, Plesetsk Cosmodrome, Russia   \n",
              "2479    RVSN USSR   Site 1/5, Baikonur Cosmodrome, Kazakhstan   \n",
              "2481    RVSN USSR   Site 1/5, Baikonur Cosmodrome, Kazakhstan   \n",
              "\n",
              "                            Date                          Details  \\\n",
              "2467  Tue Dec 17, 1991 11:00 UTC            Soyuz U | Cosmos 2174   \n",
              "2472  Sun Nov 24, 1991 23:44 UTC  Space Shuttle Atlantis | STS-44   \n",
              "2474  Wed Nov 20, 1991 19:14 UTC            Soyuz U | Cosmos 2171   \n",
              "2479  Thu Oct 17, 1991 00:05 UTC         Soyuz U2 | Progress M-10   \n",
              "2481  Wed Oct 09, 1991 13:15 UTC           Soyuz U2 | Cosmos 2163   \n",
              "\n",
              "     Rocket_Status  Price Mission_Status             Country Country_Codes  \\\n",
              "2467       Retired  20.00        Success          Kazakhstan           KAZ   \n",
              "2472       Retired 450.00        Success                 USA           USA   \n",
              "2474       Retired  20.00        Success  Russian Federation           RUS   \n",
              "2479       Retired  40.00        Success          Kazakhstan           KAZ   \n",
              "2481       Retired  40.00        Success          Kazakhstan           KAZ   \n",
              "\n",
              "      Year  \n",
              "2467  1991  \n",
              "2472  1991  \n",
              "2474  1991  \n",
              "2479  1991  \n",
              "2481  1991  "
            ],
            "text/html": [
              "\n",
              "  <div id=\"df-f3e75354-1fa6-4b20-8bb2-757c8841169f\">\n",
              "    <div class=\"colab-df-container\">\n",
              "      <div>\n",
              "<style scoped>\n",
              "    .dataframe tbody tr th:only-of-type {\n",
              "        vertical-align: middle;\n",
              "    }\n",
              "\n",
              "    .dataframe tbody tr th {\n",
              "        vertical-align: top;\n",
              "    }\n",
              "\n",
              "    .dataframe thead th {\n",
              "        text-align: right;\n",
              "    }\n",
              "</style>\n",
              "<table border=\"1\" class=\"dataframe\">\n",
              "  <thead>\n",
              "    <tr style=\"text-align: right;\">\n",
              "      <th></th>\n",
              "      <th>Organisation</th>\n",
              "      <th>Location</th>\n",
              "      <th>Date</th>\n",
              "      <th>Details</th>\n",
              "      <th>Rocket_Status</th>\n",
              "      <th>Price</th>\n",
              "      <th>Mission_Status</th>\n",
              "      <th>Country</th>\n",
              "      <th>Country_Codes</th>\n",
              "      <th>Year</th>\n",
              "    </tr>\n",
              "  </thead>\n",
              "  <tbody>\n",
              "    <tr>\n",
              "      <th>2467</th>\n",
              "      <td>RVSN USSR</td>\n",
              "      <td>Site 31/6, Baikonur Cosmodrome, Kazakhstan</td>\n",
              "      <td>Tue Dec 17, 1991 11:00 UTC</td>\n",
              "      <td>Soyuz U | Cosmos 2174</td>\n",
              "      <td>Retired</td>\n",
              "      <td>20.00</td>\n",
              "      <td>Success</td>\n",
              "      <td>Kazakhstan</td>\n",
              "      <td>KAZ</td>\n",
              "      <td>1991</td>\n",
              "    </tr>\n",
              "    <tr>\n",
              "      <th>2472</th>\n",
              "      <td>NASA</td>\n",
              "      <td>LC-39A, Kennedy Space Center, Florida, USA</td>\n",
              "      <td>Sun Nov 24, 1991 23:44 UTC</td>\n",
              "      <td>Space Shuttle Atlantis | STS-44</td>\n",
              "      <td>Retired</td>\n",
              "      <td>450.00</td>\n",
              "      <td>Success</td>\n",
              "      <td>USA</td>\n",
              "      <td>USA</td>\n",
              "      <td>1991</td>\n",
              "    </tr>\n",
              "    <tr>\n",
              "      <th>2474</th>\n",
              "      <td>RVSN USSR</td>\n",
              "      <td>Site 43/3, Plesetsk Cosmodrome, Russia</td>\n",
              "      <td>Wed Nov 20, 1991 19:14 UTC</td>\n",
              "      <td>Soyuz U | Cosmos 2171</td>\n",
              "      <td>Retired</td>\n",
              "      <td>20.00</td>\n",
              "      <td>Success</td>\n",
              "      <td>Russian Federation</td>\n",
              "      <td>RUS</td>\n",
              "      <td>1991</td>\n",
              "    </tr>\n",
              "    <tr>\n",
              "      <th>2479</th>\n",
              "      <td>RVSN USSR</td>\n",
              "      <td>Site 1/5, Baikonur Cosmodrome, Kazakhstan</td>\n",
              "      <td>Thu Oct 17, 1991 00:05 UTC</td>\n",
              "      <td>Soyuz U2 | Progress M-10</td>\n",
              "      <td>Retired</td>\n",
              "      <td>40.00</td>\n",
              "      <td>Success</td>\n",
              "      <td>Kazakhstan</td>\n",
              "      <td>KAZ</td>\n",
              "      <td>1991</td>\n",
              "    </tr>\n",
              "    <tr>\n",
              "      <th>2481</th>\n",
              "      <td>RVSN USSR</td>\n",
              "      <td>Site 1/5, Baikonur Cosmodrome, Kazakhstan</td>\n",
              "      <td>Wed Oct 09, 1991 13:15 UTC</td>\n",
              "      <td>Soyuz U2 | Cosmos 2163</td>\n",
              "      <td>Retired</td>\n",
              "      <td>40.00</td>\n",
              "      <td>Success</td>\n",
              "      <td>Kazakhstan</td>\n",
              "      <td>KAZ</td>\n",
              "      <td>1991</td>\n",
              "    </tr>\n",
              "  </tbody>\n",
              "</table>\n",
              "</div>\n",
              "      <button class=\"colab-df-convert\" onclick=\"convertToInteractive('df-f3e75354-1fa6-4b20-8bb2-757c8841169f')\"\n",
              "              title=\"Convert this dataframe to an interactive table.\"\n",
              "              style=\"display:none;\">\n",
              "        \n",
              "  <svg xmlns=\"http://www.w3.org/2000/svg\" height=\"24px\"viewBox=\"0 0 24 24\"\n",
              "       width=\"24px\">\n",
              "    <path d=\"M0 0h24v24H0V0z\" fill=\"none\"/>\n",
              "    <path d=\"M18.56 5.44l.94 2.06.94-2.06 2.06-.94-2.06-.94-.94-2.06-.94 2.06-2.06.94zm-11 1L8.5 8.5l.94-2.06 2.06-.94-2.06-.94L8.5 2.5l-.94 2.06-2.06.94zm10 10l.94 2.06.94-2.06 2.06-.94-2.06-.94-.94-2.06-.94 2.06-2.06.94z\"/><path d=\"M17.41 7.96l-1.37-1.37c-.4-.4-.92-.59-1.43-.59-.52 0-1.04.2-1.43.59L10.3 9.45l-7.72 7.72c-.78.78-.78 2.05 0 2.83L4 21.41c.39.39.9.59 1.41.59.51 0 1.02-.2 1.41-.59l7.78-7.78 2.81-2.81c.8-.78.8-2.07 0-2.86zM5.41 20L4 18.59l7.72-7.72 1.47 1.35L5.41 20z\"/>\n",
              "  </svg>\n",
              "      </button>\n",
              "      \n",
              "  <style>\n",
              "    .colab-df-container {\n",
              "      display:flex;\n",
              "      flex-wrap:wrap;\n",
              "      gap: 12px;\n",
              "    }\n",
              "\n",
              "    .colab-df-convert {\n",
              "      background-color: #E8F0FE;\n",
              "      border: none;\n",
              "      border-radius: 50%;\n",
              "      cursor: pointer;\n",
              "      display: none;\n",
              "      fill: #1967D2;\n",
              "      height: 32px;\n",
              "      padding: 0 0 0 0;\n",
              "      width: 32px;\n",
              "    }\n",
              "\n",
              "    .colab-df-convert:hover {\n",
              "      background-color: #E2EBFA;\n",
              "      box-shadow: 0px 1px 2px rgba(60, 64, 67, 0.3), 0px 1px 3px 1px rgba(60, 64, 67, 0.15);\n",
              "      fill: #174EA6;\n",
              "    }\n",
              "\n",
              "    [theme=dark] .colab-df-convert {\n",
              "      background-color: #3B4455;\n",
              "      fill: #D2E3FC;\n",
              "    }\n",
              "\n",
              "    [theme=dark] .colab-df-convert:hover {\n",
              "      background-color: #434B5C;\n",
              "      box-shadow: 0px 1px 3px 1px rgba(0, 0, 0, 0.15);\n",
              "      filter: drop-shadow(0px 1px 2px rgba(0, 0, 0, 0.3));\n",
              "      fill: #FFFFFF;\n",
              "    }\n",
              "  </style>\n",
              "\n",
              "      <script>\n",
              "        const buttonEl =\n",
              "          document.querySelector('#df-f3e75354-1fa6-4b20-8bb2-757c8841169f button.colab-df-convert');\n",
              "        buttonEl.style.display =\n",
              "          google.colab.kernel.accessAllowed ? 'block' : 'none';\n",
              "\n",
              "        async function convertToInteractive(key) {\n",
              "          const element = document.querySelector('#df-f3e75354-1fa6-4b20-8bb2-757c8841169f');\n",
              "          const dataTable =\n",
              "            await google.colab.kernel.invokeFunction('convertToInteractive',\n",
              "                                                     [key], {});\n",
              "          if (!dataTable) return;\n",
              "\n",
              "          const docLinkHtml = 'Like what you see? Visit the ' +\n",
              "            '<a target=\"_blank\" href=https://colab.research.google.com/notebooks/data_table.ipynb>data table notebook</a>'\n",
              "            + ' to learn more about interactive tables.';\n",
              "          element.innerHTML = '';\n",
              "          dataTable['output_type'] = 'display_data';\n",
              "          await google.colab.output.renderOutput(dataTable, element);\n",
              "          const docLink = document.createElement('div');\n",
              "          docLink.innerHTML = docLinkHtml;\n",
              "          element.appendChild(docLink);\n",
              "        }\n",
              "      </script>\n",
              "    </div>\n",
              "  </div>\n",
              "  "
            ]
          },
          "metadata": {},
          "execution_count": 262
        }
      ]
    },
    {
      "cell_type": "markdown",
      "metadata": {
        "papermill": {
          "duration": 0.054318,
          "end_time": "2020-10-20T21:34:14.089604",
          "exception": false,
          "start_time": "2020-10-20T21:34:14.035286",
          "status": "completed"
        },
        "tags": [],
        "id": "Os-3A5vLa-q9"
      },
      "source": [
        "## Create a Pie Chart comparing the total number of launches of the USSR and the USA\n",
        "\n",
        "Hint: Remember to include former Soviet Republics like Kazakhstan when analysing the total number of launches. "
      ]
    },
    {
      "cell_type": "code",
      "source": [
        "df_cold_war = df_cold_war[(df_cold_war.Country == 'Russian Federation') | (df_cold_war.Country == 'Kazakhstan') | (df_cold_war.Country == 'USA')]  # get USSR launches and USA launches as seperate DFs"
      ],
      "metadata": {
        "id": "JH5qlIwrY0xn"
      },
      "execution_count": 263,
      "outputs": []
    },
    {
      "cell_type": "code",
      "source": [
        "df_cold_war.Country = df_cold_war.Country.str.replace('Russian Federation', 'USSR')\n",
        "df_cold_war.Country = df_cold_war.Country.str.replace('Kazakhstan', 'USSR')\n",
        "df_cold_war.rename(columns={'Country':'Region'}, inplace=True)"
      ],
      "metadata": {
        "id": "S-uSoC9OeUlQ"
      },
      "execution_count": 264,
      "outputs": []
    },
    {
      "cell_type": "code",
      "source": [
        "USA_vs_USSR_launches = pd.DataFrame({'Region': ['USA', 'USSR'], 'Launches': [df_cold_war[df_cold_war.Region == 'USA'].count()[0], df_cold_war[df_cold_war.Region == 'USSR'].count()[0]]})\n",
        "USA_vs_USSR_launches  # create this array so we can easily plot it on the pie chart"
      ],
      "metadata": {
        "colab": {
          "base_uri": "https://localhost:8080/",
          "height": 112
        },
        "id": "tx7O4b9CY2FJ",
        "outputId": "e7b27ff9-03d0-4757-e88e-c2bd8d50e25b"
      },
      "execution_count": 265,
      "outputs": [
        {
          "output_type": "execute_result",
          "data": {
            "text/plain": [
              "  Region  Launches\n",
              "0    USA        77\n",
              "1   USSR       657"
            ],
            "text/html": [
              "\n",
              "  <div id=\"df-07d512d7-ba18-4f47-a9ef-14332523154b\">\n",
              "    <div class=\"colab-df-container\">\n",
              "      <div>\n",
              "<style scoped>\n",
              "    .dataframe tbody tr th:only-of-type {\n",
              "        vertical-align: middle;\n",
              "    }\n",
              "\n",
              "    .dataframe tbody tr th {\n",
              "        vertical-align: top;\n",
              "    }\n",
              "\n",
              "    .dataframe thead th {\n",
              "        text-align: right;\n",
              "    }\n",
              "</style>\n",
              "<table border=\"1\" class=\"dataframe\">\n",
              "  <thead>\n",
              "    <tr style=\"text-align: right;\">\n",
              "      <th></th>\n",
              "      <th>Region</th>\n",
              "      <th>Launches</th>\n",
              "    </tr>\n",
              "  </thead>\n",
              "  <tbody>\n",
              "    <tr>\n",
              "      <th>0</th>\n",
              "      <td>USA</td>\n",
              "      <td>77</td>\n",
              "    </tr>\n",
              "    <tr>\n",
              "      <th>1</th>\n",
              "      <td>USSR</td>\n",
              "      <td>657</td>\n",
              "    </tr>\n",
              "  </tbody>\n",
              "</table>\n",
              "</div>\n",
              "      <button class=\"colab-df-convert\" onclick=\"convertToInteractive('df-07d512d7-ba18-4f47-a9ef-14332523154b')\"\n",
              "              title=\"Convert this dataframe to an interactive table.\"\n",
              "              style=\"display:none;\">\n",
              "        \n",
              "  <svg xmlns=\"http://www.w3.org/2000/svg\" height=\"24px\"viewBox=\"0 0 24 24\"\n",
              "       width=\"24px\">\n",
              "    <path d=\"M0 0h24v24H0V0z\" fill=\"none\"/>\n",
              "    <path d=\"M18.56 5.44l.94 2.06.94-2.06 2.06-.94-2.06-.94-.94-2.06-.94 2.06-2.06.94zm-11 1L8.5 8.5l.94-2.06 2.06-.94-2.06-.94L8.5 2.5l-.94 2.06-2.06.94zm10 10l.94 2.06.94-2.06 2.06-.94-2.06-.94-.94-2.06-.94 2.06-2.06.94z\"/><path d=\"M17.41 7.96l-1.37-1.37c-.4-.4-.92-.59-1.43-.59-.52 0-1.04.2-1.43.59L10.3 9.45l-7.72 7.72c-.78.78-.78 2.05 0 2.83L4 21.41c.39.39.9.59 1.41.59.51 0 1.02-.2 1.41-.59l7.78-7.78 2.81-2.81c.8-.78.8-2.07 0-2.86zM5.41 20L4 18.59l7.72-7.72 1.47 1.35L5.41 20z\"/>\n",
              "  </svg>\n",
              "      </button>\n",
              "      \n",
              "  <style>\n",
              "    .colab-df-container {\n",
              "      display:flex;\n",
              "      flex-wrap:wrap;\n",
              "      gap: 12px;\n",
              "    }\n",
              "\n",
              "    .colab-df-convert {\n",
              "      background-color: #E8F0FE;\n",
              "      border: none;\n",
              "      border-radius: 50%;\n",
              "      cursor: pointer;\n",
              "      display: none;\n",
              "      fill: #1967D2;\n",
              "      height: 32px;\n",
              "      padding: 0 0 0 0;\n",
              "      width: 32px;\n",
              "    }\n",
              "\n",
              "    .colab-df-convert:hover {\n",
              "      background-color: #E2EBFA;\n",
              "      box-shadow: 0px 1px 2px rgba(60, 64, 67, 0.3), 0px 1px 3px 1px rgba(60, 64, 67, 0.15);\n",
              "      fill: #174EA6;\n",
              "    }\n",
              "\n",
              "    [theme=dark] .colab-df-convert {\n",
              "      background-color: #3B4455;\n",
              "      fill: #D2E3FC;\n",
              "    }\n",
              "\n",
              "    [theme=dark] .colab-df-convert:hover {\n",
              "      background-color: #434B5C;\n",
              "      box-shadow: 0px 1px 3px 1px rgba(0, 0, 0, 0.15);\n",
              "      filter: drop-shadow(0px 1px 2px rgba(0, 0, 0, 0.3));\n",
              "      fill: #FFFFFF;\n",
              "    }\n",
              "  </style>\n",
              "\n",
              "      <script>\n",
              "        const buttonEl =\n",
              "          document.querySelector('#df-07d512d7-ba18-4f47-a9ef-14332523154b button.colab-df-convert');\n",
              "        buttonEl.style.display =\n",
              "          google.colab.kernel.accessAllowed ? 'block' : 'none';\n",
              "\n",
              "        async function convertToInteractive(key) {\n",
              "          const element = document.querySelector('#df-07d512d7-ba18-4f47-a9ef-14332523154b');\n",
              "          const dataTable =\n",
              "            await google.colab.kernel.invokeFunction('convertToInteractive',\n",
              "                                                     [key], {});\n",
              "          if (!dataTable) return;\n",
              "\n",
              "          const docLinkHtml = 'Like what you see? Visit the ' +\n",
              "            '<a target=\"_blank\" href=https://colab.research.google.com/notebooks/data_table.ipynb>data table notebook</a>'\n",
              "            + ' to learn more about interactive tables.';\n",
              "          element.innerHTML = '';\n",
              "          dataTable['output_type'] = 'display_data';\n",
              "          await google.colab.output.renderOutput(dataTable, element);\n",
              "          const docLink = document.createElement('div');\n",
              "          docLink.innerHTML = docLinkHtml;\n",
              "          element.appendChild(docLink);\n",
              "        }\n",
              "      </script>\n",
              "    </div>\n",
              "  </div>\n",
              "  "
            ]
          },
          "metadata": {},
          "execution_count": 265
        }
      ]
    },
    {
      "cell_type": "code",
      "source": [
        "plt.figure(figsize=(8,8), dpi=100)\n",
        "\n",
        "fig6 = px.pie(\n",
        "    USA_vs_USSR_launches,\n",
        "    names='Region',\n",
        "    values='Launches',\n",
        "    title='USA vs USSR Launches Before and During the Cold War Space Race'\n",
        ")\n",
        "\n",
        "fig6.show()"
      ],
      "metadata": {
        "colab": {
          "base_uri": "https://localhost:8080/",
          "height": 560
        },
        "id": "iGluGtGmaaU1",
        "outputId": "e88191a1-7c6e-431f-e41c-381a77aacf61"
      },
      "execution_count": 266,
      "outputs": [
        {
          "output_type": "display_data",
          "data": {
            "text/html": [
              "<html>\n",
              "<head><meta charset=\"utf-8\" /></head>\n",
              "<body>\n",
              "    <div>            <script src=\"https://cdnjs.cloudflare.com/ajax/libs/mathjax/2.7.5/MathJax.js?config=TeX-AMS-MML_SVG\"></script><script type=\"text/javascript\">if (window.MathJax && window.MathJax.Hub && window.MathJax.Hub.Config) {window.MathJax.Hub.Config({SVG: {font: \"STIX-Web\"}});}</script>                <script type=\"text/javascript\">window.PlotlyConfig = {MathJaxConfig: 'local'};</script>\n",
              "        <script src=\"https://cdn.plot.ly/plotly-2.12.1.min.js\"></script>                <div id=\"d18f1e7c-dbc0-4677-9bab-b75da60f7f9a\" class=\"plotly-graph-div\" style=\"height:525px; width:100%;\"></div>            <script type=\"text/javascript\">                                    window.PLOTLYENV=window.PLOTLYENV || {};                                    if (document.getElementById(\"d18f1e7c-dbc0-4677-9bab-b75da60f7f9a\")) {                    Plotly.newPlot(                        \"d18f1e7c-dbc0-4677-9bab-b75da60f7f9a\",                        [{\"domain\":{\"x\":[0.0,1.0],\"y\":[0.0,1.0]},\"hovertemplate\":\"Region=%{label}<br>Launches=%{value}<extra></extra>\",\"labels\":[\"USA\",\"USSR\"],\"legendgroup\":\"\",\"name\":\"\",\"showlegend\":true,\"values\":[77,657],\"type\":\"pie\"}],                        {\"template\":{\"data\":{\"histogram2dcontour\":[{\"type\":\"histogram2dcontour\",\"colorbar\":{\"outlinewidth\":0,\"ticks\":\"\"},\"colorscale\":[[0.0,\"#0d0887\"],[0.1111111111111111,\"#46039f\"],[0.2222222222222222,\"#7201a8\"],[0.3333333333333333,\"#9c179e\"],[0.4444444444444444,\"#bd3786\"],[0.5555555555555556,\"#d8576b\"],[0.6666666666666666,\"#ed7953\"],[0.7777777777777778,\"#fb9f3a\"],[0.8888888888888888,\"#fdca26\"],[1.0,\"#f0f921\"]]}],\"choropleth\":[{\"type\":\"choropleth\",\"colorbar\":{\"outlinewidth\":0,\"ticks\":\"\"}}],\"histogram2d\":[{\"type\":\"histogram2d\",\"colorbar\":{\"outlinewidth\":0,\"ticks\":\"\"},\"colorscale\":[[0.0,\"#0d0887\"],[0.1111111111111111,\"#46039f\"],[0.2222222222222222,\"#7201a8\"],[0.3333333333333333,\"#9c179e\"],[0.4444444444444444,\"#bd3786\"],[0.5555555555555556,\"#d8576b\"],[0.6666666666666666,\"#ed7953\"],[0.7777777777777778,\"#fb9f3a\"],[0.8888888888888888,\"#fdca26\"],[1.0,\"#f0f921\"]]}],\"heatmap\":[{\"type\":\"heatmap\",\"colorbar\":{\"outlinewidth\":0,\"ticks\":\"\"},\"colorscale\":[[0.0,\"#0d0887\"],[0.1111111111111111,\"#46039f\"],[0.2222222222222222,\"#7201a8\"],[0.3333333333333333,\"#9c179e\"],[0.4444444444444444,\"#bd3786\"],[0.5555555555555556,\"#d8576b\"],[0.6666666666666666,\"#ed7953\"],[0.7777777777777778,\"#fb9f3a\"],[0.8888888888888888,\"#fdca26\"],[1.0,\"#f0f921\"]]}],\"heatmapgl\":[{\"type\":\"heatmapgl\",\"colorbar\":{\"outlinewidth\":0,\"ticks\":\"\"},\"colorscale\":[[0.0,\"#0d0887\"],[0.1111111111111111,\"#46039f\"],[0.2222222222222222,\"#7201a8\"],[0.3333333333333333,\"#9c179e\"],[0.4444444444444444,\"#bd3786\"],[0.5555555555555556,\"#d8576b\"],[0.6666666666666666,\"#ed7953\"],[0.7777777777777778,\"#fb9f3a\"],[0.8888888888888888,\"#fdca26\"],[1.0,\"#f0f921\"]]}],\"contourcarpet\":[{\"type\":\"contourcarpet\",\"colorbar\":{\"outlinewidth\":0,\"ticks\":\"\"}}],\"contour\":[{\"type\":\"contour\",\"colorbar\":{\"outlinewidth\":0,\"ticks\":\"\"},\"colorscale\":[[0.0,\"#0d0887\"],[0.1111111111111111,\"#46039f\"],[0.2222222222222222,\"#7201a8\"],[0.3333333333333333,\"#9c179e\"],[0.4444444444444444,\"#bd3786\"],[0.5555555555555556,\"#d8576b\"],[0.6666666666666666,\"#ed7953\"],[0.7777777777777778,\"#fb9f3a\"],[0.8888888888888888,\"#fdca26\"],[1.0,\"#f0f921\"]]}],\"surface\":[{\"type\":\"surface\",\"colorbar\":{\"outlinewidth\":0,\"ticks\":\"\"},\"colorscale\":[[0.0,\"#0d0887\"],[0.1111111111111111,\"#46039f\"],[0.2222222222222222,\"#7201a8\"],[0.3333333333333333,\"#9c179e\"],[0.4444444444444444,\"#bd3786\"],[0.5555555555555556,\"#d8576b\"],[0.6666666666666666,\"#ed7953\"],[0.7777777777777778,\"#fb9f3a\"],[0.8888888888888888,\"#fdca26\"],[1.0,\"#f0f921\"]]}],\"mesh3d\":[{\"type\":\"mesh3d\",\"colorbar\":{\"outlinewidth\":0,\"ticks\":\"\"}}],\"scatter\":[{\"fillpattern\":{\"fillmode\":\"overlay\",\"size\":10,\"solidity\":0.2},\"type\":\"scatter\"}],\"parcoords\":[{\"type\":\"parcoords\",\"line\":{\"colorbar\":{\"outlinewidth\":0,\"ticks\":\"\"}}}],\"scatterpolargl\":[{\"type\":\"scatterpolargl\",\"marker\":{\"colorbar\":{\"outlinewidth\":0,\"ticks\":\"\"}}}],\"bar\":[{\"error_x\":{\"color\":\"#2a3f5f\"},\"error_y\":{\"color\":\"#2a3f5f\"},\"marker\":{\"line\":{\"color\":\"#E5ECF6\",\"width\":0.5},\"pattern\":{\"fillmode\":\"overlay\",\"size\":10,\"solidity\":0.2}},\"type\":\"bar\"}],\"scattergeo\":[{\"type\":\"scattergeo\",\"marker\":{\"colorbar\":{\"outlinewidth\":0,\"ticks\":\"\"}}}],\"scatterpolar\":[{\"type\":\"scatterpolar\",\"marker\":{\"colorbar\":{\"outlinewidth\":0,\"ticks\":\"\"}}}],\"histogram\":[{\"marker\":{\"pattern\":{\"fillmode\":\"overlay\",\"size\":10,\"solidity\":0.2}},\"type\":\"histogram\"}],\"scattergl\":[{\"type\":\"scattergl\",\"marker\":{\"colorbar\":{\"outlinewidth\":0,\"ticks\":\"\"}}}],\"scatter3d\":[{\"type\":\"scatter3d\",\"line\":{\"colorbar\":{\"outlinewidth\":0,\"ticks\":\"\"}},\"marker\":{\"colorbar\":{\"outlinewidth\":0,\"ticks\":\"\"}}}],\"scattermapbox\":[{\"type\":\"scattermapbox\",\"marker\":{\"colorbar\":{\"outlinewidth\":0,\"ticks\":\"\"}}}],\"scatterternary\":[{\"type\":\"scatterternary\",\"marker\":{\"colorbar\":{\"outlinewidth\":0,\"ticks\":\"\"}}}],\"scattercarpet\":[{\"type\":\"scattercarpet\",\"marker\":{\"colorbar\":{\"outlinewidth\":0,\"ticks\":\"\"}}}],\"carpet\":[{\"aaxis\":{\"endlinecolor\":\"#2a3f5f\",\"gridcolor\":\"white\",\"linecolor\":\"white\",\"minorgridcolor\":\"white\",\"startlinecolor\":\"#2a3f5f\"},\"baxis\":{\"endlinecolor\":\"#2a3f5f\",\"gridcolor\":\"white\",\"linecolor\":\"white\",\"minorgridcolor\":\"white\",\"startlinecolor\":\"#2a3f5f\"},\"type\":\"carpet\"}],\"table\":[{\"cells\":{\"fill\":{\"color\":\"#EBF0F8\"},\"line\":{\"color\":\"white\"}},\"header\":{\"fill\":{\"color\":\"#C8D4E3\"},\"line\":{\"color\":\"white\"}},\"type\":\"table\"}],\"barpolar\":[{\"marker\":{\"line\":{\"color\":\"#E5ECF6\",\"width\":0.5},\"pattern\":{\"fillmode\":\"overlay\",\"size\":10,\"solidity\":0.2}},\"type\":\"barpolar\"}],\"pie\":[{\"automargin\":true,\"type\":\"pie\"}]},\"layout\":{\"autotypenumbers\":\"strict\",\"colorway\":[\"#636efa\",\"#EF553B\",\"#00cc96\",\"#ab63fa\",\"#FFA15A\",\"#19d3f3\",\"#FF6692\",\"#B6E880\",\"#FF97FF\",\"#FECB52\"],\"font\":{\"color\":\"#2a3f5f\"},\"hovermode\":\"closest\",\"hoverlabel\":{\"align\":\"left\"},\"paper_bgcolor\":\"white\",\"plot_bgcolor\":\"#E5ECF6\",\"polar\":{\"bgcolor\":\"#E5ECF6\",\"angularaxis\":{\"gridcolor\":\"white\",\"linecolor\":\"white\",\"ticks\":\"\"},\"radialaxis\":{\"gridcolor\":\"white\",\"linecolor\":\"white\",\"ticks\":\"\"}},\"ternary\":{\"bgcolor\":\"#E5ECF6\",\"aaxis\":{\"gridcolor\":\"white\",\"linecolor\":\"white\",\"ticks\":\"\"},\"baxis\":{\"gridcolor\":\"white\",\"linecolor\":\"white\",\"ticks\":\"\"},\"caxis\":{\"gridcolor\":\"white\",\"linecolor\":\"white\",\"ticks\":\"\"}},\"coloraxis\":{\"colorbar\":{\"outlinewidth\":0,\"ticks\":\"\"}},\"colorscale\":{\"sequential\":[[0.0,\"#0d0887\"],[0.1111111111111111,\"#46039f\"],[0.2222222222222222,\"#7201a8\"],[0.3333333333333333,\"#9c179e\"],[0.4444444444444444,\"#bd3786\"],[0.5555555555555556,\"#d8576b\"],[0.6666666666666666,\"#ed7953\"],[0.7777777777777778,\"#fb9f3a\"],[0.8888888888888888,\"#fdca26\"],[1.0,\"#f0f921\"]],\"sequentialminus\":[[0.0,\"#0d0887\"],[0.1111111111111111,\"#46039f\"],[0.2222222222222222,\"#7201a8\"],[0.3333333333333333,\"#9c179e\"],[0.4444444444444444,\"#bd3786\"],[0.5555555555555556,\"#d8576b\"],[0.6666666666666666,\"#ed7953\"],[0.7777777777777778,\"#fb9f3a\"],[0.8888888888888888,\"#fdca26\"],[1.0,\"#f0f921\"]],\"diverging\":[[0,\"#8e0152\"],[0.1,\"#c51b7d\"],[0.2,\"#de77ae\"],[0.3,\"#f1b6da\"],[0.4,\"#fde0ef\"],[0.5,\"#f7f7f7\"],[0.6,\"#e6f5d0\"],[0.7,\"#b8e186\"],[0.8,\"#7fbc41\"],[0.9,\"#4d9221\"],[1,\"#276419\"]]},\"xaxis\":{\"gridcolor\":\"white\",\"linecolor\":\"white\",\"ticks\":\"\",\"title\":{\"standoff\":15},\"zerolinecolor\":\"white\",\"automargin\":true,\"zerolinewidth\":2},\"yaxis\":{\"gridcolor\":\"white\",\"linecolor\":\"white\",\"ticks\":\"\",\"title\":{\"standoff\":15},\"zerolinecolor\":\"white\",\"automargin\":true,\"zerolinewidth\":2},\"scene\":{\"xaxis\":{\"backgroundcolor\":\"#E5ECF6\",\"gridcolor\":\"white\",\"linecolor\":\"white\",\"showbackground\":true,\"ticks\":\"\",\"zerolinecolor\":\"white\",\"gridwidth\":2},\"yaxis\":{\"backgroundcolor\":\"#E5ECF6\",\"gridcolor\":\"white\",\"linecolor\":\"white\",\"showbackground\":true,\"ticks\":\"\",\"zerolinecolor\":\"white\",\"gridwidth\":2},\"zaxis\":{\"backgroundcolor\":\"#E5ECF6\",\"gridcolor\":\"white\",\"linecolor\":\"white\",\"showbackground\":true,\"ticks\":\"\",\"zerolinecolor\":\"white\",\"gridwidth\":2}},\"shapedefaults\":{\"line\":{\"color\":\"#2a3f5f\"}},\"annotationdefaults\":{\"arrowcolor\":\"#2a3f5f\",\"arrowhead\":0,\"arrowwidth\":1},\"geo\":{\"bgcolor\":\"white\",\"landcolor\":\"#E5ECF6\",\"subunitcolor\":\"white\",\"showland\":true,\"showlakes\":true,\"lakecolor\":\"white\"},\"title\":{\"x\":0.05},\"mapbox\":{\"style\":\"light\"}}},\"legend\":{\"tracegroupgap\":0},\"title\":{\"text\":\"USA vs USSR Launches Before and During the Cold War Space Race\"}},                        {\"responsive\": true}                    ).then(function(){\n",
              "                            \n",
              "var gd = document.getElementById('d18f1e7c-dbc0-4677-9bab-b75da60f7f9a');\n",
              "var x = new MutationObserver(function (mutations, observer) {{\n",
              "        var display = window.getComputedStyle(gd).display;\n",
              "        if (!display || display === 'none') {{\n",
              "            console.log([gd, 'removed!']);\n",
              "            Plotly.purge(gd);\n",
              "            observer.disconnect();\n",
              "        }}\n",
              "}});\n",
              "\n",
              "// Listen for the removal of the full notebook cells\n",
              "var notebookContainer = gd.closest('#notebook-container');\n",
              "if (notebookContainer) {{\n",
              "    x.observe(notebookContainer, {childList: true});\n",
              "}}\n",
              "\n",
              "// Listen for the clearing of the current output cell\n",
              "var outputEl = gd.closest('.output');\n",
              "if (outputEl) {{\n",
              "    x.observe(outputEl, {childList: true});\n",
              "}}\n",
              "\n",
              "                        })                };                            </script>        </div>\n",
              "</body>\n",
              "</html>"
            ]
          },
          "metadata": {}
        },
        {
          "output_type": "display_data",
          "data": {
            "text/plain": [
              "<Figure size 800x800 with 0 Axes>"
            ]
          },
          "metadata": {}
        }
      ]
    },
    {
      "cell_type": "markdown",
      "metadata": {
        "papermill": {
          "duration": 0.052921,
          "end_time": "2020-10-20T21:34:14.340085",
          "exception": false,
          "start_time": "2020-10-20T21:34:14.287164",
          "status": "completed"
        },
        "tags": [],
        "id": "0C29Zz4xa-rA"
      },
      "source": [
        "## Create a Chart that Shows the Total Number of Launches Year-On-Year by the Two Superpowers"
      ]
    },
    {
      "cell_type": "code",
      "source": [
        "launches_per_year = df_cold_war.groupby(['Year', 'Region']).size().reset_index(name='Launches')\n",
        "launches_per_year.head()"
      ],
      "metadata": {
        "colab": {
          "base_uri": "https://localhost:8080/",
          "height": 206
        },
        "id": "vnrNOWF3fwBz",
        "outputId": "ac584005-8d2f-4c6e-d5ac-74517dfc8b31"
      },
      "execution_count": 267,
      "outputs": [
        {
          "output_type": "execute_result",
          "data": {
            "text/plain": [
              "   Year Region  Launches\n",
              "0  1964    USA         2\n",
              "1  1965    USA         2\n",
              "2  1966    USA         3\n",
              "3  1967    USA         7\n",
              "4  1968    USA         8"
            ],
            "text/html": [
              "\n",
              "  <div id=\"df-d0e3936f-97d8-406d-9220-0fbe956a0892\">\n",
              "    <div class=\"colab-df-container\">\n",
              "      <div>\n",
              "<style scoped>\n",
              "    .dataframe tbody tr th:only-of-type {\n",
              "        vertical-align: middle;\n",
              "    }\n",
              "\n",
              "    .dataframe tbody tr th {\n",
              "        vertical-align: top;\n",
              "    }\n",
              "\n",
              "    .dataframe thead th {\n",
              "        text-align: right;\n",
              "    }\n",
              "</style>\n",
              "<table border=\"1\" class=\"dataframe\">\n",
              "  <thead>\n",
              "    <tr style=\"text-align: right;\">\n",
              "      <th></th>\n",
              "      <th>Year</th>\n",
              "      <th>Region</th>\n",
              "      <th>Launches</th>\n",
              "    </tr>\n",
              "  </thead>\n",
              "  <tbody>\n",
              "    <tr>\n",
              "      <th>0</th>\n",
              "      <td>1964</td>\n",
              "      <td>USA</td>\n",
              "      <td>2</td>\n",
              "    </tr>\n",
              "    <tr>\n",
              "      <th>1</th>\n",
              "      <td>1965</td>\n",
              "      <td>USA</td>\n",
              "      <td>2</td>\n",
              "    </tr>\n",
              "    <tr>\n",
              "      <th>2</th>\n",
              "      <td>1966</td>\n",
              "      <td>USA</td>\n",
              "      <td>3</td>\n",
              "    </tr>\n",
              "    <tr>\n",
              "      <th>3</th>\n",
              "      <td>1967</td>\n",
              "      <td>USA</td>\n",
              "      <td>7</td>\n",
              "    </tr>\n",
              "    <tr>\n",
              "      <th>4</th>\n",
              "      <td>1968</td>\n",
              "      <td>USA</td>\n",
              "      <td>8</td>\n",
              "    </tr>\n",
              "  </tbody>\n",
              "</table>\n",
              "</div>\n",
              "      <button class=\"colab-df-convert\" onclick=\"convertToInteractive('df-d0e3936f-97d8-406d-9220-0fbe956a0892')\"\n",
              "              title=\"Convert this dataframe to an interactive table.\"\n",
              "              style=\"display:none;\">\n",
              "        \n",
              "  <svg xmlns=\"http://www.w3.org/2000/svg\" height=\"24px\"viewBox=\"0 0 24 24\"\n",
              "       width=\"24px\">\n",
              "    <path d=\"M0 0h24v24H0V0z\" fill=\"none\"/>\n",
              "    <path d=\"M18.56 5.44l.94 2.06.94-2.06 2.06-.94-2.06-.94-.94-2.06-.94 2.06-2.06.94zm-11 1L8.5 8.5l.94-2.06 2.06-.94-2.06-.94L8.5 2.5l-.94 2.06-2.06.94zm10 10l.94 2.06.94-2.06 2.06-.94-2.06-.94-.94-2.06-.94 2.06-2.06.94z\"/><path d=\"M17.41 7.96l-1.37-1.37c-.4-.4-.92-.59-1.43-.59-.52 0-1.04.2-1.43.59L10.3 9.45l-7.72 7.72c-.78.78-.78 2.05 0 2.83L4 21.41c.39.39.9.59 1.41.59.51 0 1.02-.2 1.41-.59l7.78-7.78 2.81-2.81c.8-.78.8-2.07 0-2.86zM5.41 20L4 18.59l7.72-7.72 1.47 1.35L5.41 20z\"/>\n",
              "  </svg>\n",
              "      </button>\n",
              "      \n",
              "  <style>\n",
              "    .colab-df-container {\n",
              "      display:flex;\n",
              "      flex-wrap:wrap;\n",
              "      gap: 12px;\n",
              "    }\n",
              "\n",
              "    .colab-df-convert {\n",
              "      background-color: #E8F0FE;\n",
              "      border: none;\n",
              "      border-radius: 50%;\n",
              "      cursor: pointer;\n",
              "      display: none;\n",
              "      fill: #1967D2;\n",
              "      height: 32px;\n",
              "      padding: 0 0 0 0;\n",
              "      width: 32px;\n",
              "    }\n",
              "\n",
              "    .colab-df-convert:hover {\n",
              "      background-color: #E2EBFA;\n",
              "      box-shadow: 0px 1px 2px rgba(60, 64, 67, 0.3), 0px 1px 3px 1px rgba(60, 64, 67, 0.15);\n",
              "      fill: #174EA6;\n",
              "    }\n",
              "\n",
              "    [theme=dark] .colab-df-convert {\n",
              "      background-color: #3B4455;\n",
              "      fill: #D2E3FC;\n",
              "    }\n",
              "\n",
              "    [theme=dark] .colab-df-convert:hover {\n",
              "      background-color: #434B5C;\n",
              "      box-shadow: 0px 1px 3px 1px rgba(0, 0, 0, 0.15);\n",
              "      filter: drop-shadow(0px 1px 2px rgba(0, 0, 0, 0.3));\n",
              "      fill: #FFFFFF;\n",
              "    }\n",
              "  </style>\n",
              "\n",
              "      <script>\n",
              "        const buttonEl =\n",
              "          document.querySelector('#df-d0e3936f-97d8-406d-9220-0fbe956a0892 button.colab-df-convert');\n",
              "        buttonEl.style.display =\n",
              "          google.colab.kernel.accessAllowed ? 'block' : 'none';\n",
              "\n",
              "        async function convertToInteractive(key) {\n",
              "          const element = document.querySelector('#df-d0e3936f-97d8-406d-9220-0fbe956a0892');\n",
              "          const dataTable =\n",
              "            await google.colab.kernel.invokeFunction('convertToInteractive',\n",
              "                                                     [key], {});\n",
              "          if (!dataTable) return;\n",
              "\n",
              "          const docLinkHtml = 'Like what you see? Visit the ' +\n",
              "            '<a target=\"_blank\" href=https://colab.research.google.com/notebooks/data_table.ipynb>data table notebook</a>'\n",
              "            + ' to learn more about interactive tables.';\n",
              "          element.innerHTML = '';\n",
              "          dataTable['output_type'] = 'display_data';\n",
              "          await google.colab.output.renderOutput(dataTable, element);\n",
              "          const docLink = document.createElement('div');\n",
              "          docLink.innerHTML = docLinkHtml;\n",
              "          element.appendChild(docLink);\n",
              "        }\n",
              "      </script>\n",
              "    </div>\n",
              "  </div>\n",
              "  "
            ]
          },
          "metadata": {},
          "execution_count": 267
        }
      ]
    },
    {
      "cell_type": "code",
      "metadata": {
        "id": "9ISKvOiCrS73",
        "colab": {
          "base_uri": "https://localhost:8080/",
          "height": 542
        },
        "outputId": "6e363b62-e4d8-4b21-8eb8-6a2f7ead7a69"
      },
      "source": [
        "fig7 = px.line(\n",
        "    launches_per_year,\n",
        "    x='Year',\n",
        "    y='Launches',\n",
        "    color='Region',\n",
        ")\n",
        "\n",
        "fig7.show()"
      ],
      "execution_count": 268,
      "outputs": [
        {
          "output_type": "display_data",
          "data": {
            "text/html": [
              "<html>\n",
              "<head><meta charset=\"utf-8\" /></head>\n",
              "<body>\n",
              "    <div>            <script src=\"https://cdnjs.cloudflare.com/ajax/libs/mathjax/2.7.5/MathJax.js?config=TeX-AMS-MML_SVG\"></script><script type=\"text/javascript\">if (window.MathJax && window.MathJax.Hub && window.MathJax.Hub.Config) {window.MathJax.Hub.Config({SVG: {font: \"STIX-Web\"}});}</script>                <script type=\"text/javascript\">window.PlotlyConfig = {MathJaxConfig: 'local'};</script>\n",
              "        <script src=\"https://cdn.plot.ly/plotly-2.12.1.min.js\"></script>                <div id=\"848ddb44-87f7-4b5b-8116-55f55a6abf62\" class=\"plotly-graph-div\" style=\"height:525px; width:100%;\"></div>            <script type=\"text/javascript\">                                    window.PLOTLYENV=window.PLOTLYENV || {};                                    if (document.getElementById(\"848ddb44-87f7-4b5b-8116-55f55a6abf62\")) {                    Plotly.newPlot(                        \"848ddb44-87f7-4b5b-8116-55f55a6abf62\",                        [{\"hovertemplate\":\"Region=USA<br>Year=%{x}<br>Launches=%{y}<extra></extra>\",\"legendgroup\":\"USA\",\"line\":{\"color\":\"#636efa\",\"dash\":\"solid\"},\"marker\":{\"symbol\":\"circle\"},\"mode\":\"lines\",\"name\":\"USA\",\"orientation\":\"v\",\"showlegend\":true,\"x\":[1964,1965,1966,1967,1968,1969,1981,1982,1983,1984,1985,1986,1988,1989,1990,1991],\"xaxis\":\"x\",\"y\":[2,2,3,7,8,4,2,3,4,5,9,2,3,6,10,7],\"yaxis\":\"y\",\"type\":\"scatter\"},{\"hovertemplate\":\"Region=USSR<br>Year=%{x}<br>Launches=%{y}<extra></extra>\",\"legendgroup\":\"USSR\",\"line\":{\"color\":\"#EF553B\",\"dash\":\"solid\"},\"marker\":{\"symbol\":\"circle\"},\"mode\":\"lines\",\"name\":\"USSR\",\"orientation\":\"v\",\"showlegend\":true,\"x\":[1973,1974,1975,1976,1977,1978,1979,1980,1981,1982,1983,1984,1985,1986,1987,1988,1989,1990,1991],\"xaxis\":\"x\",\"y\":[3,10,10,24,39,45,47,45,42,45,43,44,40,37,44,45,38,32,24],\"yaxis\":\"y\",\"type\":\"scatter\"}],                        {\"template\":{\"data\":{\"histogram2dcontour\":[{\"type\":\"histogram2dcontour\",\"colorbar\":{\"outlinewidth\":0,\"ticks\":\"\"},\"colorscale\":[[0.0,\"#0d0887\"],[0.1111111111111111,\"#46039f\"],[0.2222222222222222,\"#7201a8\"],[0.3333333333333333,\"#9c179e\"],[0.4444444444444444,\"#bd3786\"],[0.5555555555555556,\"#d8576b\"],[0.6666666666666666,\"#ed7953\"],[0.7777777777777778,\"#fb9f3a\"],[0.8888888888888888,\"#fdca26\"],[1.0,\"#f0f921\"]]}],\"choropleth\":[{\"type\":\"choropleth\",\"colorbar\":{\"outlinewidth\":0,\"ticks\":\"\"}}],\"histogram2d\":[{\"type\":\"histogram2d\",\"colorbar\":{\"outlinewidth\":0,\"ticks\":\"\"},\"colorscale\":[[0.0,\"#0d0887\"],[0.1111111111111111,\"#46039f\"],[0.2222222222222222,\"#7201a8\"],[0.3333333333333333,\"#9c179e\"],[0.4444444444444444,\"#bd3786\"],[0.5555555555555556,\"#d8576b\"],[0.6666666666666666,\"#ed7953\"],[0.7777777777777778,\"#fb9f3a\"],[0.8888888888888888,\"#fdca26\"],[1.0,\"#f0f921\"]]}],\"heatmap\":[{\"type\":\"heatmap\",\"colorbar\":{\"outlinewidth\":0,\"ticks\":\"\"},\"colorscale\":[[0.0,\"#0d0887\"],[0.1111111111111111,\"#46039f\"],[0.2222222222222222,\"#7201a8\"],[0.3333333333333333,\"#9c179e\"],[0.4444444444444444,\"#bd3786\"],[0.5555555555555556,\"#d8576b\"],[0.6666666666666666,\"#ed7953\"],[0.7777777777777778,\"#fb9f3a\"],[0.8888888888888888,\"#fdca26\"],[1.0,\"#f0f921\"]]}],\"heatmapgl\":[{\"type\":\"heatmapgl\",\"colorbar\":{\"outlinewidth\":0,\"ticks\":\"\"},\"colorscale\":[[0.0,\"#0d0887\"],[0.1111111111111111,\"#46039f\"],[0.2222222222222222,\"#7201a8\"],[0.3333333333333333,\"#9c179e\"],[0.4444444444444444,\"#bd3786\"],[0.5555555555555556,\"#d8576b\"],[0.6666666666666666,\"#ed7953\"],[0.7777777777777778,\"#fb9f3a\"],[0.8888888888888888,\"#fdca26\"],[1.0,\"#f0f921\"]]}],\"contourcarpet\":[{\"type\":\"contourcarpet\",\"colorbar\":{\"outlinewidth\":0,\"ticks\":\"\"}}],\"contour\":[{\"type\":\"contour\",\"colorbar\":{\"outlinewidth\":0,\"ticks\":\"\"},\"colorscale\":[[0.0,\"#0d0887\"],[0.1111111111111111,\"#46039f\"],[0.2222222222222222,\"#7201a8\"],[0.3333333333333333,\"#9c179e\"],[0.4444444444444444,\"#bd3786\"],[0.5555555555555556,\"#d8576b\"],[0.6666666666666666,\"#ed7953\"],[0.7777777777777778,\"#fb9f3a\"],[0.8888888888888888,\"#fdca26\"],[1.0,\"#f0f921\"]]}],\"surface\":[{\"type\":\"surface\",\"colorbar\":{\"outlinewidth\":0,\"ticks\":\"\"},\"colorscale\":[[0.0,\"#0d0887\"],[0.1111111111111111,\"#46039f\"],[0.2222222222222222,\"#7201a8\"],[0.3333333333333333,\"#9c179e\"],[0.4444444444444444,\"#bd3786\"],[0.5555555555555556,\"#d8576b\"],[0.6666666666666666,\"#ed7953\"],[0.7777777777777778,\"#fb9f3a\"],[0.8888888888888888,\"#fdca26\"],[1.0,\"#f0f921\"]]}],\"mesh3d\":[{\"type\":\"mesh3d\",\"colorbar\":{\"outlinewidth\":0,\"ticks\":\"\"}}],\"scatter\":[{\"fillpattern\":{\"fillmode\":\"overlay\",\"size\":10,\"solidity\":0.2},\"type\":\"scatter\"}],\"parcoords\":[{\"type\":\"parcoords\",\"line\":{\"colorbar\":{\"outlinewidth\":0,\"ticks\":\"\"}}}],\"scatterpolargl\":[{\"type\":\"scatterpolargl\",\"marker\":{\"colorbar\":{\"outlinewidth\":0,\"ticks\":\"\"}}}],\"bar\":[{\"error_x\":{\"color\":\"#2a3f5f\"},\"error_y\":{\"color\":\"#2a3f5f\"},\"marker\":{\"line\":{\"color\":\"#E5ECF6\",\"width\":0.5},\"pattern\":{\"fillmode\":\"overlay\",\"size\":10,\"solidity\":0.2}},\"type\":\"bar\"}],\"scattergeo\":[{\"type\":\"scattergeo\",\"marker\":{\"colorbar\":{\"outlinewidth\":0,\"ticks\":\"\"}}}],\"scatterpolar\":[{\"type\":\"scatterpolar\",\"marker\":{\"colorbar\":{\"outlinewidth\":0,\"ticks\":\"\"}}}],\"histogram\":[{\"marker\":{\"pattern\":{\"fillmode\":\"overlay\",\"size\":10,\"solidity\":0.2}},\"type\":\"histogram\"}],\"scattergl\":[{\"type\":\"scattergl\",\"marker\":{\"colorbar\":{\"outlinewidth\":0,\"ticks\":\"\"}}}],\"scatter3d\":[{\"type\":\"scatter3d\",\"line\":{\"colorbar\":{\"outlinewidth\":0,\"ticks\":\"\"}},\"marker\":{\"colorbar\":{\"outlinewidth\":0,\"ticks\":\"\"}}}],\"scattermapbox\":[{\"type\":\"scattermapbox\",\"marker\":{\"colorbar\":{\"outlinewidth\":0,\"ticks\":\"\"}}}],\"scatterternary\":[{\"type\":\"scatterternary\",\"marker\":{\"colorbar\":{\"outlinewidth\":0,\"ticks\":\"\"}}}],\"scattercarpet\":[{\"type\":\"scattercarpet\",\"marker\":{\"colorbar\":{\"outlinewidth\":0,\"ticks\":\"\"}}}],\"carpet\":[{\"aaxis\":{\"endlinecolor\":\"#2a3f5f\",\"gridcolor\":\"white\",\"linecolor\":\"white\",\"minorgridcolor\":\"white\",\"startlinecolor\":\"#2a3f5f\"},\"baxis\":{\"endlinecolor\":\"#2a3f5f\",\"gridcolor\":\"white\",\"linecolor\":\"white\",\"minorgridcolor\":\"white\",\"startlinecolor\":\"#2a3f5f\"},\"type\":\"carpet\"}],\"table\":[{\"cells\":{\"fill\":{\"color\":\"#EBF0F8\"},\"line\":{\"color\":\"white\"}},\"header\":{\"fill\":{\"color\":\"#C8D4E3\"},\"line\":{\"color\":\"white\"}},\"type\":\"table\"}],\"barpolar\":[{\"marker\":{\"line\":{\"color\":\"#E5ECF6\",\"width\":0.5},\"pattern\":{\"fillmode\":\"overlay\",\"size\":10,\"solidity\":0.2}},\"type\":\"barpolar\"}],\"pie\":[{\"automargin\":true,\"type\":\"pie\"}]},\"layout\":{\"autotypenumbers\":\"strict\",\"colorway\":[\"#636efa\",\"#EF553B\",\"#00cc96\",\"#ab63fa\",\"#FFA15A\",\"#19d3f3\",\"#FF6692\",\"#B6E880\",\"#FF97FF\",\"#FECB52\"],\"font\":{\"color\":\"#2a3f5f\"},\"hovermode\":\"closest\",\"hoverlabel\":{\"align\":\"left\"},\"paper_bgcolor\":\"white\",\"plot_bgcolor\":\"#E5ECF6\",\"polar\":{\"bgcolor\":\"#E5ECF6\",\"angularaxis\":{\"gridcolor\":\"white\",\"linecolor\":\"white\",\"ticks\":\"\"},\"radialaxis\":{\"gridcolor\":\"white\",\"linecolor\":\"white\",\"ticks\":\"\"}},\"ternary\":{\"bgcolor\":\"#E5ECF6\",\"aaxis\":{\"gridcolor\":\"white\",\"linecolor\":\"white\",\"ticks\":\"\"},\"baxis\":{\"gridcolor\":\"white\",\"linecolor\":\"white\",\"ticks\":\"\"},\"caxis\":{\"gridcolor\":\"white\",\"linecolor\":\"white\",\"ticks\":\"\"}},\"coloraxis\":{\"colorbar\":{\"outlinewidth\":0,\"ticks\":\"\"}},\"colorscale\":{\"sequential\":[[0.0,\"#0d0887\"],[0.1111111111111111,\"#46039f\"],[0.2222222222222222,\"#7201a8\"],[0.3333333333333333,\"#9c179e\"],[0.4444444444444444,\"#bd3786\"],[0.5555555555555556,\"#d8576b\"],[0.6666666666666666,\"#ed7953\"],[0.7777777777777778,\"#fb9f3a\"],[0.8888888888888888,\"#fdca26\"],[1.0,\"#f0f921\"]],\"sequentialminus\":[[0.0,\"#0d0887\"],[0.1111111111111111,\"#46039f\"],[0.2222222222222222,\"#7201a8\"],[0.3333333333333333,\"#9c179e\"],[0.4444444444444444,\"#bd3786\"],[0.5555555555555556,\"#d8576b\"],[0.6666666666666666,\"#ed7953\"],[0.7777777777777778,\"#fb9f3a\"],[0.8888888888888888,\"#fdca26\"],[1.0,\"#f0f921\"]],\"diverging\":[[0,\"#8e0152\"],[0.1,\"#c51b7d\"],[0.2,\"#de77ae\"],[0.3,\"#f1b6da\"],[0.4,\"#fde0ef\"],[0.5,\"#f7f7f7\"],[0.6,\"#e6f5d0\"],[0.7,\"#b8e186\"],[0.8,\"#7fbc41\"],[0.9,\"#4d9221\"],[1,\"#276419\"]]},\"xaxis\":{\"gridcolor\":\"white\",\"linecolor\":\"white\",\"ticks\":\"\",\"title\":{\"standoff\":15},\"zerolinecolor\":\"white\",\"automargin\":true,\"zerolinewidth\":2},\"yaxis\":{\"gridcolor\":\"white\",\"linecolor\":\"white\",\"ticks\":\"\",\"title\":{\"standoff\":15},\"zerolinecolor\":\"white\",\"automargin\":true,\"zerolinewidth\":2},\"scene\":{\"xaxis\":{\"backgroundcolor\":\"#E5ECF6\",\"gridcolor\":\"white\",\"linecolor\":\"white\",\"showbackground\":true,\"ticks\":\"\",\"zerolinecolor\":\"white\",\"gridwidth\":2},\"yaxis\":{\"backgroundcolor\":\"#E5ECF6\",\"gridcolor\":\"white\",\"linecolor\":\"white\",\"showbackground\":true,\"ticks\":\"\",\"zerolinecolor\":\"white\",\"gridwidth\":2},\"zaxis\":{\"backgroundcolor\":\"#E5ECF6\",\"gridcolor\":\"white\",\"linecolor\":\"white\",\"showbackground\":true,\"ticks\":\"\",\"zerolinecolor\":\"white\",\"gridwidth\":2}},\"shapedefaults\":{\"line\":{\"color\":\"#2a3f5f\"}},\"annotationdefaults\":{\"arrowcolor\":\"#2a3f5f\",\"arrowhead\":0,\"arrowwidth\":1},\"geo\":{\"bgcolor\":\"white\",\"landcolor\":\"#E5ECF6\",\"subunitcolor\":\"white\",\"showland\":true,\"showlakes\":true,\"lakecolor\":\"white\"},\"title\":{\"x\":0.05},\"mapbox\":{\"style\":\"light\"}}},\"xaxis\":{\"anchor\":\"y\",\"domain\":[0.0,1.0],\"title\":{\"text\":\"Year\"}},\"yaxis\":{\"anchor\":\"x\",\"domain\":[0.0,1.0],\"title\":{\"text\":\"Launches\"}},\"legend\":{\"title\":{\"text\":\"Region\"},\"tracegroupgap\":0},\"margin\":{\"t\":60}},                        {\"responsive\": true}                    ).then(function(){\n",
              "                            \n",
              "var gd = document.getElementById('848ddb44-87f7-4b5b-8116-55f55a6abf62');\n",
              "var x = new MutationObserver(function (mutations, observer) {{\n",
              "        var display = window.getComputedStyle(gd).display;\n",
              "        if (!display || display === 'none') {{\n",
              "            console.log([gd, 'removed!']);\n",
              "            Plotly.purge(gd);\n",
              "            observer.disconnect();\n",
              "        }}\n",
              "}});\n",
              "\n",
              "// Listen for the removal of the full notebook cells\n",
              "var notebookContainer = gd.closest('#notebook-container');\n",
              "if (notebookContainer) {{\n",
              "    x.observe(notebookContainer, {childList: true});\n",
              "}}\n",
              "\n",
              "// Listen for the clearing of the current output cell\n",
              "var outputEl = gd.closest('.output');\n",
              "if (outputEl) {{\n",
              "    x.observe(outputEl, {childList: true});\n",
              "}}\n",
              "\n",
              "                        })                };                            </script>        </div>\n",
              "</body>\n",
              "</html>"
            ]
          },
          "metadata": {}
        }
      ]
    },
    {
      "cell_type": "markdown",
      "metadata": {
        "papermill": {
          "duration": 0.079311,
          "end_time": "2020-10-20T21:34:14.933058",
          "exception": false,
          "start_time": "2020-10-20T21:34:14.853747",
          "status": "completed"
        },
        "tags": [],
        "id": "eWv4iZmra-rE"
      },
      "source": [
        "## Chart the Total Number of Mission Failures Year on Year."
      ]
    },
    {
      "cell_type": "code",
      "metadata": {
        "id": "I-Zss5-Mre-4",
        "colab": {
          "base_uri": "https://localhost:8080/",
          "height": 206
        },
        "outputId": "91f880fb-00d7-413a-b1e5-df33f95cd4ab"
      },
      "source": [
        "failures_per_year = df_cold_war[df_cold_war.Mission_Status == 'Failure'].groupby(['Year', 'Region']).size().reset_index(name='Launches')\n",
        "failures_per_year.head()"
      ],
      "execution_count": 269,
      "outputs": [
        {
          "output_type": "execute_result",
          "data": {
            "text/plain": [
              "   Year Region  Launches\n",
              "0  1964    USA         1\n",
              "1  1967    USA         1\n",
              "2  1974   USSR         1\n",
              "3  1976   USSR         1\n",
              "4  1977   USSR         2"
            ],
            "text/html": [
              "\n",
              "  <div id=\"df-47f14e1b-9212-44ef-aec8-bdf000736fe9\">\n",
              "    <div class=\"colab-df-container\">\n",
              "      <div>\n",
              "<style scoped>\n",
              "    .dataframe tbody tr th:only-of-type {\n",
              "        vertical-align: middle;\n",
              "    }\n",
              "\n",
              "    .dataframe tbody tr th {\n",
              "        vertical-align: top;\n",
              "    }\n",
              "\n",
              "    .dataframe thead th {\n",
              "        text-align: right;\n",
              "    }\n",
              "</style>\n",
              "<table border=\"1\" class=\"dataframe\">\n",
              "  <thead>\n",
              "    <tr style=\"text-align: right;\">\n",
              "      <th></th>\n",
              "      <th>Year</th>\n",
              "      <th>Region</th>\n",
              "      <th>Launches</th>\n",
              "    </tr>\n",
              "  </thead>\n",
              "  <tbody>\n",
              "    <tr>\n",
              "      <th>0</th>\n",
              "      <td>1964</td>\n",
              "      <td>USA</td>\n",
              "      <td>1</td>\n",
              "    </tr>\n",
              "    <tr>\n",
              "      <th>1</th>\n",
              "      <td>1967</td>\n",
              "      <td>USA</td>\n",
              "      <td>1</td>\n",
              "    </tr>\n",
              "    <tr>\n",
              "      <th>2</th>\n",
              "      <td>1974</td>\n",
              "      <td>USSR</td>\n",
              "      <td>1</td>\n",
              "    </tr>\n",
              "    <tr>\n",
              "      <th>3</th>\n",
              "      <td>1976</td>\n",
              "      <td>USSR</td>\n",
              "      <td>1</td>\n",
              "    </tr>\n",
              "    <tr>\n",
              "      <th>4</th>\n",
              "      <td>1977</td>\n",
              "      <td>USSR</td>\n",
              "      <td>2</td>\n",
              "    </tr>\n",
              "  </tbody>\n",
              "</table>\n",
              "</div>\n",
              "      <button class=\"colab-df-convert\" onclick=\"convertToInteractive('df-47f14e1b-9212-44ef-aec8-bdf000736fe9')\"\n",
              "              title=\"Convert this dataframe to an interactive table.\"\n",
              "              style=\"display:none;\">\n",
              "        \n",
              "  <svg xmlns=\"http://www.w3.org/2000/svg\" height=\"24px\"viewBox=\"0 0 24 24\"\n",
              "       width=\"24px\">\n",
              "    <path d=\"M0 0h24v24H0V0z\" fill=\"none\"/>\n",
              "    <path d=\"M18.56 5.44l.94 2.06.94-2.06 2.06-.94-2.06-.94-.94-2.06-.94 2.06-2.06.94zm-11 1L8.5 8.5l.94-2.06 2.06-.94-2.06-.94L8.5 2.5l-.94 2.06-2.06.94zm10 10l.94 2.06.94-2.06 2.06-.94-2.06-.94-.94-2.06-.94 2.06-2.06.94z\"/><path d=\"M17.41 7.96l-1.37-1.37c-.4-.4-.92-.59-1.43-.59-.52 0-1.04.2-1.43.59L10.3 9.45l-7.72 7.72c-.78.78-.78 2.05 0 2.83L4 21.41c.39.39.9.59 1.41.59.51 0 1.02-.2 1.41-.59l7.78-7.78 2.81-2.81c.8-.78.8-2.07 0-2.86zM5.41 20L4 18.59l7.72-7.72 1.47 1.35L5.41 20z\"/>\n",
              "  </svg>\n",
              "      </button>\n",
              "      \n",
              "  <style>\n",
              "    .colab-df-container {\n",
              "      display:flex;\n",
              "      flex-wrap:wrap;\n",
              "      gap: 12px;\n",
              "    }\n",
              "\n",
              "    .colab-df-convert {\n",
              "      background-color: #E8F0FE;\n",
              "      border: none;\n",
              "      border-radius: 50%;\n",
              "      cursor: pointer;\n",
              "      display: none;\n",
              "      fill: #1967D2;\n",
              "      height: 32px;\n",
              "      padding: 0 0 0 0;\n",
              "      width: 32px;\n",
              "    }\n",
              "\n",
              "    .colab-df-convert:hover {\n",
              "      background-color: #E2EBFA;\n",
              "      box-shadow: 0px 1px 2px rgba(60, 64, 67, 0.3), 0px 1px 3px 1px rgba(60, 64, 67, 0.15);\n",
              "      fill: #174EA6;\n",
              "    }\n",
              "\n",
              "    [theme=dark] .colab-df-convert {\n",
              "      background-color: #3B4455;\n",
              "      fill: #D2E3FC;\n",
              "    }\n",
              "\n",
              "    [theme=dark] .colab-df-convert:hover {\n",
              "      background-color: #434B5C;\n",
              "      box-shadow: 0px 1px 3px 1px rgba(0, 0, 0, 0.15);\n",
              "      filter: drop-shadow(0px 1px 2px rgba(0, 0, 0, 0.3));\n",
              "      fill: #FFFFFF;\n",
              "    }\n",
              "  </style>\n",
              "\n",
              "      <script>\n",
              "        const buttonEl =\n",
              "          document.querySelector('#df-47f14e1b-9212-44ef-aec8-bdf000736fe9 button.colab-df-convert');\n",
              "        buttonEl.style.display =\n",
              "          google.colab.kernel.accessAllowed ? 'block' : 'none';\n",
              "\n",
              "        async function convertToInteractive(key) {\n",
              "          const element = document.querySelector('#df-47f14e1b-9212-44ef-aec8-bdf000736fe9');\n",
              "          const dataTable =\n",
              "            await google.colab.kernel.invokeFunction('convertToInteractive',\n",
              "                                                     [key], {});\n",
              "          if (!dataTable) return;\n",
              "\n",
              "          const docLinkHtml = 'Like what you see? Visit the ' +\n",
              "            '<a target=\"_blank\" href=https://colab.research.google.com/notebooks/data_table.ipynb>data table notebook</a>'\n",
              "            + ' to learn more about interactive tables.';\n",
              "          element.innerHTML = '';\n",
              "          dataTable['output_type'] = 'display_data';\n",
              "          await google.colab.output.renderOutput(dataTable, element);\n",
              "          const docLink = document.createElement('div');\n",
              "          docLink.innerHTML = docLinkHtml;\n",
              "          element.appendChild(docLink);\n",
              "        }\n",
              "      </script>\n",
              "    </div>\n",
              "  </div>\n",
              "  "
            ]
          },
          "metadata": {},
          "execution_count": 269
        }
      ]
    },
    {
      "cell_type": "code",
      "metadata": {
        "id": "7Ps9Iq_crfYl",
        "colab": {
          "base_uri": "https://localhost:8080/",
          "height": 542
        },
        "outputId": "460df50b-631a-4f5a-e58e-517872379edf"
      },
      "source": [
        "fig8 = px.line(\n",
        "    failures_per_year,\n",
        "    x='Year',\n",
        "    y='Launches',\n",
        "    color='Region',\n",
        ")\n",
        "\n",
        "fig8.show()"
      ],
      "execution_count": 270,
      "outputs": [
        {
          "output_type": "display_data",
          "data": {
            "text/html": [
              "<html>\n",
              "<head><meta charset=\"utf-8\" /></head>\n",
              "<body>\n",
              "    <div>            <script src=\"https://cdnjs.cloudflare.com/ajax/libs/mathjax/2.7.5/MathJax.js?config=TeX-AMS-MML_SVG\"></script><script type=\"text/javascript\">if (window.MathJax && window.MathJax.Hub && window.MathJax.Hub.Config) {window.MathJax.Hub.Config({SVG: {font: \"STIX-Web\"}});}</script>                <script type=\"text/javascript\">window.PlotlyConfig = {MathJaxConfig: 'local'};</script>\n",
              "        <script src=\"https://cdn.plot.ly/plotly-2.12.1.min.js\"></script>                <div id=\"a92b4ea6-5c87-4d10-a53a-7af377022fef\" class=\"plotly-graph-div\" style=\"height:525px; width:100%;\"></div>            <script type=\"text/javascript\">                                    window.PLOTLYENV=window.PLOTLYENV || {};                                    if (document.getElementById(\"a92b4ea6-5c87-4d10-a53a-7af377022fef\")) {                    Plotly.newPlot(                        \"a92b4ea6-5c87-4d10-a53a-7af377022fef\",                        [{\"hovertemplate\":\"Region=USA<br>Year=%{x}<br>Launches=%{y}<extra></extra>\",\"legendgroup\":\"USA\",\"line\":{\"color\":\"#636efa\",\"dash\":\"solid\"},\"marker\":{\"symbol\":\"circle\"},\"mode\":\"lines\",\"name\":\"USA\",\"orientation\":\"v\",\"showlegend\":true,\"x\":[1964,1967,1986,1990],\"xaxis\":\"x\",\"y\":[1,1,1,1],\"yaxis\":\"y\",\"type\":\"scatter\"},{\"hovertemplate\":\"Region=USSR<br>Year=%{x}<br>Launches=%{y}<extra></extra>\",\"legendgroup\":\"USSR\",\"line\":{\"color\":\"#EF553B\",\"dash\":\"solid\"},\"marker\":{\"symbol\":\"circle\"},\"mode\":\"lines\",\"name\":\"USSR\",\"orientation\":\"v\",\"showlegend\":true,\"x\":[1974,1976,1977,1979,1981,1982,1986,1987,1988,1990],\"xaxis\":\"x\",\"y\":[1,1,2,2,1,2,1,1,3,2],\"yaxis\":\"y\",\"type\":\"scatter\"}],                        {\"template\":{\"data\":{\"histogram2dcontour\":[{\"type\":\"histogram2dcontour\",\"colorbar\":{\"outlinewidth\":0,\"ticks\":\"\"},\"colorscale\":[[0.0,\"#0d0887\"],[0.1111111111111111,\"#46039f\"],[0.2222222222222222,\"#7201a8\"],[0.3333333333333333,\"#9c179e\"],[0.4444444444444444,\"#bd3786\"],[0.5555555555555556,\"#d8576b\"],[0.6666666666666666,\"#ed7953\"],[0.7777777777777778,\"#fb9f3a\"],[0.8888888888888888,\"#fdca26\"],[1.0,\"#f0f921\"]]}],\"choropleth\":[{\"type\":\"choropleth\",\"colorbar\":{\"outlinewidth\":0,\"ticks\":\"\"}}],\"histogram2d\":[{\"type\":\"histogram2d\",\"colorbar\":{\"outlinewidth\":0,\"ticks\":\"\"},\"colorscale\":[[0.0,\"#0d0887\"],[0.1111111111111111,\"#46039f\"],[0.2222222222222222,\"#7201a8\"],[0.3333333333333333,\"#9c179e\"],[0.4444444444444444,\"#bd3786\"],[0.5555555555555556,\"#d8576b\"],[0.6666666666666666,\"#ed7953\"],[0.7777777777777778,\"#fb9f3a\"],[0.8888888888888888,\"#fdca26\"],[1.0,\"#f0f921\"]]}],\"heatmap\":[{\"type\":\"heatmap\",\"colorbar\":{\"outlinewidth\":0,\"ticks\":\"\"},\"colorscale\":[[0.0,\"#0d0887\"],[0.1111111111111111,\"#46039f\"],[0.2222222222222222,\"#7201a8\"],[0.3333333333333333,\"#9c179e\"],[0.4444444444444444,\"#bd3786\"],[0.5555555555555556,\"#d8576b\"],[0.6666666666666666,\"#ed7953\"],[0.7777777777777778,\"#fb9f3a\"],[0.8888888888888888,\"#fdca26\"],[1.0,\"#f0f921\"]]}],\"heatmapgl\":[{\"type\":\"heatmapgl\",\"colorbar\":{\"outlinewidth\":0,\"ticks\":\"\"},\"colorscale\":[[0.0,\"#0d0887\"],[0.1111111111111111,\"#46039f\"],[0.2222222222222222,\"#7201a8\"],[0.3333333333333333,\"#9c179e\"],[0.4444444444444444,\"#bd3786\"],[0.5555555555555556,\"#d8576b\"],[0.6666666666666666,\"#ed7953\"],[0.7777777777777778,\"#fb9f3a\"],[0.8888888888888888,\"#fdca26\"],[1.0,\"#f0f921\"]]}],\"contourcarpet\":[{\"type\":\"contourcarpet\",\"colorbar\":{\"outlinewidth\":0,\"ticks\":\"\"}}],\"contour\":[{\"type\":\"contour\",\"colorbar\":{\"outlinewidth\":0,\"ticks\":\"\"},\"colorscale\":[[0.0,\"#0d0887\"],[0.1111111111111111,\"#46039f\"],[0.2222222222222222,\"#7201a8\"],[0.3333333333333333,\"#9c179e\"],[0.4444444444444444,\"#bd3786\"],[0.5555555555555556,\"#d8576b\"],[0.6666666666666666,\"#ed7953\"],[0.7777777777777778,\"#fb9f3a\"],[0.8888888888888888,\"#fdca26\"],[1.0,\"#f0f921\"]]}],\"surface\":[{\"type\":\"surface\",\"colorbar\":{\"outlinewidth\":0,\"ticks\":\"\"},\"colorscale\":[[0.0,\"#0d0887\"],[0.1111111111111111,\"#46039f\"],[0.2222222222222222,\"#7201a8\"],[0.3333333333333333,\"#9c179e\"],[0.4444444444444444,\"#bd3786\"],[0.5555555555555556,\"#d8576b\"],[0.6666666666666666,\"#ed7953\"],[0.7777777777777778,\"#fb9f3a\"],[0.8888888888888888,\"#fdca26\"],[1.0,\"#f0f921\"]]}],\"mesh3d\":[{\"type\":\"mesh3d\",\"colorbar\":{\"outlinewidth\":0,\"ticks\":\"\"}}],\"scatter\":[{\"fillpattern\":{\"fillmode\":\"overlay\",\"size\":10,\"solidity\":0.2},\"type\":\"scatter\"}],\"parcoords\":[{\"type\":\"parcoords\",\"line\":{\"colorbar\":{\"outlinewidth\":0,\"ticks\":\"\"}}}],\"scatterpolargl\":[{\"type\":\"scatterpolargl\",\"marker\":{\"colorbar\":{\"outlinewidth\":0,\"ticks\":\"\"}}}],\"bar\":[{\"error_x\":{\"color\":\"#2a3f5f\"},\"error_y\":{\"color\":\"#2a3f5f\"},\"marker\":{\"line\":{\"color\":\"#E5ECF6\",\"width\":0.5},\"pattern\":{\"fillmode\":\"overlay\",\"size\":10,\"solidity\":0.2}},\"type\":\"bar\"}],\"scattergeo\":[{\"type\":\"scattergeo\",\"marker\":{\"colorbar\":{\"outlinewidth\":0,\"ticks\":\"\"}}}],\"scatterpolar\":[{\"type\":\"scatterpolar\",\"marker\":{\"colorbar\":{\"outlinewidth\":0,\"ticks\":\"\"}}}],\"histogram\":[{\"marker\":{\"pattern\":{\"fillmode\":\"overlay\",\"size\":10,\"solidity\":0.2}},\"type\":\"histogram\"}],\"scattergl\":[{\"type\":\"scattergl\",\"marker\":{\"colorbar\":{\"outlinewidth\":0,\"ticks\":\"\"}}}],\"scatter3d\":[{\"type\":\"scatter3d\",\"line\":{\"colorbar\":{\"outlinewidth\":0,\"ticks\":\"\"}},\"marker\":{\"colorbar\":{\"outlinewidth\":0,\"ticks\":\"\"}}}],\"scattermapbox\":[{\"type\":\"scattermapbox\",\"marker\":{\"colorbar\":{\"outlinewidth\":0,\"ticks\":\"\"}}}],\"scatterternary\":[{\"type\":\"scatterternary\",\"marker\":{\"colorbar\":{\"outlinewidth\":0,\"ticks\":\"\"}}}],\"scattercarpet\":[{\"type\":\"scattercarpet\",\"marker\":{\"colorbar\":{\"outlinewidth\":0,\"ticks\":\"\"}}}],\"carpet\":[{\"aaxis\":{\"endlinecolor\":\"#2a3f5f\",\"gridcolor\":\"white\",\"linecolor\":\"white\",\"minorgridcolor\":\"white\",\"startlinecolor\":\"#2a3f5f\"},\"baxis\":{\"endlinecolor\":\"#2a3f5f\",\"gridcolor\":\"white\",\"linecolor\":\"white\",\"minorgridcolor\":\"white\",\"startlinecolor\":\"#2a3f5f\"},\"type\":\"carpet\"}],\"table\":[{\"cells\":{\"fill\":{\"color\":\"#EBF0F8\"},\"line\":{\"color\":\"white\"}},\"header\":{\"fill\":{\"color\":\"#C8D4E3\"},\"line\":{\"color\":\"white\"}},\"type\":\"table\"}],\"barpolar\":[{\"marker\":{\"line\":{\"color\":\"#E5ECF6\",\"width\":0.5},\"pattern\":{\"fillmode\":\"overlay\",\"size\":10,\"solidity\":0.2}},\"type\":\"barpolar\"}],\"pie\":[{\"automargin\":true,\"type\":\"pie\"}]},\"layout\":{\"autotypenumbers\":\"strict\",\"colorway\":[\"#636efa\",\"#EF553B\",\"#00cc96\",\"#ab63fa\",\"#FFA15A\",\"#19d3f3\",\"#FF6692\",\"#B6E880\",\"#FF97FF\",\"#FECB52\"],\"font\":{\"color\":\"#2a3f5f\"},\"hovermode\":\"closest\",\"hoverlabel\":{\"align\":\"left\"},\"paper_bgcolor\":\"white\",\"plot_bgcolor\":\"#E5ECF6\",\"polar\":{\"bgcolor\":\"#E5ECF6\",\"angularaxis\":{\"gridcolor\":\"white\",\"linecolor\":\"white\",\"ticks\":\"\"},\"radialaxis\":{\"gridcolor\":\"white\",\"linecolor\":\"white\",\"ticks\":\"\"}},\"ternary\":{\"bgcolor\":\"#E5ECF6\",\"aaxis\":{\"gridcolor\":\"white\",\"linecolor\":\"white\",\"ticks\":\"\"},\"baxis\":{\"gridcolor\":\"white\",\"linecolor\":\"white\",\"ticks\":\"\"},\"caxis\":{\"gridcolor\":\"white\",\"linecolor\":\"white\",\"ticks\":\"\"}},\"coloraxis\":{\"colorbar\":{\"outlinewidth\":0,\"ticks\":\"\"}},\"colorscale\":{\"sequential\":[[0.0,\"#0d0887\"],[0.1111111111111111,\"#46039f\"],[0.2222222222222222,\"#7201a8\"],[0.3333333333333333,\"#9c179e\"],[0.4444444444444444,\"#bd3786\"],[0.5555555555555556,\"#d8576b\"],[0.6666666666666666,\"#ed7953\"],[0.7777777777777778,\"#fb9f3a\"],[0.8888888888888888,\"#fdca26\"],[1.0,\"#f0f921\"]],\"sequentialminus\":[[0.0,\"#0d0887\"],[0.1111111111111111,\"#46039f\"],[0.2222222222222222,\"#7201a8\"],[0.3333333333333333,\"#9c179e\"],[0.4444444444444444,\"#bd3786\"],[0.5555555555555556,\"#d8576b\"],[0.6666666666666666,\"#ed7953\"],[0.7777777777777778,\"#fb9f3a\"],[0.8888888888888888,\"#fdca26\"],[1.0,\"#f0f921\"]],\"diverging\":[[0,\"#8e0152\"],[0.1,\"#c51b7d\"],[0.2,\"#de77ae\"],[0.3,\"#f1b6da\"],[0.4,\"#fde0ef\"],[0.5,\"#f7f7f7\"],[0.6,\"#e6f5d0\"],[0.7,\"#b8e186\"],[0.8,\"#7fbc41\"],[0.9,\"#4d9221\"],[1,\"#276419\"]]},\"xaxis\":{\"gridcolor\":\"white\",\"linecolor\":\"white\",\"ticks\":\"\",\"title\":{\"standoff\":15},\"zerolinecolor\":\"white\",\"automargin\":true,\"zerolinewidth\":2},\"yaxis\":{\"gridcolor\":\"white\",\"linecolor\":\"white\",\"ticks\":\"\",\"title\":{\"standoff\":15},\"zerolinecolor\":\"white\",\"automargin\":true,\"zerolinewidth\":2},\"scene\":{\"xaxis\":{\"backgroundcolor\":\"#E5ECF6\",\"gridcolor\":\"white\",\"linecolor\":\"white\",\"showbackground\":true,\"ticks\":\"\",\"zerolinecolor\":\"white\",\"gridwidth\":2},\"yaxis\":{\"backgroundcolor\":\"#E5ECF6\",\"gridcolor\":\"white\",\"linecolor\":\"white\",\"showbackground\":true,\"ticks\":\"\",\"zerolinecolor\":\"white\",\"gridwidth\":2},\"zaxis\":{\"backgroundcolor\":\"#E5ECF6\",\"gridcolor\":\"white\",\"linecolor\":\"white\",\"showbackground\":true,\"ticks\":\"\",\"zerolinecolor\":\"white\",\"gridwidth\":2}},\"shapedefaults\":{\"line\":{\"color\":\"#2a3f5f\"}},\"annotationdefaults\":{\"arrowcolor\":\"#2a3f5f\",\"arrowhead\":0,\"arrowwidth\":1},\"geo\":{\"bgcolor\":\"white\",\"landcolor\":\"#E5ECF6\",\"subunitcolor\":\"white\",\"showland\":true,\"showlakes\":true,\"lakecolor\":\"white\"},\"title\":{\"x\":0.05},\"mapbox\":{\"style\":\"light\"}}},\"xaxis\":{\"anchor\":\"y\",\"domain\":[0.0,1.0],\"title\":{\"text\":\"Year\"}},\"yaxis\":{\"anchor\":\"x\",\"domain\":[0.0,1.0],\"title\":{\"text\":\"Launches\"}},\"legend\":{\"title\":{\"text\":\"Region\"},\"tracegroupgap\":0},\"margin\":{\"t\":60}},                        {\"responsive\": true}                    ).then(function(){\n",
              "                            \n",
              "var gd = document.getElementById('a92b4ea6-5c87-4d10-a53a-7af377022fef');\n",
              "var x = new MutationObserver(function (mutations, observer) {{\n",
              "        var display = window.getComputedStyle(gd).display;\n",
              "        if (!display || display === 'none') {{\n",
              "            console.log([gd, 'removed!']);\n",
              "            Plotly.purge(gd);\n",
              "            observer.disconnect();\n",
              "        }}\n",
              "}});\n",
              "\n",
              "// Listen for the removal of the full notebook cells\n",
              "var notebookContainer = gd.closest('#notebook-container');\n",
              "if (notebookContainer) {{\n",
              "    x.observe(notebookContainer, {childList: true});\n",
              "}}\n",
              "\n",
              "// Listen for the clearing of the current output cell\n",
              "var outputEl = gd.closest('.output');\n",
              "if (outputEl) {{\n",
              "    x.observe(outputEl, {childList: true});\n",
              "}}\n",
              "\n",
              "                        })                };                            </script>        </div>\n",
              "</body>\n",
              "</html>"
            ]
          },
          "metadata": {}
        }
      ]
    },
    {
      "cell_type": "markdown",
      "metadata": {
        "id": "S5aOC7bGr2OX"
      },
      "source": [
        "# For Every Year Show which Country was in the Lead in terms of Total Number of Successful Launches up to and including including 2020)\n",
        "\n",
        "Do the results change if we only look at the number of successful launches? "
      ]
    },
    {
      "cell_type": "code",
      "metadata": {
        "id": "_h0grIXKsOz_",
        "colab": {
          "base_uri": "https://localhost:8080/",
          "height": 206
        },
        "outputId": "3b54abb8-3a82-41d9-ebc2-4f8df9278986"
      },
      "source": [
        "yearly_successes = df_data[(df_data.Mission_Status == 'Success') & (df_data.Year <= 2020)].groupby(['Year', 'Country']).size().reset_index(name='Launches')\n",
        "yearly_successes.head()"
      ],
      "execution_count": 271,
      "outputs": [
        {
          "output_type": "execute_result",
          "data": {
            "text/plain": [
              "   Year Country  Launches\n",
              "0  1964     USA         1\n",
              "1  1965     USA         2\n",
              "2  1966     USA         3\n",
              "3  1967     USA         5\n",
              "4  1968     USA         8"
            ],
            "text/html": [
              "\n",
              "  <div id=\"df-e487339a-ebda-435a-8d29-d6ece965e739\">\n",
              "    <div class=\"colab-df-container\">\n",
              "      <div>\n",
              "<style scoped>\n",
              "    .dataframe tbody tr th:only-of-type {\n",
              "        vertical-align: middle;\n",
              "    }\n",
              "\n",
              "    .dataframe tbody tr th {\n",
              "        vertical-align: top;\n",
              "    }\n",
              "\n",
              "    .dataframe thead th {\n",
              "        text-align: right;\n",
              "    }\n",
              "</style>\n",
              "<table border=\"1\" class=\"dataframe\">\n",
              "  <thead>\n",
              "    <tr style=\"text-align: right;\">\n",
              "      <th></th>\n",
              "      <th>Year</th>\n",
              "      <th>Country</th>\n",
              "      <th>Launches</th>\n",
              "    </tr>\n",
              "  </thead>\n",
              "  <tbody>\n",
              "    <tr>\n",
              "      <th>0</th>\n",
              "      <td>1964</td>\n",
              "      <td>USA</td>\n",
              "      <td>1</td>\n",
              "    </tr>\n",
              "    <tr>\n",
              "      <th>1</th>\n",
              "      <td>1965</td>\n",
              "      <td>USA</td>\n",
              "      <td>2</td>\n",
              "    </tr>\n",
              "    <tr>\n",
              "      <th>2</th>\n",
              "      <td>1966</td>\n",
              "      <td>USA</td>\n",
              "      <td>3</td>\n",
              "    </tr>\n",
              "    <tr>\n",
              "      <th>3</th>\n",
              "      <td>1967</td>\n",
              "      <td>USA</td>\n",
              "      <td>5</td>\n",
              "    </tr>\n",
              "    <tr>\n",
              "      <th>4</th>\n",
              "      <td>1968</td>\n",
              "      <td>USA</td>\n",
              "      <td>8</td>\n",
              "    </tr>\n",
              "  </tbody>\n",
              "</table>\n",
              "</div>\n",
              "      <button class=\"colab-df-convert\" onclick=\"convertToInteractive('df-e487339a-ebda-435a-8d29-d6ece965e739')\"\n",
              "              title=\"Convert this dataframe to an interactive table.\"\n",
              "              style=\"display:none;\">\n",
              "        \n",
              "  <svg xmlns=\"http://www.w3.org/2000/svg\" height=\"24px\"viewBox=\"0 0 24 24\"\n",
              "       width=\"24px\">\n",
              "    <path d=\"M0 0h24v24H0V0z\" fill=\"none\"/>\n",
              "    <path d=\"M18.56 5.44l.94 2.06.94-2.06 2.06-.94-2.06-.94-.94-2.06-.94 2.06-2.06.94zm-11 1L8.5 8.5l.94-2.06 2.06-.94-2.06-.94L8.5 2.5l-.94 2.06-2.06.94zm10 10l.94 2.06.94-2.06 2.06-.94-2.06-.94-.94-2.06-.94 2.06-2.06.94z\"/><path d=\"M17.41 7.96l-1.37-1.37c-.4-.4-.92-.59-1.43-.59-.52 0-1.04.2-1.43.59L10.3 9.45l-7.72 7.72c-.78.78-.78 2.05 0 2.83L4 21.41c.39.39.9.59 1.41.59.51 0 1.02-.2 1.41-.59l7.78-7.78 2.81-2.81c.8-.78.8-2.07 0-2.86zM5.41 20L4 18.59l7.72-7.72 1.47 1.35L5.41 20z\"/>\n",
              "  </svg>\n",
              "      </button>\n",
              "      \n",
              "  <style>\n",
              "    .colab-df-container {\n",
              "      display:flex;\n",
              "      flex-wrap:wrap;\n",
              "      gap: 12px;\n",
              "    }\n",
              "\n",
              "    .colab-df-convert {\n",
              "      background-color: #E8F0FE;\n",
              "      border: none;\n",
              "      border-radius: 50%;\n",
              "      cursor: pointer;\n",
              "      display: none;\n",
              "      fill: #1967D2;\n",
              "      height: 32px;\n",
              "      padding: 0 0 0 0;\n",
              "      width: 32px;\n",
              "    }\n",
              "\n",
              "    .colab-df-convert:hover {\n",
              "      background-color: #E2EBFA;\n",
              "      box-shadow: 0px 1px 2px rgba(60, 64, 67, 0.3), 0px 1px 3px 1px rgba(60, 64, 67, 0.15);\n",
              "      fill: #174EA6;\n",
              "    }\n",
              "\n",
              "    [theme=dark] .colab-df-convert {\n",
              "      background-color: #3B4455;\n",
              "      fill: #D2E3FC;\n",
              "    }\n",
              "\n",
              "    [theme=dark] .colab-df-convert:hover {\n",
              "      background-color: #434B5C;\n",
              "      box-shadow: 0px 1px 3px 1px rgba(0, 0, 0, 0.15);\n",
              "      filter: drop-shadow(0px 1px 2px rgba(0, 0, 0, 0.3));\n",
              "      fill: #FFFFFF;\n",
              "    }\n",
              "  </style>\n",
              "\n",
              "      <script>\n",
              "        const buttonEl =\n",
              "          document.querySelector('#df-e487339a-ebda-435a-8d29-d6ece965e739 button.colab-df-convert');\n",
              "        buttonEl.style.display =\n",
              "          google.colab.kernel.accessAllowed ? 'block' : 'none';\n",
              "\n",
              "        async function convertToInteractive(key) {\n",
              "          const element = document.querySelector('#df-e487339a-ebda-435a-8d29-d6ece965e739');\n",
              "          const dataTable =\n",
              "            await google.colab.kernel.invokeFunction('convertToInteractive',\n",
              "                                                     [key], {});\n",
              "          if (!dataTable) return;\n",
              "\n",
              "          const docLinkHtml = 'Like what you see? Visit the ' +\n",
              "            '<a target=\"_blank\" href=https://colab.research.google.com/notebooks/data_table.ipynb>data table notebook</a>'\n",
              "            + ' to learn more about interactive tables.';\n",
              "          element.innerHTML = '';\n",
              "          dataTable['output_type'] = 'display_data';\n",
              "          await google.colab.output.renderOutput(dataTable, element);\n",
              "          const docLink = document.createElement('div');\n",
              "          docLink.innerHTML = docLinkHtml;\n",
              "          element.appendChild(docLink);\n",
              "        }\n",
              "      </script>\n",
              "    </div>\n",
              "  </div>\n",
              "  "
            ]
          },
          "metadata": {},
          "execution_count": 271
        }
      ]
    },
    {
      "cell_type": "code",
      "metadata": {
        "id": "zgVysedmsOp4",
        "colab": {
          "base_uri": "https://localhost:8080/",
          "height": 542
        },
        "outputId": "ed8e0169-0752-46cd-d628-83b66433de17"
      },
      "source": [
        "fig9 = px.line(\n",
        "    yearly_successes,\n",
        "    x='Year',\n",
        "    y='Launches',\n",
        "    color='Country',\n",
        ")\n",
        "\n",
        "fig9.show()"
      ],
      "execution_count": 272,
      "outputs": [
        {
          "output_type": "display_data",
          "data": {
            "text/html": [
              "<html>\n",
              "<head><meta charset=\"utf-8\" /></head>\n",
              "<body>\n",
              "    <div>            <script src=\"https://cdnjs.cloudflare.com/ajax/libs/mathjax/2.7.5/MathJax.js?config=TeX-AMS-MML_SVG\"></script><script type=\"text/javascript\">if (window.MathJax && window.MathJax.Hub && window.MathJax.Hub.Config) {window.MathJax.Hub.Config({SVG: {font: \"STIX-Web\"}});}</script>                <script type=\"text/javascript\">window.PlotlyConfig = {MathJaxConfig: 'local'};</script>\n",
              "        <script src=\"https://cdn.plot.ly/plotly-2.12.1.min.js\"></script>                <div id=\"f53beaf5-b2da-4c93-98bd-7f4c8d060389\" class=\"plotly-graph-div\" style=\"height:525px; width:100%;\"></div>            <script type=\"text/javascript\">                                    window.PLOTLYENV=window.PLOTLYENV || {};                                    if (document.getElementById(\"f53beaf5-b2da-4c93-98bd-7f4c8d060389\")) {                    Plotly.newPlot(                        \"f53beaf5-b2da-4c93-98bd-7f4c8d060389\",                        [{\"hovertemplate\":\"Country=USA<br>Year=%{x}<br>Launches=%{y}<extra></extra>\",\"legendgroup\":\"USA\",\"line\":{\"color\":\"#636efa\",\"dash\":\"solid\"},\"marker\":{\"symbol\":\"circle\"},\"mode\":\"lines\",\"name\":\"USA\",\"orientation\":\"v\",\"showlegend\":true,\"x\":[1964,1965,1966,1967,1968,1969,1981,1982,1983,1984,1985,1986,1988,1989,1990,1991,1992,1993,1994,1995,1996,1997,1998,1999,2000,2001,2002,2003,2004,2005,2006,2007,2008,2009,2010,2011,2012,2013,2014,2015,2016,2017,2018,2019,2020],\"xaxis\":\"x\",\"y\":[1,2,3,5,8,4,2,3,4,5,9,1,3,6,9,6,10,9,10,8,11,14,14,9,10,6,9,10,2,6,11,9,6,14,14,14,9,17,21,16,20,27,29,19,35],\"yaxis\":\"y\",\"type\":\"scatter\"},{\"hovertemplate\":\"Country=Russian Federation<br>Year=%{x}<br>Launches=%{y}<extra></extra>\",\"legendgroup\":\"Russian Federation\",\"line\":{\"color\":\"#EF553B\",\"dash\":\"solid\"},\"marker\":{\"symbol\":\"circle\"},\"mode\":\"lines\",\"name\":\"Russian Federation\",\"orientation\":\"v\",\"showlegend\":true,\"x\":[1973,1974,1975,1976,1977,1978,1979,1980,1981,1982,1983,1984,1985,1986,1987,1988,1989,1990,1991,1992,1993,1994,1995,1996,1997,1998,1999,2000,2001,2002,2003,2004,2005,2006,2007,2008,2009,2010,2011,2012,2013,2014,2015,2016,2017,2018,2019,2020],\"xaxis\":\"x\",\"y\":[3,1,6,14,24,26,35,32,20,20,28,28,26,16,20,19,24,18,13,13,7,4,4,2,3,1,3,1,1,3,2,2,1,4,2,4,5,5,7,3,7,11,7,6,4,7,7,8],\"yaxis\":\"y\",\"type\":\"scatter\"},{\"hovertemplate\":\"Country=Kazakhstan<br>Year=%{x}<br>Launches=%{y}<extra></extra>\",\"legendgroup\":\"Kazakhstan\",\"line\":{\"color\":\"#00cc96\",\"dash\":\"solid\"},\"marker\":{\"symbol\":\"circle\"},\"mode\":\"lines\",\"name\":\"Kazakhstan\",\"orientation\":\"v\",\"showlegend\":true,\"x\":[1974,1975,1976,1977,1978,1979,1980,1981,1982,1983,1984,1985,1986,1987,1988,1989,1990,1991,1992,1993,1994,1995,1996,1997,1998,1999,2000,2001,2002,2003,2004,2005,2006,2007,2008,2009,2010,2011,2012,2013,2014,2015,2016,2017,2018,2019,2020],\"xaxis\":\"x\",\"y\":[7,4,9,13,18,10,13,21,23,14,16,14,20,23,23,14,12,11,11,10,11,8,5,7,7,10,14,7,5,4,9,11,10,12,13,16,19,14,13,16,14,11,6,8,4,10,7],\"yaxis\":\"y\",\"type\":\"scatter\"},{\"hovertemplate\":\"Country=China<br>Year=%{x}<br>Launches=%{y}<extra></extra>\",\"legendgroup\":\"China\",\"line\":{\"color\":\"#ab63fa\",\"dash\":\"solid\"},\"marker\":{\"symbol\":\"circle\"},\"mode\":\"lines\",\"name\":\"China\",\"orientation\":\"v\",\"showlegend\":true,\"x\":[1982,1983,1984,1985,1986,1987,1988,1990,1992,1993,1994,1996,1997,1999,2000,2002,2003,2004,2005,2006,2007,2008,2009,2010,2011,2012,2013,2014,2015,2016,2017,2018,2019,2020],\"xaxis\":\"x\",\"y\":[1,1,1,1,1,2,1,1,2,1,2,1,1,2,4,2,4,7,3,5,9,9,5,15,16,18,12,15,18,16,13,30,27,31],\"yaxis\":\"y\",\"type\":\"scatter\"},{\"hovertemplate\":\"Country=India<br>Year=%{x}<br>Launches=%{y}<extra></extra>\",\"legendgroup\":\"India\",\"line\":{\"color\":\"#FFA15A\",\"dash\":\"solid\"},\"marker\":{\"symbol\":\"circle\"},\"mode\":\"lines\",\"name\":\"India\",\"orientation\":\"v\",\"showlegend\":true,\"x\":[1994,1996,1999,2001,2002,2003,2004,2005,2007,2008,2009,2010,2011,2012,2013,2014,2015,2016,2017,2018,2019,2020],\"xaxis\":\"x\",\"y\":[1,1,1,1,1,2,1,1,2,3,2,1,3,2,3,5,5,7,4,7,5,1],\"yaxis\":\"y\",\"type\":\"scatter\"},{\"hovertemplate\":\"Country=Marshall Islands<br>Year=%{x}<br>Launches=%{y}<extra></extra>\",\"legendgroup\":\"Marshall Islands\",\"line\":{\"color\":\"#19d3f3\",\"dash\":\"solid\"},\"marker\":{\"symbol\":\"circle\"},\"mode\":\"lines\",\"name\":\"Marshall Islands\",\"orientation\":\"v\",\"showlegend\":true,\"x\":[2000,2008,2009,2012],\"xaxis\":\"x\",\"y\":[1,3,1,1],\"yaxis\":\"y\",\"type\":\"scatter\"},{\"hovertemplate\":\"Country=Japan<br>Year=%{x}<br>Launches=%{y}<extra></extra>\",\"legendgroup\":\"Japan\",\"line\":{\"color\":\"#FF6692\",\"dash\":\"solid\"},\"marker\":{\"symbol\":\"circle\"},\"mode\":\"lines\",\"name\":\"Japan\",\"orientation\":\"v\",\"showlegend\":true,\"x\":[2001,2002,2006,2009,2010,2011,2012,2013,2014,2015,2016,2017,2018,2019,2020],\"xaxis\":\"x\",\"y\":[1,1,1,3,2,3,2,2,4,3,3,4,5,2,4],\"yaxis\":\"y\",\"type\":\"scatter\"},{\"hovertemplate\":\"Country=France<br>Year=%{x}<br>Launches=%{y}<extra></extra>\",\"legendgroup\":\"France\",\"line\":{\"color\":\"#B6E880\",\"dash\":\"solid\"},\"marker\":{\"symbol\":\"circle\"},\"mode\":\"lines\",\"name\":\"France\",\"orientation\":\"v\",\"showlegend\":true,\"x\":[2004,2005,2006,2007,2008,2009,2010,2011,2012,2013,2014,2015,2016,2017,2018,2019,2020],\"xaxis\":\"x\",\"y\":[3,2,5,4,5,6,6,6,9,6,9,12,10,10,9,8,6],\"yaxis\":\"y\",\"type\":\"scatter\"},{\"hovertemplate\":\"Country=New Zealand<br>Year=%{x}<br>Launches=%{y}<extra></extra>\",\"legendgroup\":\"New Zealand\",\"line\":{\"color\":\"#FF97FF\",\"dash\":\"solid\"},\"marker\":{\"symbol\":\"circle\"},\"mode\":\"lines\",\"name\":\"New Zealand\",\"orientation\":\"v\",\"showlegend\":true,\"x\":[2018,2019,2020],\"xaxis\":\"x\",\"y\":[3,6,5],\"yaxis\":\"y\",\"type\":\"scatter\"}],                        {\"template\":{\"data\":{\"histogram2dcontour\":[{\"type\":\"histogram2dcontour\",\"colorbar\":{\"outlinewidth\":0,\"ticks\":\"\"},\"colorscale\":[[0.0,\"#0d0887\"],[0.1111111111111111,\"#46039f\"],[0.2222222222222222,\"#7201a8\"],[0.3333333333333333,\"#9c179e\"],[0.4444444444444444,\"#bd3786\"],[0.5555555555555556,\"#d8576b\"],[0.6666666666666666,\"#ed7953\"],[0.7777777777777778,\"#fb9f3a\"],[0.8888888888888888,\"#fdca26\"],[1.0,\"#f0f921\"]]}],\"choropleth\":[{\"type\":\"choropleth\",\"colorbar\":{\"outlinewidth\":0,\"ticks\":\"\"}}],\"histogram2d\":[{\"type\":\"histogram2d\",\"colorbar\":{\"outlinewidth\":0,\"ticks\":\"\"},\"colorscale\":[[0.0,\"#0d0887\"],[0.1111111111111111,\"#46039f\"],[0.2222222222222222,\"#7201a8\"],[0.3333333333333333,\"#9c179e\"],[0.4444444444444444,\"#bd3786\"],[0.5555555555555556,\"#d8576b\"],[0.6666666666666666,\"#ed7953\"],[0.7777777777777778,\"#fb9f3a\"],[0.8888888888888888,\"#fdca26\"],[1.0,\"#f0f921\"]]}],\"heatmap\":[{\"type\":\"heatmap\",\"colorbar\":{\"outlinewidth\":0,\"ticks\":\"\"},\"colorscale\":[[0.0,\"#0d0887\"],[0.1111111111111111,\"#46039f\"],[0.2222222222222222,\"#7201a8\"],[0.3333333333333333,\"#9c179e\"],[0.4444444444444444,\"#bd3786\"],[0.5555555555555556,\"#d8576b\"],[0.6666666666666666,\"#ed7953\"],[0.7777777777777778,\"#fb9f3a\"],[0.8888888888888888,\"#fdca26\"],[1.0,\"#f0f921\"]]}],\"heatmapgl\":[{\"type\":\"heatmapgl\",\"colorbar\":{\"outlinewidth\":0,\"ticks\":\"\"},\"colorscale\":[[0.0,\"#0d0887\"],[0.1111111111111111,\"#46039f\"],[0.2222222222222222,\"#7201a8\"],[0.3333333333333333,\"#9c179e\"],[0.4444444444444444,\"#bd3786\"],[0.5555555555555556,\"#d8576b\"],[0.6666666666666666,\"#ed7953\"],[0.7777777777777778,\"#fb9f3a\"],[0.8888888888888888,\"#fdca26\"],[1.0,\"#f0f921\"]]}],\"contourcarpet\":[{\"type\":\"contourcarpet\",\"colorbar\":{\"outlinewidth\":0,\"ticks\":\"\"}}],\"contour\":[{\"type\":\"contour\",\"colorbar\":{\"outlinewidth\":0,\"ticks\":\"\"},\"colorscale\":[[0.0,\"#0d0887\"],[0.1111111111111111,\"#46039f\"],[0.2222222222222222,\"#7201a8\"],[0.3333333333333333,\"#9c179e\"],[0.4444444444444444,\"#bd3786\"],[0.5555555555555556,\"#d8576b\"],[0.6666666666666666,\"#ed7953\"],[0.7777777777777778,\"#fb9f3a\"],[0.8888888888888888,\"#fdca26\"],[1.0,\"#f0f921\"]]}],\"surface\":[{\"type\":\"surface\",\"colorbar\":{\"outlinewidth\":0,\"ticks\":\"\"},\"colorscale\":[[0.0,\"#0d0887\"],[0.1111111111111111,\"#46039f\"],[0.2222222222222222,\"#7201a8\"],[0.3333333333333333,\"#9c179e\"],[0.4444444444444444,\"#bd3786\"],[0.5555555555555556,\"#d8576b\"],[0.6666666666666666,\"#ed7953\"],[0.7777777777777778,\"#fb9f3a\"],[0.8888888888888888,\"#fdca26\"],[1.0,\"#f0f921\"]]}],\"mesh3d\":[{\"type\":\"mesh3d\",\"colorbar\":{\"outlinewidth\":0,\"ticks\":\"\"}}],\"scatter\":[{\"fillpattern\":{\"fillmode\":\"overlay\",\"size\":10,\"solidity\":0.2},\"type\":\"scatter\"}],\"parcoords\":[{\"type\":\"parcoords\",\"line\":{\"colorbar\":{\"outlinewidth\":0,\"ticks\":\"\"}}}],\"scatterpolargl\":[{\"type\":\"scatterpolargl\",\"marker\":{\"colorbar\":{\"outlinewidth\":0,\"ticks\":\"\"}}}],\"bar\":[{\"error_x\":{\"color\":\"#2a3f5f\"},\"error_y\":{\"color\":\"#2a3f5f\"},\"marker\":{\"line\":{\"color\":\"#E5ECF6\",\"width\":0.5},\"pattern\":{\"fillmode\":\"overlay\",\"size\":10,\"solidity\":0.2}},\"type\":\"bar\"}],\"scattergeo\":[{\"type\":\"scattergeo\",\"marker\":{\"colorbar\":{\"outlinewidth\":0,\"ticks\":\"\"}}}],\"scatterpolar\":[{\"type\":\"scatterpolar\",\"marker\":{\"colorbar\":{\"outlinewidth\":0,\"ticks\":\"\"}}}],\"histogram\":[{\"marker\":{\"pattern\":{\"fillmode\":\"overlay\",\"size\":10,\"solidity\":0.2}},\"type\":\"histogram\"}],\"scattergl\":[{\"type\":\"scattergl\",\"marker\":{\"colorbar\":{\"outlinewidth\":0,\"ticks\":\"\"}}}],\"scatter3d\":[{\"type\":\"scatter3d\",\"line\":{\"colorbar\":{\"outlinewidth\":0,\"ticks\":\"\"}},\"marker\":{\"colorbar\":{\"outlinewidth\":0,\"ticks\":\"\"}}}],\"scattermapbox\":[{\"type\":\"scattermapbox\",\"marker\":{\"colorbar\":{\"outlinewidth\":0,\"ticks\":\"\"}}}],\"scatterternary\":[{\"type\":\"scatterternary\",\"marker\":{\"colorbar\":{\"outlinewidth\":0,\"ticks\":\"\"}}}],\"scattercarpet\":[{\"type\":\"scattercarpet\",\"marker\":{\"colorbar\":{\"outlinewidth\":0,\"ticks\":\"\"}}}],\"carpet\":[{\"aaxis\":{\"endlinecolor\":\"#2a3f5f\",\"gridcolor\":\"white\",\"linecolor\":\"white\",\"minorgridcolor\":\"white\",\"startlinecolor\":\"#2a3f5f\"},\"baxis\":{\"endlinecolor\":\"#2a3f5f\",\"gridcolor\":\"white\",\"linecolor\":\"white\",\"minorgridcolor\":\"white\",\"startlinecolor\":\"#2a3f5f\"},\"type\":\"carpet\"}],\"table\":[{\"cells\":{\"fill\":{\"color\":\"#EBF0F8\"},\"line\":{\"color\":\"white\"}},\"header\":{\"fill\":{\"color\":\"#C8D4E3\"},\"line\":{\"color\":\"white\"}},\"type\":\"table\"}],\"barpolar\":[{\"marker\":{\"line\":{\"color\":\"#E5ECF6\",\"width\":0.5},\"pattern\":{\"fillmode\":\"overlay\",\"size\":10,\"solidity\":0.2}},\"type\":\"barpolar\"}],\"pie\":[{\"automargin\":true,\"type\":\"pie\"}]},\"layout\":{\"autotypenumbers\":\"strict\",\"colorway\":[\"#636efa\",\"#EF553B\",\"#00cc96\",\"#ab63fa\",\"#FFA15A\",\"#19d3f3\",\"#FF6692\",\"#B6E880\",\"#FF97FF\",\"#FECB52\"],\"font\":{\"color\":\"#2a3f5f\"},\"hovermode\":\"closest\",\"hoverlabel\":{\"align\":\"left\"},\"paper_bgcolor\":\"white\",\"plot_bgcolor\":\"#E5ECF6\",\"polar\":{\"bgcolor\":\"#E5ECF6\",\"angularaxis\":{\"gridcolor\":\"white\",\"linecolor\":\"white\",\"ticks\":\"\"},\"radialaxis\":{\"gridcolor\":\"white\",\"linecolor\":\"white\",\"ticks\":\"\"}},\"ternary\":{\"bgcolor\":\"#E5ECF6\",\"aaxis\":{\"gridcolor\":\"white\",\"linecolor\":\"white\",\"ticks\":\"\"},\"baxis\":{\"gridcolor\":\"white\",\"linecolor\":\"white\",\"ticks\":\"\"},\"caxis\":{\"gridcolor\":\"white\",\"linecolor\":\"white\",\"ticks\":\"\"}},\"coloraxis\":{\"colorbar\":{\"outlinewidth\":0,\"ticks\":\"\"}},\"colorscale\":{\"sequential\":[[0.0,\"#0d0887\"],[0.1111111111111111,\"#46039f\"],[0.2222222222222222,\"#7201a8\"],[0.3333333333333333,\"#9c179e\"],[0.4444444444444444,\"#bd3786\"],[0.5555555555555556,\"#d8576b\"],[0.6666666666666666,\"#ed7953\"],[0.7777777777777778,\"#fb9f3a\"],[0.8888888888888888,\"#fdca26\"],[1.0,\"#f0f921\"]],\"sequentialminus\":[[0.0,\"#0d0887\"],[0.1111111111111111,\"#46039f\"],[0.2222222222222222,\"#7201a8\"],[0.3333333333333333,\"#9c179e\"],[0.4444444444444444,\"#bd3786\"],[0.5555555555555556,\"#d8576b\"],[0.6666666666666666,\"#ed7953\"],[0.7777777777777778,\"#fb9f3a\"],[0.8888888888888888,\"#fdca26\"],[1.0,\"#f0f921\"]],\"diverging\":[[0,\"#8e0152\"],[0.1,\"#c51b7d\"],[0.2,\"#de77ae\"],[0.3,\"#f1b6da\"],[0.4,\"#fde0ef\"],[0.5,\"#f7f7f7\"],[0.6,\"#e6f5d0\"],[0.7,\"#b8e186\"],[0.8,\"#7fbc41\"],[0.9,\"#4d9221\"],[1,\"#276419\"]]},\"xaxis\":{\"gridcolor\":\"white\",\"linecolor\":\"white\",\"ticks\":\"\",\"title\":{\"standoff\":15},\"zerolinecolor\":\"white\",\"automargin\":true,\"zerolinewidth\":2},\"yaxis\":{\"gridcolor\":\"white\",\"linecolor\":\"white\",\"ticks\":\"\",\"title\":{\"standoff\":15},\"zerolinecolor\":\"white\",\"automargin\":true,\"zerolinewidth\":2},\"scene\":{\"xaxis\":{\"backgroundcolor\":\"#E5ECF6\",\"gridcolor\":\"white\",\"linecolor\":\"white\",\"showbackground\":true,\"ticks\":\"\",\"zerolinecolor\":\"white\",\"gridwidth\":2},\"yaxis\":{\"backgroundcolor\":\"#E5ECF6\",\"gridcolor\":\"white\",\"linecolor\":\"white\",\"showbackground\":true,\"ticks\":\"\",\"zerolinecolor\":\"white\",\"gridwidth\":2},\"zaxis\":{\"backgroundcolor\":\"#E5ECF6\",\"gridcolor\":\"white\",\"linecolor\":\"white\",\"showbackground\":true,\"ticks\":\"\",\"zerolinecolor\":\"white\",\"gridwidth\":2}},\"shapedefaults\":{\"line\":{\"color\":\"#2a3f5f\"}},\"annotationdefaults\":{\"arrowcolor\":\"#2a3f5f\",\"arrowhead\":0,\"arrowwidth\":1},\"geo\":{\"bgcolor\":\"white\",\"landcolor\":\"#E5ECF6\",\"subunitcolor\":\"white\",\"showland\":true,\"showlakes\":true,\"lakecolor\":\"white\"},\"title\":{\"x\":0.05},\"mapbox\":{\"style\":\"light\"}}},\"xaxis\":{\"anchor\":\"y\",\"domain\":[0.0,1.0],\"title\":{\"text\":\"Year\"}},\"yaxis\":{\"anchor\":\"x\",\"domain\":[0.0,1.0],\"title\":{\"text\":\"Launches\"}},\"legend\":{\"title\":{\"text\":\"Country\"},\"tracegroupgap\":0},\"margin\":{\"t\":60}},                        {\"responsive\": true}                    ).then(function(){\n",
              "                            \n",
              "var gd = document.getElementById('f53beaf5-b2da-4c93-98bd-7f4c8d060389');\n",
              "var x = new MutationObserver(function (mutations, observer) {{\n",
              "        var display = window.getComputedStyle(gd).display;\n",
              "        if (!display || display === 'none') {{\n",
              "            console.log([gd, 'removed!']);\n",
              "            Plotly.purge(gd);\n",
              "            observer.disconnect();\n",
              "        }}\n",
              "}});\n",
              "\n",
              "// Listen for the removal of the full notebook cells\n",
              "var notebookContainer = gd.closest('#notebook-container');\n",
              "if (notebookContainer) {{\n",
              "    x.observe(notebookContainer, {childList: true});\n",
              "}}\n",
              "\n",
              "// Listen for the clearing of the current output cell\n",
              "var outputEl = gd.closest('.output');\n",
              "if (outputEl) {{\n",
              "    x.observe(outputEl, {childList: true});\n",
              "}}\n",
              "\n",
              "                        })                };                            </script>        </div>\n",
              "</body>\n",
              "</html>"
            ]
          },
          "metadata": {}
        }
      ]
    },
    {
      "cell_type": "markdown",
      "metadata": {
        "id": "jQcqBfJ8serG"
      },
      "source": [
        "# Create a Year-on-Year Chart Showing the Organisation Doing the Most Number of Launches\n",
        "\n",
        "Which organisation was dominant in the 1970s and 1980s? Which organisation was dominant in 2018, 2019 and 2020? "
      ]
    },
    {
      "cell_type": "code",
      "metadata": {
        "id": "jc9ImQEWsztG",
        "colab": {
          "base_uri": "https://localhost:8080/",
          "height": 206
        },
        "outputId": "fa0124e3-743b-44b9-8628-2cc896e9565e"
      },
      "source": [
        "yearly_org_launches = df_data.groupby(['Year', 'Organisation']).size().reset_index(name='Launches')\n",
        "yearly_org_launches.head()"
      ],
      "execution_count": 273,
      "outputs": [
        {
          "output_type": "execute_result",
          "data": {
            "text/plain": [
              "   Year  Organisation  Launches\n",
              "0  1964  US Air Force         2\n",
              "1  1965  US Air Force         2\n",
              "2  1966  US Air Force         3\n",
              "3  1967  US Air Force         7\n",
              "4  1968  US Air Force         8"
            ],
            "text/html": [
              "\n",
              "  <div id=\"df-1f4ee36b-3daa-4fd3-b88c-666a8c1e802d\">\n",
              "    <div class=\"colab-df-container\">\n",
              "      <div>\n",
              "<style scoped>\n",
              "    .dataframe tbody tr th:only-of-type {\n",
              "        vertical-align: middle;\n",
              "    }\n",
              "\n",
              "    .dataframe tbody tr th {\n",
              "        vertical-align: top;\n",
              "    }\n",
              "\n",
              "    .dataframe thead th {\n",
              "        text-align: right;\n",
              "    }\n",
              "</style>\n",
              "<table border=\"1\" class=\"dataframe\">\n",
              "  <thead>\n",
              "    <tr style=\"text-align: right;\">\n",
              "      <th></th>\n",
              "      <th>Year</th>\n",
              "      <th>Organisation</th>\n",
              "      <th>Launches</th>\n",
              "    </tr>\n",
              "  </thead>\n",
              "  <tbody>\n",
              "    <tr>\n",
              "      <th>0</th>\n",
              "      <td>1964</td>\n",
              "      <td>US Air Force</td>\n",
              "      <td>2</td>\n",
              "    </tr>\n",
              "    <tr>\n",
              "      <th>1</th>\n",
              "      <td>1965</td>\n",
              "      <td>US Air Force</td>\n",
              "      <td>2</td>\n",
              "    </tr>\n",
              "    <tr>\n",
              "      <th>2</th>\n",
              "      <td>1966</td>\n",
              "      <td>US Air Force</td>\n",
              "      <td>3</td>\n",
              "    </tr>\n",
              "    <tr>\n",
              "      <th>3</th>\n",
              "      <td>1967</td>\n",
              "      <td>US Air Force</td>\n",
              "      <td>7</td>\n",
              "    </tr>\n",
              "    <tr>\n",
              "      <th>4</th>\n",
              "      <td>1968</td>\n",
              "      <td>US Air Force</td>\n",
              "      <td>8</td>\n",
              "    </tr>\n",
              "  </tbody>\n",
              "</table>\n",
              "</div>\n",
              "      <button class=\"colab-df-convert\" onclick=\"convertToInteractive('df-1f4ee36b-3daa-4fd3-b88c-666a8c1e802d')\"\n",
              "              title=\"Convert this dataframe to an interactive table.\"\n",
              "              style=\"display:none;\">\n",
              "        \n",
              "  <svg xmlns=\"http://www.w3.org/2000/svg\" height=\"24px\"viewBox=\"0 0 24 24\"\n",
              "       width=\"24px\">\n",
              "    <path d=\"M0 0h24v24H0V0z\" fill=\"none\"/>\n",
              "    <path d=\"M18.56 5.44l.94 2.06.94-2.06 2.06-.94-2.06-.94-.94-2.06-.94 2.06-2.06.94zm-11 1L8.5 8.5l.94-2.06 2.06-.94-2.06-.94L8.5 2.5l-.94 2.06-2.06.94zm10 10l.94 2.06.94-2.06 2.06-.94-2.06-.94-.94-2.06-.94 2.06-2.06.94z\"/><path d=\"M17.41 7.96l-1.37-1.37c-.4-.4-.92-.59-1.43-.59-.52 0-1.04.2-1.43.59L10.3 9.45l-7.72 7.72c-.78.78-.78 2.05 0 2.83L4 21.41c.39.39.9.59 1.41.59.51 0 1.02-.2 1.41-.59l7.78-7.78 2.81-2.81c.8-.78.8-2.07 0-2.86zM5.41 20L4 18.59l7.72-7.72 1.47 1.35L5.41 20z\"/>\n",
              "  </svg>\n",
              "      </button>\n",
              "      \n",
              "  <style>\n",
              "    .colab-df-container {\n",
              "      display:flex;\n",
              "      flex-wrap:wrap;\n",
              "      gap: 12px;\n",
              "    }\n",
              "\n",
              "    .colab-df-convert {\n",
              "      background-color: #E8F0FE;\n",
              "      border: none;\n",
              "      border-radius: 50%;\n",
              "      cursor: pointer;\n",
              "      display: none;\n",
              "      fill: #1967D2;\n",
              "      height: 32px;\n",
              "      padding: 0 0 0 0;\n",
              "      width: 32px;\n",
              "    }\n",
              "\n",
              "    .colab-df-convert:hover {\n",
              "      background-color: #E2EBFA;\n",
              "      box-shadow: 0px 1px 2px rgba(60, 64, 67, 0.3), 0px 1px 3px 1px rgba(60, 64, 67, 0.15);\n",
              "      fill: #174EA6;\n",
              "    }\n",
              "\n",
              "    [theme=dark] .colab-df-convert {\n",
              "      background-color: #3B4455;\n",
              "      fill: #D2E3FC;\n",
              "    }\n",
              "\n",
              "    [theme=dark] .colab-df-convert:hover {\n",
              "      background-color: #434B5C;\n",
              "      box-shadow: 0px 1px 3px 1px rgba(0, 0, 0, 0.15);\n",
              "      filter: drop-shadow(0px 1px 2px rgba(0, 0, 0, 0.3));\n",
              "      fill: #FFFFFF;\n",
              "    }\n",
              "  </style>\n",
              "\n",
              "      <script>\n",
              "        const buttonEl =\n",
              "          document.querySelector('#df-1f4ee36b-3daa-4fd3-b88c-666a8c1e802d button.colab-df-convert');\n",
              "        buttonEl.style.display =\n",
              "          google.colab.kernel.accessAllowed ? 'block' : 'none';\n",
              "\n",
              "        async function convertToInteractive(key) {\n",
              "          const element = document.querySelector('#df-1f4ee36b-3daa-4fd3-b88c-666a8c1e802d');\n",
              "          const dataTable =\n",
              "            await google.colab.kernel.invokeFunction('convertToInteractive',\n",
              "                                                     [key], {});\n",
              "          if (!dataTable) return;\n",
              "\n",
              "          const docLinkHtml = 'Like what you see? Visit the ' +\n",
              "            '<a target=\"_blank\" href=https://colab.research.google.com/notebooks/data_table.ipynb>data table notebook</a>'\n",
              "            + ' to learn more about interactive tables.';\n",
              "          element.innerHTML = '';\n",
              "          dataTable['output_type'] = 'display_data';\n",
              "          await google.colab.output.renderOutput(dataTable, element);\n",
              "          const docLink = document.createElement('div');\n",
              "          docLink.innerHTML = docLinkHtml;\n",
              "          element.appendChild(docLink);\n",
              "        }\n",
              "      </script>\n",
              "    </div>\n",
              "  </div>\n",
              "  "
            ]
          },
          "metadata": {},
          "execution_count": 273
        }
      ]
    },
    {
      "cell_type": "code",
      "metadata": {
        "id": "r5frxzwlsz5W",
        "colab": {
          "base_uri": "https://localhost:8080/",
          "height": 542
        },
        "outputId": "4ddc73f6-686f-4c3c-cfa7-e2c37588fec8"
      },
      "source": [
        "fig10 = px.line(\n",
        "    yearly_org_launches,\n",
        "    x='Year',\n",
        "    y='Launches',\n",
        "    color='Organisation',\n",
        ")\n",
        "\n",
        "fig10.show()"
      ],
      "execution_count": 274,
      "outputs": [
        {
          "output_type": "display_data",
          "data": {
            "text/html": [
              "<html>\n",
              "<head><meta charset=\"utf-8\" /></head>\n",
              "<body>\n",
              "    <div>            <script src=\"https://cdnjs.cloudflare.com/ajax/libs/mathjax/2.7.5/MathJax.js?config=TeX-AMS-MML_SVG\"></script><script type=\"text/javascript\">if (window.MathJax && window.MathJax.Hub && window.MathJax.Hub.Config) {window.MathJax.Hub.Config({SVG: {font: \"STIX-Web\"}});}</script>                <script type=\"text/javascript\">window.PlotlyConfig = {MathJaxConfig: 'local'};</script>\n",
              "        <script src=\"https://cdn.plot.ly/plotly-2.12.1.min.js\"></script>                <div id=\"4ac9a40a-410e-4f0e-8f84-ae413c13370a\" class=\"plotly-graph-div\" style=\"height:525px; width:100%;\"></div>            <script type=\"text/javascript\">                                    window.PLOTLYENV=window.PLOTLYENV || {};                                    if (document.getElementById(\"4ac9a40a-410e-4f0e-8f84-ae413c13370a\")) {                    Plotly.newPlot(                        \"4ac9a40a-410e-4f0e-8f84-ae413c13370a\",                        [{\"hovertemplate\":\"Organisation=US Air Force<br>Year=%{x}<br>Launches=%{y}<extra></extra>\",\"legendgroup\":\"US Air Force\",\"line\":{\"color\":\"#636efa\",\"dash\":\"solid\"},\"marker\":{\"symbol\":\"circle\"},\"mode\":\"lines\",\"name\":\"US Air Force\",\"orientation\":\"v\",\"showlegend\":true,\"x\":[1964,1965,1966,1967,1968,1969],\"xaxis\":\"x\",\"y\":[2,2,3,7,8,4],\"yaxis\":\"y\",\"type\":\"scatter\"},{\"hovertemplate\":\"Organisation=RVSN USSR<br>Year=%{x}<br>Launches=%{y}<extra></extra>\",\"legendgroup\":\"RVSN USSR\",\"line\":{\"color\":\"#EF553B\",\"dash\":\"solid\"},\"marker\":{\"symbol\":\"circle\"},\"mode\":\"lines\",\"name\":\"RVSN USSR\",\"orientation\":\"v\",\"showlegend\":true,\"x\":[1973,1974,1975,1976,1977,1978,1979,1980,1981,1982,1983,1984,1985,1986,1987,1988,1989,1990,1991],\"xaxis\":\"x\",\"y\":[3,10,10,24,39,45,47,45,42,45,43,44,40,37,44,45,38,32,24],\"yaxis\":\"y\",\"type\":\"scatter\"},{\"hovertemplate\":\"Organisation=NASA<br>Year=%{x}<br>Launches=%{y}<extra></extra>\",\"legendgroup\":\"NASA\",\"line\":{\"color\":\"#00cc96\",\"dash\":\"solid\"},\"marker\":{\"symbol\":\"circle\"},\"mode\":\"lines\",\"name\":\"NASA\",\"orientation\":\"v\",\"showlegend\":true,\"x\":[1981,1982,1983,1984,1985,1986,1988,1989,1990,1991,1992,1993,1994,1995,1996,1997,1998,1999,2000,2001,2002,2003,2005,2006,2007,2008,2009,2010,2011],\"xaxis\":\"x\",\"y\":[2,3,4,5,9,2,2,5,6,6,8,7,7,7,7,8,5,3,5,6,5,1,1,3,3,4,6,3,3],\"yaxis\":\"y\",\"type\":\"scatter\"},{\"hovertemplate\":\"Organisation=CASC<br>Year=%{x}<br>Launches=%{y}<extra></extra>\",\"legendgroup\":\"CASC\",\"line\":{\"color\":\"#ab63fa\",\"dash\":\"solid\"},\"marker\":{\"symbol\":\"circle\"},\"mode\":\"lines\",\"name\":\"CASC\",\"orientation\":\"v\",\"showlegend\":true,\"x\":[1982,1983,1984,1985,1986,1987,1988,1990,1992,1993,1994,1996,1997,1999,2000,2002,2003,2004,2005,2006,2007,2008,2009,2010,2011,2012,2013,2014,2015,2016,2017,2018,2019,2020,2021],\"xaxis\":\"x\",\"y\":[1,1,1,1,1,2,1,1,2,1,3,1,1,2,4,2,4,7,3,5,9,9,5,15,17,18,13,15,18,18,13,29,23,29,22],\"yaxis\":\"y\",\"type\":\"scatter\"},{\"hovertemplate\":\"Organisation=Martin Marietta<br>Year=%{x}<br>Launches=%{y}<extra></extra>\",\"legendgroup\":\"Martin Marietta\",\"line\":{\"color\":\"#FFA15A\",\"dash\":\"solid\"},\"marker\":{\"symbol\":\"circle\"},\"mode\":\"lines\",\"name\":\"Martin Marietta\",\"orientation\":\"v\",\"showlegend\":true,\"x\":[1988,1989,1990,1992,1993,1994],\"xaxis\":\"x\",\"y\":[1,1,3,2,1,1],\"yaxis\":\"y\",\"type\":\"scatter\"},{\"hovertemplate\":\"Organisation=Northrop<br>Year=%{x}<br>Launches=%{y}<extra></extra>\",\"legendgroup\":\"Northrop\",\"line\":{\"color\":\"#19d3f3\",\"dash\":\"solid\"},\"marker\":{\"symbol\":\"circle\"},\"mode\":\"lines\",\"name\":\"Northrop\",\"orientation\":\"v\",\"showlegend\":true,\"x\":[1990,1991,1993,1994,1995,1996,1997,1998,1999,2000,2001,2002,2003,2004,2005,2006,2007,2008,2009,2010,2011,2012,2013,2014,2016,2017,2018,2019,2020,2021],\"xaxis\":\"x\",\"y\":[1,1,2,4,2,5,5,8,4,5,1,1,4,1,3,3,2,2,2,2,4,1,5,3,2,3,2,3,3,4],\"yaxis\":\"y\",\"type\":\"scatter\"},{\"hovertemplate\":\"Organisation=Roscosmos<br>Year=%{x}<br>Launches=%{y}<extra></extra>\",\"legendgroup\":\"Roscosmos\",\"line\":{\"color\":\"#FF6692\",\"dash\":\"solid\"},\"marker\":{\"symbol\":\"circle\"},\"mode\":\"lines\",\"name\":\"Roscosmos\",\"orientation\":\"v\",\"showlegend\":true,\"x\":[1992,1993,1994,1995,1996,1997,1998,1999,2000,2001,2002,2003,2004,2005,2006,2007,2008,2009,2010,2011,2012,2013,2014,2015,2016,2017,2018,2019,2020,2021],\"xaxis\":\"x\",\"y\":[7,7,8,7,5,6,5,3,7,7,3,3,4,5,3,7,7,8,9,9,6,8,12,9,6,6,7,10,5,5],\"yaxis\":\"y\",\"type\":\"scatter\"},{\"hovertemplate\":\"Organisation=VKS RF<br>Year=%{x}<br>Launches=%{y}<extra></extra>\",\"legendgroup\":\"VKS RF\",\"line\":{\"color\":\"#B6E880\",\"dash\":\"solid\"},\"marker\":{\"symbol\":\"circle\"},\"mode\":\"lines\",\"name\":\"VKS RF\",\"orientation\":\"v\",\"showlegend\":true,\"x\":[1992,1993,1994,1995,1996,1997,1998,1999,2000,2001,2002,2003,2004,2005,2006,2007,2008,2009,2010,2011,2012,2013,2014,2015,2016,2017,2018,2019,2020,2021],\"xaxis\":\"x\",\"y\":[17,10,7,5,4,4,3,3,2,1,2,1,2,2,4,1,3,4,3,7,3,7,10,6,4,3,3,6,7,2],\"yaxis\":\"y\",\"type\":\"scatter\"},{\"hovertemplate\":\"Organisation=ISRO<br>Year=%{x}<br>Launches=%{y}<extra></extra>\",\"legendgroup\":\"ISRO\",\"line\":{\"color\":\"#FF97FF\",\"dash\":\"solid\"},\"marker\":{\"symbol\":\"circle\"},\"mode\":\"lines\",\"name\":\"ISRO\",\"orientation\":\"v\",\"showlegend\":true,\"x\":[1993,1994,1996,1997,1999,2001,2002,2003,2004,2005,2006,2007,2008,2009,2010,2011,2012,2013,2014,2015,2016,2017,2018,2019,2020,2021],\"xaxis\":\"x\",\"y\":[1,1,1,1,1,2,1,2,1,1,1,3,3,2,3,3,2,3,5,5,7,5,7,5,1,1],\"yaxis\":\"y\",\"type\":\"scatter\"},{\"hovertemplate\":\"Organisation=EER<br>Year=%{x}<br>Launches=%{y}<extra></extra>\",\"legendgroup\":\"EER\",\"line\":{\"color\":\"#FECB52\",\"dash\":\"solid\"},\"marker\":{\"symbol\":\"circle\"},\"mode\":\"lines\",\"name\":\"EER\",\"orientation\":\"v\",\"showlegend\":true,\"x\":[1995],\"xaxis\":\"x\",\"y\":[1],\"yaxis\":\"y\",\"type\":\"scatter\"},{\"hovertemplate\":\"Organisation=Lockheed<br>Year=%{x}<br>Launches=%{y}<extra></extra>\",\"legendgroup\":\"Lockheed\",\"line\":{\"color\":\"#636efa\",\"dash\":\"solid\"},\"marker\":{\"symbol\":\"circle\"},\"mode\":\"lines\",\"name\":\"Lockheed\",\"orientation\":\"v\",\"showlegend\":true,\"x\":[1997,1998,1999,2000,2002,2003],\"xaxis\":\"x\",\"y\":[1,1,2,1,1,2],\"yaxis\":\"y\",\"type\":\"scatter\"},{\"hovertemplate\":\"Organisation=Kosmotras<br>Year=%{x}<br>Launches=%{y}<extra></extra>\",\"legendgroup\":\"Kosmotras\",\"line\":{\"color\":\"#EF553B\",\"dash\":\"solid\"},\"marker\":{\"symbol\":\"circle\"},\"mode\":\"lines\",\"name\":\"Kosmotras\",\"orientation\":\"v\",\"showlegend\":true,\"x\":[1999,2000,2002,2004,2005,2006,2007,2008,2009,2010,2011,2013,2014,2015],\"xaxis\":\"x\",\"y\":[1,1,1,1,1,2,3,2,1,3,1,2,2,1],\"yaxis\":\"y\",\"type\":\"scatter\"},{\"hovertemplate\":\"Organisation=Starsem<br>Year=%{x}<br>Launches=%{y}<extra></extra>\",\"legendgroup\":\"Starsem\",\"line\":{\"color\":\"#00cc96\",\"dash\":\"solid\"},\"marker\":{\"symbol\":\"circle\"},\"mode\":\"lines\",\"name\":\"Starsem\",\"orientation\":\"v\",\"showlegend\":true,\"x\":[1999,2000,2006,2010,2011,2012,2013,2020,2021],\"xaxis\":\"x\",\"y\":[6,4,2,1,2,1,1,3,4],\"yaxis\":\"y\",\"type\":\"scatter\"},{\"hovertemplate\":\"Organisation=Eurockot<br>Year=%{x}<br>Launches=%{y}<extra></extra>\",\"legendgroup\":\"Eurockot\",\"line\":{\"color\":\"#ab63fa\",\"dash\":\"solid\"},\"marker\":{\"symbol\":\"circle\"},\"mode\":\"lines\",\"name\":\"Eurockot\",\"orientation\":\"v\",\"showlegend\":true,\"x\":[2000,2002,2003,2005,2006,2009,2010,2016,2017,2018],\"xaxis\":\"x\",\"y\":[1,2,2,1,1,2,1,1,1,1],\"yaxis\":\"y\",\"type\":\"scatter\"},{\"hovertemplate\":\"Organisation=MHI<br>Year=%{x}<br>Launches=%{y}<extra></extra>\",\"legendgroup\":\"MHI\",\"line\":{\"color\":\"#FFA15A\",\"dash\":\"solid\"},\"marker\":{\"symbol\":\"circle\"},\"mode\":\"lines\",\"name\":\"MHI\",\"orientation\":\"v\",\"showlegend\":true,\"x\":[2001,2002,2006,2009,2010,2011,2012,2013,2014,2015,2016,2017,2018,2019,2020],\"xaxis\":\"x\",\"y\":[1,1,1,3,2,3,2,2,4,3,3,4,4,1,3],\"yaxis\":\"y\",\"type\":\"scatter\"},{\"hovertemplate\":\"Organisation=Arianespace<br>Year=%{x}<br>Launches=%{y}<extra></extra>\",\"legendgroup\":\"Arianespace\",\"line\":{\"color\":\"#19d3f3\",\"dash\":\"solid\"},\"marker\":{\"symbol\":\"circle\"},\"mode\":\"lines\",\"name\":\"Arianespace\",\"orientation\":\"v\",\"showlegend\":true,\"x\":[2002,2004,2005,2006,2007,2008,2009,2010,2011,2012,2013,2014,2015,2016,2017,2018,2019,2020,2021],\"xaxis\":\"x\",\"y\":[1,3,2,5,4,5,6,6,6,8,6,10,12,10,10,10,9,7,3],\"yaxis\":\"y\",\"type\":\"scatter\"},{\"hovertemplate\":\"Organisation=Boeing<br>Year=%{x}<br>Launches=%{y}<extra></extra>\",\"legendgroup\":\"Boeing\",\"line\":{\"color\":\"#FF6692\",\"dash\":\"solid\"},\"marker\":{\"symbol\":\"circle\"},\"mode\":\"lines\",\"name\":\"Boeing\",\"orientation\":\"v\",\"showlegend\":true,\"x\":[2002,2003,2004,2006],\"xaxis\":\"x\",\"y\":[1,2,1,3],\"yaxis\":\"y\",\"type\":\"scatter\"},{\"hovertemplate\":\"Organisation=ILS<br>Year=%{x}<br>Launches=%{y}<extra></extra>\",\"legendgroup\":\"ILS\",\"line\":{\"color\":\"#B6E880\",\"dash\":\"solid\"},\"marker\":{\"symbol\":\"circle\"},\"mode\":\"lines\",\"name\":\"ILS\",\"orientation\":\"v\",\"showlegend\":true,\"x\":[2002,2003,2004,2005,2006,2007,2008,2009,2010,2011,2012,2013,2014,2015,2016,2017,2019],\"xaxis\":\"x\",\"y\":[2,2,5,6,6,4,6,7,8,5,8,7,3,4,2,3,1],\"yaxis\":\"y\",\"type\":\"scatter\"},{\"hovertemplate\":\"Organisation=SpaceX<br>Year=%{x}<br>Launches=%{y}<extra></extra>\",\"legendgroup\":\"SpaceX\",\"line\":{\"color\":\"#FF97FF\",\"dash\":\"solid\"},\"marker\":{\"symbol\":\"circle\"},\"mode\":\"lines\",\"name\":\"SpaceX\",\"orientation\":\"v\",\"showlegend\":true,\"x\":[2006,2007,2008,2009,2010,2012,2013,2014,2015,2016,2017,2018,2019,2020,2021],\"xaxis\":\"x\",\"y\":[1,1,2,1,2,2,3,6,7,9,18,21,13,26,20],\"yaxis\":\"y\",\"type\":\"scatter\"},{\"hovertemplate\":\"Organisation=ULA<br>Year=%{x}<br>Launches=%{y}<extra></extra>\",\"legendgroup\":\"ULA\",\"line\":{\"color\":\"#FECB52\",\"dash\":\"solid\"},\"marker\":{\"symbol\":\"circle\"},\"mode\":\"lines\",\"name\":\"ULA\",\"orientation\":\"v\",\"showlegend\":true,\"x\":[2007,2008,2009,2010,2011,2012,2013,2014,2015,2016,2017,2018,2019,2020,2021],\"xaxis\":\"x\",\"y\":[5,2,7,7,8,8,9,13,10,10,6,6,3,6,2],\"yaxis\":\"y\",\"type\":\"scatter\"},{\"hovertemplate\":\"Organisation=ESA<br>Year=%{x}<br>Launches=%{y}<extra></extra>\",\"legendgroup\":\"ESA\",\"line\":{\"color\":\"#636efa\",\"dash\":\"solid\"},\"marker\":{\"symbol\":\"circle\"},\"mode\":\"lines\",\"name\":\"ESA\",\"orientation\":\"v\",\"showlegend\":true,\"x\":[2012],\"xaxis\":\"x\",\"y\":[1],\"yaxis\":\"y\",\"type\":\"scatter\"},{\"hovertemplate\":\"Organisation=Sandia<br>Year=%{x}<br>Launches=%{y}<extra></extra>\",\"legendgroup\":\"Sandia\",\"line\":{\"color\":\"#EF553B\",\"dash\":\"solid\"},\"marker\":{\"symbol\":\"circle\"},\"mode\":\"lines\",\"name\":\"Sandia\",\"orientation\":\"v\",\"showlegend\":true,\"x\":[2015],\"xaxis\":\"x\",\"y\":[1],\"yaxis\":\"y\",\"type\":\"scatter\"},{\"hovertemplate\":\"Organisation=ExPace<br>Year=%{x}<br>Launches=%{y}<extra></extra>\",\"legendgroup\":\"ExPace\",\"line\":{\"color\":\"#00cc96\",\"dash\":\"solid\"},\"marker\":{\"symbol\":\"circle\"},\"mode\":\"lines\",\"name\":\"ExPace\",\"orientation\":\"v\",\"showlegend\":true,\"x\":[2017,2018,2019,2020],\"xaxis\":\"x\",\"y\":[1,1,5,4],\"yaxis\":\"y\",\"type\":\"scatter\"},{\"hovertemplate\":\"Organisation=Rocket Lab<br>Year=%{x}<br>Launches=%{y}<extra></extra>\",\"legendgroup\":\"Rocket Lab\",\"line\":{\"color\":\"#ab63fa\",\"dash\":\"solid\"},\"marker\":{\"symbol\":\"circle\"},\"mode\":\"lines\",\"name\":\"Rocket Lab\",\"orientation\":\"v\",\"showlegend\":true,\"x\":[2017,2018,2019,2020,2021],\"xaxis\":\"x\",\"y\":[1,3,6,6,3],\"yaxis\":\"y\",\"type\":\"scatter\"},{\"hovertemplate\":\"Organisation=JAXA<br>Year=%{x}<br>Launches=%{y}<extra></extra>\",\"legendgroup\":\"JAXA\",\"line\":{\"color\":\"#FFA15A\",\"dash\":\"solid\"},\"marker\":{\"symbol\":\"circle\"},\"mode\":\"lines\",\"name\":\"JAXA\",\"orientation\":\"v\",\"showlegend\":true,\"x\":[2018,2019,2020],\"xaxis\":\"x\",\"y\":[1,1,1],\"yaxis\":\"y\",\"type\":\"scatter\"},{\"hovertemplate\":\"Organisation=Astra<br>Year=%{x}<br>Launches=%{y}<extra></extra>\",\"legendgroup\":\"Astra\",\"line\":{\"color\":\"#19d3f3\",\"dash\":\"solid\"},\"marker\":{\"symbol\":\"circle\"},\"mode\":\"lines\",\"name\":\"Astra\",\"orientation\":\"v\",\"showlegend\":true,\"x\":[2020],\"xaxis\":\"x\",\"y\":[2],\"yaxis\":\"y\",\"type\":\"scatter\"},{\"hovertemplate\":\"Organisation=Galactic Energy<br>Year=%{x}<br>Launches=%{y}<extra></extra>\",\"legendgroup\":\"Galactic Energy\",\"line\":{\"color\":\"#FF6692\",\"dash\":\"solid\"},\"marker\":{\"symbol\":\"circle\"},\"mode\":\"lines\",\"name\":\"Galactic Energy\",\"orientation\":\"v\",\"showlegend\":true,\"x\":[2020],\"xaxis\":\"x\",\"y\":[1],\"yaxis\":\"y\",\"type\":\"scatter\"},{\"hovertemplate\":\"Organisation=Virgin Orbit<br>Year=%{x}<br>Launches=%{y}<extra></extra>\",\"legendgroup\":\"Virgin Orbit\",\"line\":{\"color\":\"#B6E880\",\"dash\":\"solid\"},\"marker\":{\"symbol\":\"circle\"},\"mode\":\"lines\",\"name\":\"Virgin Orbit\",\"orientation\":\"v\",\"showlegend\":true,\"x\":[2020,2021],\"xaxis\":\"x\",\"y\":[1,2],\"yaxis\":\"y\",\"type\":\"scatter\"},{\"hovertemplate\":\"Organisation=GK LS<br>Year=%{x}<br>Launches=%{y}<extra></extra>\",\"legendgroup\":\"GK LS\",\"line\":{\"color\":\"#FF97FF\",\"dash\":\"solid\"},\"marker\":{\"symbol\":\"circle\"},\"mode\":\"lines\",\"name\":\"GK LS\",\"orientation\":\"v\",\"showlegend\":true,\"x\":[2021],\"xaxis\":\"x\",\"y\":[1],\"yaxis\":\"y\",\"type\":\"scatter\"}],                        {\"template\":{\"data\":{\"histogram2dcontour\":[{\"type\":\"histogram2dcontour\",\"colorbar\":{\"outlinewidth\":0,\"ticks\":\"\"},\"colorscale\":[[0.0,\"#0d0887\"],[0.1111111111111111,\"#46039f\"],[0.2222222222222222,\"#7201a8\"],[0.3333333333333333,\"#9c179e\"],[0.4444444444444444,\"#bd3786\"],[0.5555555555555556,\"#d8576b\"],[0.6666666666666666,\"#ed7953\"],[0.7777777777777778,\"#fb9f3a\"],[0.8888888888888888,\"#fdca26\"],[1.0,\"#f0f921\"]]}],\"choropleth\":[{\"type\":\"choropleth\",\"colorbar\":{\"outlinewidth\":0,\"ticks\":\"\"}}],\"histogram2d\":[{\"type\":\"histogram2d\",\"colorbar\":{\"outlinewidth\":0,\"ticks\":\"\"},\"colorscale\":[[0.0,\"#0d0887\"],[0.1111111111111111,\"#46039f\"],[0.2222222222222222,\"#7201a8\"],[0.3333333333333333,\"#9c179e\"],[0.4444444444444444,\"#bd3786\"],[0.5555555555555556,\"#d8576b\"],[0.6666666666666666,\"#ed7953\"],[0.7777777777777778,\"#fb9f3a\"],[0.8888888888888888,\"#fdca26\"],[1.0,\"#f0f921\"]]}],\"heatmap\":[{\"type\":\"heatmap\",\"colorbar\":{\"outlinewidth\":0,\"ticks\":\"\"},\"colorscale\":[[0.0,\"#0d0887\"],[0.1111111111111111,\"#46039f\"],[0.2222222222222222,\"#7201a8\"],[0.3333333333333333,\"#9c179e\"],[0.4444444444444444,\"#bd3786\"],[0.5555555555555556,\"#d8576b\"],[0.6666666666666666,\"#ed7953\"],[0.7777777777777778,\"#fb9f3a\"],[0.8888888888888888,\"#fdca26\"],[1.0,\"#f0f921\"]]}],\"heatmapgl\":[{\"type\":\"heatmapgl\",\"colorbar\":{\"outlinewidth\":0,\"ticks\":\"\"},\"colorscale\":[[0.0,\"#0d0887\"],[0.1111111111111111,\"#46039f\"],[0.2222222222222222,\"#7201a8\"],[0.3333333333333333,\"#9c179e\"],[0.4444444444444444,\"#bd3786\"],[0.5555555555555556,\"#d8576b\"],[0.6666666666666666,\"#ed7953\"],[0.7777777777777778,\"#fb9f3a\"],[0.8888888888888888,\"#fdca26\"],[1.0,\"#f0f921\"]]}],\"contourcarpet\":[{\"type\":\"contourcarpet\",\"colorbar\":{\"outlinewidth\":0,\"ticks\":\"\"}}],\"contour\":[{\"type\":\"contour\",\"colorbar\":{\"outlinewidth\":0,\"ticks\":\"\"},\"colorscale\":[[0.0,\"#0d0887\"],[0.1111111111111111,\"#46039f\"],[0.2222222222222222,\"#7201a8\"],[0.3333333333333333,\"#9c179e\"],[0.4444444444444444,\"#bd3786\"],[0.5555555555555556,\"#d8576b\"],[0.6666666666666666,\"#ed7953\"],[0.7777777777777778,\"#fb9f3a\"],[0.8888888888888888,\"#fdca26\"],[1.0,\"#f0f921\"]]}],\"surface\":[{\"type\":\"surface\",\"colorbar\":{\"outlinewidth\":0,\"ticks\":\"\"},\"colorscale\":[[0.0,\"#0d0887\"],[0.1111111111111111,\"#46039f\"],[0.2222222222222222,\"#7201a8\"],[0.3333333333333333,\"#9c179e\"],[0.4444444444444444,\"#bd3786\"],[0.5555555555555556,\"#d8576b\"],[0.6666666666666666,\"#ed7953\"],[0.7777777777777778,\"#fb9f3a\"],[0.8888888888888888,\"#fdca26\"],[1.0,\"#f0f921\"]]}],\"mesh3d\":[{\"type\":\"mesh3d\",\"colorbar\":{\"outlinewidth\":0,\"ticks\":\"\"}}],\"scatter\":[{\"fillpattern\":{\"fillmode\":\"overlay\",\"size\":10,\"solidity\":0.2},\"type\":\"scatter\"}],\"parcoords\":[{\"type\":\"parcoords\",\"line\":{\"colorbar\":{\"outlinewidth\":0,\"ticks\":\"\"}}}],\"scatterpolargl\":[{\"type\":\"scatterpolargl\",\"marker\":{\"colorbar\":{\"outlinewidth\":0,\"ticks\":\"\"}}}],\"bar\":[{\"error_x\":{\"color\":\"#2a3f5f\"},\"error_y\":{\"color\":\"#2a3f5f\"},\"marker\":{\"line\":{\"color\":\"#E5ECF6\",\"width\":0.5},\"pattern\":{\"fillmode\":\"overlay\",\"size\":10,\"solidity\":0.2}},\"type\":\"bar\"}],\"scattergeo\":[{\"type\":\"scattergeo\",\"marker\":{\"colorbar\":{\"outlinewidth\":0,\"ticks\":\"\"}}}],\"scatterpolar\":[{\"type\":\"scatterpolar\",\"marker\":{\"colorbar\":{\"outlinewidth\":0,\"ticks\":\"\"}}}],\"histogram\":[{\"marker\":{\"pattern\":{\"fillmode\":\"overlay\",\"size\":10,\"solidity\":0.2}},\"type\":\"histogram\"}],\"scattergl\":[{\"type\":\"scattergl\",\"marker\":{\"colorbar\":{\"outlinewidth\":0,\"ticks\":\"\"}}}],\"scatter3d\":[{\"type\":\"scatter3d\",\"line\":{\"colorbar\":{\"outlinewidth\":0,\"ticks\":\"\"}},\"marker\":{\"colorbar\":{\"outlinewidth\":0,\"ticks\":\"\"}}}],\"scattermapbox\":[{\"type\":\"scattermapbox\",\"marker\":{\"colorbar\":{\"outlinewidth\":0,\"ticks\":\"\"}}}],\"scatterternary\":[{\"type\":\"scatterternary\",\"marker\":{\"colorbar\":{\"outlinewidth\":0,\"ticks\":\"\"}}}],\"scattercarpet\":[{\"type\":\"scattercarpet\",\"marker\":{\"colorbar\":{\"outlinewidth\":0,\"ticks\":\"\"}}}],\"carpet\":[{\"aaxis\":{\"endlinecolor\":\"#2a3f5f\",\"gridcolor\":\"white\",\"linecolor\":\"white\",\"minorgridcolor\":\"white\",\"startlinecolor\":\"#2a3f5f\"},\"baxis\":{\"endlinecolor\":\"#2a3f5f\",\"gridcolor\":\"white\",\"linecolor\":\"white\",\"minorgridcolor\":\"white\",\"startlinecolor\":\"#2a3f5f\"},\"type\":\"carpet\"}],\"table\":[{\"cells\":{\"fill\":{\"color\":\"#EBF0F8\"},\"line\":{\"color\":\"white\"}},\"header\":{\"fill\":{\"color\":\"#C8D4E3\"},\"line\":{\"color\":\"white\"}},\"type\":\"table\"}],\"barpolar\":[{\"marker\":{\"line\":{\"color\":\"#E5ECF6\",\"width\":0.5},\"pattern\":{\"fillmode\":\"overlay\",\"size\":10,\"solidity\":0.2}},\"type\":\"barpolar\"}],\"pie\":[{\"automargin\":true,\"type\":\"pie\"}]},\"layout\":{\"autotypenumbers\":\"strict\",\"colorway\":[\"#636efa\",\"#EF553B\",\"#00cc96\",\"#ab63fa\",\"#FFA15A\",\"#19d3f3\",\"#FF6692\",\"#B6E880\",\"#FF97FF\",\"#FECB52\"],\"font\":{\"color\":\"#2a3f5f\"},\"hovermode\":\"closest\",\"hoverlabel\":{\"align\":\"left\"},\"paper_bgcolor\":\"white\",\"plot_bgcolor\":\"#E5ECF6\",\"polar\":{\"bgcolor\":\"#E5ECF6\",\"angularaxis\":{\"gridcolor\":\"white\",\"linecolor\":\"white\",\"ticks\":\"\"},\"radialaxis\":{\"gridcolor\":\"white\",\"linecolor\":\"white\",\"ticks\":\"\"}},\"ternary\":{\"bgcolor\":\"#E5ECF6\",\"aaxis\":{\"gridcolor\":\"white\",\"linecolor\":\"white\",\"ticks\":\"\"},\"baxis\":{\"gridcolor\":\"white\",\"linecolor\":\"white\",\"ticks\":\"\"},\"caxis\":{\"gridcolor\":\"white\",\"linecolor\":\"white\",\"ticks\":\"\"}},\"coloraxis\":{\"colorbar\":{\"outlinewidth\":0,\"ticks\":\"\"}},\"colorscale\":{\"sequential\":[[0.0,\"#0d0887\"],[0.1111111111111111,\"#46039f\"],[0.2222222222222222,\"#7201a8\"],[0.3333333333333333,\"#9c179e\"],[0.4444444444444444,\"#bd3786\"],[0.5555555555555556,\"#d8576b\"],[0.6666666666666666,\"#ed7953\"],[0.7777777777777778,\"#fb9f3a\"],[0.8888888888888888,\"#fdca26\"],[1.0,\"#f0f921\"]],\"sequentialminus\":[[0.0,\"#0d0887\"],[0.1111111111111111,\"#46039f\"],[0.2222222222222222,\"#7201a8\"],[0.3333333333333333,\"#9c179e\"],[0.4444444444444444,\"#bd3786\"],[0.5555555555555556,\"#d8576b\"],[0.6666666666666666,\"#ed7953\"],[0.7777777777777778,\"#fb9f3a\"],[0.8888888888888888,\"#fdca26\"],[1.0,\"#f0f921\"]],\"diverging\":[[0,\"#8e0152\"],[0.1,\"#c51b7d\"],[0.2,\"#de77ae\"],[0.3,\"#f1b6da\"],[0.4,\"#fde0ef\"],[0.5,\"#f7f7f7\"],[0.6,\"#e6f5d0\"],[0.7,\"#b8e186\"],[0.8,\"#7fbc41\"],[0.9,\"#4d9221\"],[1,\"#276419\"]]},\"xaxis\":{\"gridcolor\":\"white\",\"linecolor\":\"white\",\"ticks\":\"\",\"title\":{\"standoff\":15},\"zerolinecolor\":\"white\",\"automargin\":true,\"zerolinewidth\":2},\"yaxis\":{\"gridcolor\":\"white\",\"linecolor\":\"white\",\"ticks\":\"\",\"title\":{\"standoff\":15},\"zerolinecolor\":\"white\",\"automargin\":true,\"zerolinewidth\":2},\"scene\":{\"xaxis\":{\"backgroundcolor\":\"#E5ECF6\",\"gridcolor\":\"white\",\"linecolor\":\"white\",\"showbackground\":true,\"ticks\":\"\",\"zerolinecolor\":\"white\",\"gridwidth\":2},\"yaxis\":{\"backgroundcolor\":\"#E5ECF6\",\"gridcolor\":\"white\",\"linecolor\":\"white\",\"showbackground\":true,\"ticks\":\"\",\"zerolinecolor\":\"white\",\"gridwidth\":2},\"zaxis\":{\"backgroundcolor\":\"#E5ECF6\",\"gridcolor\":\"white\",\"linecolor\":\"white\",\"showbackground\":true,\"ticks\":\"\",\"zerolinecolor\":\"white\",\"gridwidth\":2}},\"shapedefaults\":{\"line\":{\"color\":\"#2a3f5f\"}},\"annotationdefaults\":{\"arrowcolor\":\"#2a3f5f\",\"arrowhead\":0,\"arrowwidth\":1},\"geo\":{\"bgcolor\":\"white\",\"landcolor\":\"#E5ECF6\",\"subunitcolor\":\"white\",\"showland\":true,\"showlakes\":true,\"lakecolor\":\"white\"},\"title\":{\"x\":0.05},\"mapbox\":{\"style\":\"light\"}}},\"xaxis\":{\"anchor\":\"y\",\"domain\":[0.0,1.0],\"title\":{\"text\":\"Year\"}},\"yaxis\":{\"anchor\":\"x\",\"domain\":[0.0,1.0],\"title\":{\"text\":\"Launches\"}},\"legend\":{\"title\":{\"text\":\"Organisation\"},\"tracegroupgap\":0},\"margin\":{\"t\":60}},                        {\"responsive\": true}                    ).then(function(){\n",
              "                            \n",
              "var gd = document.getElementById('4ac9a40a-410e-4f0e-8f84-ae413c13370a');\n",
              "var x = new MutationObserver(function (mutations, observer) {{\n",
              "        var display = window.getComputedStyle(gd).display;\n",
              "        if (!display || display === 'none') {{\n",
              "            console.log([gd, 'removed!']);\n",
              "            Plotly.purge(gd);\n",
              "            observer.disconnect();\n",
              "        }}\n",
              "}});\n",
              "\n",
              "// Listen for the removal of the full notebook cells\n",
              "var notebookContainer = gd.closest('#notebook-container');\n",
              "if (notebookContainer) {{\n",
              "    x.observe(notebookContainer, {childList: true});\n",
              "}}\n",
              "\n",
              "// Listen for the clearing of the current output cell\n",
              "var outputEl = gd.closest('.output');\n",
              "if (outputEl) {{\n",
              "    x.observe(outputEl, {childList: true});\n",
              "}}\n",
              "\n",
              "                        })                };                            </script>        </div>\n",
              "</body>\n",
              "</html>"
            ]
          },
          "metadata": {}
        }
      ]
    }
  ]
}